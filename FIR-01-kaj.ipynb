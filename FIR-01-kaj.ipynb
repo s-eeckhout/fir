{
 "cells": [
  {
   "cell_type": "markdown",
   "metadata": {},
   "source": [
    "# Assignment 1 - _Foundations of Information Retrieval 2024_\n",
    "\n",
    "This assignment is divided in 4 parts, which have to be delivered all together no later than 04/10/2023 at 23:59 (strict - no extensions will be granted!) via Canvas. Delivery of the assignment solutions is mandatory (_see grading conditions on Canvas and in slides of Lecture01_).\n",
    "\n",
    "We will use [ElasticSearch](https://www.elastic.co/) as search engine. It provides state-of-the-art tools to implement your own engine, index your documents, and let you focus on methodological aspects of search models and optimization. \n",
    "\n",
    "The assignment is about text-based Information Retrieval and it is structured in three parts:\n",
    "1. IR performance evaluation (implementation of performance metrics)\n",
    "2. Setting up a search engine, pre-processing and indexing using ElasticSearch (Indexing, Analyzers)\n",
    "3. Implementation and optimization of models of search (Similarity)\n",
    "\n",
    "\n",
    "This assignment contains exercises, marked with the section title __Exercise 01.(x)__, which are evaluated, and other sections that contain support code which you should study and use as it is. Write your answers between the comments `BEGIN ANSWER` and `END ANSWER`. \n",
    "\n",
    "_Note:_ the comment `#THIS IS GRADED!` in a section indicates that it will be graded.\n",
    "\n",
    "\n",
    "### Initial preparation (self-study)\n",
    "For the first part, it is good to acquire (or refresh) basic knowledge of Python. Please use the [Python tutorials](https://docs.python.org/3/tutorial/) if needed.\n",
    "\n",
    "For the second and third part of the assignment, please study yourself the [Getting Started guide](https://www.elastic.co/guide/en/elasticsearch/reference/current/getting-started.html) of ElasticSearch and get acquainted with the framework.\n"
   ]
  },
  {
   "cell_type": "markdown",
   "metadata": {},
   "source": [
    "***\n",
    "***\n",
    "***\n",
    "\n",
    "# PART 01 - Performance evaluation\n",
    "\n",
    "\n",
    "### Background information and reading\n",
    "Study the slides of Lecture 01 (available on Canvas) and the reference book chapter (Christopher D. Manning, Prabhakar Raghavan and Hinrich Schütze, Introduction to Information Retrieval, [Chapter 8, Evaluation in information retrieval](http://nlp.stanford.edu/IR-book/pdf/08eval.pdf), Cambridge University Press. 2008)\n",
    "\n",
    "### Basic concepts\n",
    "Suppose the set of relevant documents (the document identifiers - _doc-IDs_) is called `relevant`, then we  define it as follows (in Python):"
   ]
  },
  {
   "cell_type": "code",
   "execution_count": 22,
   "metadata": {},
   "outputs": [],
   "source": [
    "relevant = set([2, 3, 5, 8, 13, 17, 21, 34, 38])"
   ]
  },
  {
   "cell_type": "markdown",
   "metadata": {},
   "source": [
    "A perfect run would retrieve exactly these 9 documents in any order. Now, suppose the list of retrieved documents (the document identifiers - _doc-IDs_) is called `retrieved`, and contains the following _doc-IDs_:"
   ]
  },
  {
   "cell_type": "code",
   "execution_count": 23,
   "metadata": {},
   "outputs": [],
   "source": [
    "retrieved = [14, 4, 2, 18, 16, 8, 46, 32, 17, 34, 33, 22, 47, 39, 11]"
   ]
  },
  {
   "cell_type": "markdown",
   "metadata": {},
   "source": [
    "One of the simplest evaluation measures is the _Success at rank 1_, i.e. `Is the first document retrieved a relevant document?`\n",
    "\n",
    "_Success at rank 1_ returns 1 if the first document is relevant, and 0 otherwise. A possible implementation is: "
   ]
  },
  {
   "cell_type": "code",
   "execution_count": 24,
   "metadata": {},
   "outputs": [
    {
     "data": {
      "text/plain": [
       "0"
      ]
     },
     "execution_count": 24,
     "metadata": {},
     "output_type": "execute_result"
    }
   ],
   "source": [
    "def success_at_1 (relevant, retrieved):\n",
    "    if len(retrieved) > 0 and retrieved[0] in relevant:\n",
    "        return 1\n",
    "    else:\n",
    "        return 0\n",
    "\n",
    "success_at_1(relevant, retrieved)"
   ]
  },
  {
   "cell_type": "markdown",
   "metadata": {},
   "source": [
    "The first retrieved documentid is 14 which is not in the set of relevant documents, so the `success_at_1` is 0.\n",
    "\n",
    "_________________\n",
    "\n",
    "> Note how easy it is to check if an item occurs in a Python set or list by using the keyword: `in`. Similarly, you can loop over all items in a set of list with: \n",
    "`for doc in retrieved:`, \n",
    "where doc will refer to each item in the set or list. \n",
    "\n",
    "Be sure to use the internet to sharpen your knowledge about Python constructs, for instance on [Python list slicing](https://duckduckgo.com/?q=python+list+slicing). Also note that the code above checks if at least one document is retrieved to avoid an index out of bounds exception (i.e. we avoid to access an empty vector).\n",
    "\n",
    "> ___Suggestion:___ _to be sure of the correctness of the implementation of the performance metrics, you can compute their values manually and compare them with those computed by your functions. This is important, as you will use these metrics for later exercises and to compare the results of differentmodels._"
   ]
  },
  {
   "cell_type": "markdown",
   "metadata": {},
   "source": [
    "## Preparation exercise: _Success at k_\n",
    "The measure _Success at k_ returns 1 if a relevant document is among the first _k_ documents retrieved and zero otherwise.\n",
    "\n",
    "> Success at _k_ measures are well-suited in case there is typically only one relevant document (or retrieving one relevant document is enough).\n",
    "\n",
    " __Implement _Success at 5_ below.__ \n",
    " > The correct result is 1."
   ]
  },
  {
   "cell_type": "code",
   "execution_count": 25,
   "metadata": {},
   "outputs": [
    {
     "data": {
      "text/plain": [
       "1"
      ]
     },
     "execution_count": 25,
     "metadata": {},
     "output_type": "execute_result"
    }
   ],
   "source": [
    "def success_at_5(relevant, retrieved):\n",
    "    # BEGIN ANSWER\n",
    "    for i in range(min(5, len(retrieved))):\n",
    "        if retrieved[i] in relevant:\n",
    "            return 1\n",
    "    return 0\n",
    "    # END ANSWER\n",
    "    \n",
    "success_at_5(relevant, retrieved)"
   ]
  },
  {
   "cell_type": "markdown",
   "metadata": {},
   "source": [
    "Similarly __implement success at rank 10__\n",
    "\n",
    "> The correct result is 1."
   ]
  },
  {
   "cell_type": "code",
   "execution_count": 26,
   "metadata": {},
   "outputs": [
    {
     "data": {
      "text/plain": [
       "1"
      ]
     },
     "execution_count": 26,
     "metadata": {},
     "output_type": "execute_result"
    }
   ],
   "source": [
    "def success_at_10(relevant, retrieved):\n",
    "    # BEGIN ANSWER\n",
    "    for i in range(min(10, len(retrieved))):\n",
    "        if retrieved[i] in relevant:\n",
    "            return 1\n",
    "    return 0\n",
    "    # END ANSWER\n",
    "    \n",
    "success_at_10(relevant, retrieved)"
   ]
  },
  {
   "cell_type": "markdown",
   "metadata": {},
   "source": [
    "## Exercise 01.A: _Precision, Recall and F-measure_\n",
    "__1. Implement _Precision_ using Formula 8.1 from [Manning, Raghavan and Schütze](http://nlp.stanford.edu/IR-book).__\n",
    "\n",
    ">_Hint:_ one can count the number of documents in a list using the built-in Python function [len()](https://docs.python.org/3/library/functions.html#len) \\\n",
    "> _example:_ `len(retrieved)` for the number of retrieved documents. "
   ]
  },
  {
   "cell_type": "code",
   "execution_count": 27,
   "metadata": {},
   "outputs": [
    {
     "data": {
      "text/plain": [
       "0.26666666666666666"
      ]
     },
     "execution_count": 27,
     "metadata": {},
     "output_type": "execute_result"
    }
   ],
   "source": [
    "#THIS IS GRADED!\n",
    "\n",
    "def precision(relevant, retrieved):\n",
    "    # BEGIN ANSWER\n",
    "    relCount = 0\n",
    "    for i in range(len(retrieved)):\n",
    "        if retrieved[i] in relevant:\n",
    "            relCount += 1\n",
    "    return relCount / len(retrieved)\n",
    "    # END ANSWER\n",
    "    \n",
    "precision(relevant, retrieved)"
   ]
  },
  {
   "cell_type": "markdown",
   "metadata": {},
   "source": [
    "__2. Implement _Recall_ using Formula 8.2 from [Manning, Raghavan and Schütze](http://nlp.stanford.edu/IR-book).__"
   ]
  },
  {
   "cell_type": "code",
   "execution_count": 28,
   "metadata": {},
   "outputs": [
    {
     "data": {
      "text/plain": [
       "0.4444444444444444"
      ]
     },
     "execution_count": 28,
     "metadata": {},
     "output_type": "execute_result"
    }
   ],
   "source": [
    "#THIS IS GRADED!\n",
    "\n",
    "def recall(relevant, retrieved):\n",
    "    # BEGIN ANSWER\n",
    "    relCount = 0\n",
    "    for i in range(len(retrieved)):\n",
    "        if retrieved[i] in relevant:\n",
    "            relCount += 1\n",
    "    return relCount / len(relevant)\n",
    "    # END ANSWER\n",
    "    \n",
    "recall(relevant, retrieved)"
   ]
  },
  {
   "cell_type": "markdown",
   "metadata": {},
   "source": [
    "__3. Implement the balanced F measure (_F_ with β=1) using Formula 8.6 from [Manning, Raghavan and Schütze](http://nlp.stanford.edu/IR-book).__\n",
    "\n",
    "> Tip: you may reuse your implementations of precision and recall"
   ]
  },
  {
   "cell_type": "code",
   "execution_count": 29,
   "metadata": {},
   "outputs": [
    {
     "data": {
      "text/plain": [
       "0.33333333333333337"
      ]
     },
     "execution_count": 29,
     "metadata": {},
     "output_type": "execute_result"
    }
   ],
   "source": [
    "#THIS IS GRADED!\n",
    "\n",
    "def f_measure(relevant, retrieved):\n",
    "    # BEGIN ANSWER\n",
    "    beta = 1\n",
    "    prec = precision(relevant, retrieved)\n",
    "    rec = recall(relevant, retrieved)\n",
    "    return (2 * prec * rec) / (prec + rec)\n",
    "    # END ANSWER\n",
    "    \n",
    "f_measure(relevant, retrieved)"
   ]
  },
  {
   "cell_type": "markdown",
   "metadata": {},
   "source": [
    "## Exercise 01.B: _Precision at rank k_ and  _R-Precision_\n",
    "\n",
    "Precision, Recall and F are _set_-based measures and suited for unranked lists of documents. If our search system returns a ranked _list_ of results, we can measure precision for several cut-off levels _k_ in the ranked list, i.e. we evaluate the relevance of the TOP-_k_ retrieved documents _(see lecture 01 slides and the book chapter)_. \n",
    "\n",
    "\n",
    "**1. Implement the function `precision_at_k()` that measures the precision at rank _k_**\n",
    "\n",
    "> Interesting fact: For _k_=1, the _Precision at rank 1_ would be the samen as _Success at rank 1_ (why?) "
   ]
  },
  {
   "cell_type": "code",
   "execution_count": 30,
   "metadata": {},
   "outputs": [
    {
     "name": "stdout",
     "output_type": "stream",
     "text": [
      "Pr@1: 0.00\n",
      "Pr@5: 0.07\n",
      "Pr@10: 0.27\n"
     ]
    }
   ],
   "source": [
    "#THIS IS GRADED!\n",
    "\n",
    "def precision_at_k(relevant, retrieved, k):\n",
    "    # BEGIN ANSWER\n",
    "    relCount = 0\n",
    "    for i in range(min(len(retrieved), k)):\n",
    "        if retrieved[i] in relevant:\n",
    "            relCount += 1\n",
    "    return relCount / len(retrieved)\n",
    "    # END ANSWER\n",
    "\n",
    "print('Pr@1: %1.2f' % precision_at_k(relevant, retrieved, k=1))\n",
    "print('Pr@5: %1.2f' % precision_at_k(relevant, retrieved, k=5))\n",
    "print('Pr@10: %1.2f' % precision_at_k(relevant, retrieved, k=10))\n"
   ]
  },
  {
   "cell_type": "markdown",
   "metadata": {},
   "source": [
    "__2. Implement R-Precision as defined in Chapter 8 of [Manning, Raghavan and Schütze](http://nlp.stanford.edu/IR-book)__."
   ]
  },
  {
   "cell_type": "code",
   "execution_count": 46,
   "metadata": {},
   "outputs": [
    {
     "data": {
      "text/plain": [
       "0.3333333333333333"
      ]
     },
     "execution_count": 46,
     "metadata": {},
     "output_type": "execute_result"
    }
   ],
   "source": [
    "#THIS IS GRADED!\n",
    "\n",
    "def r_precision(relevant, retrieved):\n",
    "    # BEGIN ANSWER\n",
    "    relCount = 0\n",
    "    for i in range(min(len(retrieved), len(relevant))):\n",
    "        if retrieved[i] in relevant:\n",
    "            relCount += 1\n",
    "    return relCount / len(relevant)\n",
    "    # END ANSWER\n",
    "    \n",
    "r_precision(relevant, retrieved)"
   ]
  },
  {
   "cell_type": "markdown",
   "metadata": {},
   "source": [
    "## Exercise 01.D:  Interpolated precision at _recall_ X\n",
    "\n",
    "Another way to address ranked retrieval is to measure precision for several _recall_ levels _X_.\n",
    "\n",
    "__Implement the function `interpolated_precision_at_recall_X()` that measures the interpolated precision at recall level _X_ as defined by formula 8.7 of [Manning, Raghavan and Schütze](http://nlp.stanford.edu/IR-book).__\n",
    "\n",
    "> Tip: calculate for each rank the recall. If the recall is greater than or equal to X, \n",
    "> calculate the precision. Keep the highest (maximum) precision of those to be returned at the end."
   ]
  },
  {
   "cell_type": "code",
   "execution_count": 32,
   "metadata": {},
   "outputs": [
    {
     "name": "stdout",
     "output_type": "stream",
     "text": [
      "Pr_i@Re01: 0.40\n",
      "Pr_i@Re02: 0.40\n",
      "Pr_i@Re03: 0.40\n",
      "Pr_i@Re04: 0.40\n",
      "Pr_i@Re05: 0.00\n",
      "Pr_i@Re06: 0.00\n",
      "Pr_i@Re07: 0.00\n",
      "Pr_i@Re08: 0.00\n",
      "Pr_i@Re09: 0.00\n",
      "Pr_i@Re10: 0.00\n"
     ]
    }
   ],
   "source": [
    "#THIS IS GRADED!\n",
    "\n",
    "def interpolated_precision_at_recall_X (relevant, retrieved, X):\n",
    "    # BEGIN ANSWER\n",
    "    relFound = 0\n",
    "    highestPrec = 0\n",
    "    for i in range (len(retrieved)):\n",
    "        if retrieved[i] in relevant:\n",
    "            relFound += 1\n",
    "        calcRecall = relFound / len(relevant)\n",
    "        if calcRecall >= X:\n",
    "            calcPrecision = relFound / (i + 1)\n",
    "            highestPrec = max(highestPrec, calcPrecision)\n",
    "    return highestPrec\n",
    "    # END ANSWER\n",
    "    \n",
    " \n",
    "\n",
    "print('Pr_i@Re01: %1.2f' % interpolated_precision_at_recall_X(relevant, retrieved, X=0.1))\n",
    "print('Pr_i@Re02: %1.2f' % interpolated_precision_at_recall_X(relevant, retrieved, X=0.2))\n",
    "print('Pr_i@Re03: %1.2f' % interpolated_precision_at_recall_X(relevant, retrieved, X=0.3))\n",
    "print('Pr_i@Re04: %1.2f' % interpolated_precision_at_recall_X(relevant, retrieved, X=0.4))\n",
    "print('Pr_i@Re05: %1.2f' % interpolated_precision_at_recall_X(relevant, retrieved, X=0.5))\n",
    "print('Pr_i@Re06: %1.2f' % interpolated_precision_at_recall_X(relevant, retrieved, X=0.6))\n",
    "print('Pr_i@Re07: %1.2f' % interpolated_precision_at_recall_X(relevant, retrieved, X=0.7))\n",
    "print('Pr_i@Re08: %1.2f' % interpolated_precision_at_recall_X(relevant, retrieved, X=0.8))\n",
    "print('Pr_i@Re09: %1.2f' % interpolated_precision_at_recall_X(relevant, retrieved, X=0.9))\n",
    "print('Pr_i@Re10: %1.2f' % interpolated_precision_at_recall_X(relevant, retrieved, X=1))"
   ]
  },
  {
   "cell_type": "markdown",
   "metadata": {},
   "source": [
    "## Exercise 01.E:  _Average Precision_\n",
    "\n",
    "For a single information need, _Average Precision_ is the average of the precision value obtained for the set of top k documents existing after each relevant document is retrieved (see [Manning, Raghavan and Schütze](http://nlp.stanford.edu/IR-book), Pages 159 and 160). \n",
    "\n",
    "__Implement _Average Precision_ for a single information need.__"
   ]
  },
  {
   "cell_type": "code",
   "execution_count": 42,
   "metadata": {},
   "outputs": [
    {
     "data": {
      "text/plain": [
       "0.16666666666666669"
      ]
     },
     "execution_count": 42,
     "metadata": {},
     "output_type": "execute_result"
    }
   ],
   "source": [
    "#THIS IS GRADED!\n",
    "\n",
    "def average_precision(relevant, retrieved):\n",
    "    # BEGIN ANSWER\n",
    "    accumPrec = 0\n",
    "    relCount = 0\n",
    "\n",
    "    for i in range(len(retrieved)):\n",
    "        if retrieved[i] in relevant:\n",
    "            accumPrec += precision_at_k(relevant, retrieved, i + 1)\n",
    "            relCount += 1\n",
    "\n",
    "    if relCount == 0:\n",
    "        return 0\n",
    "    else:\n",
    "        return accumPrec / relCount\n",
    "    # END ANSWER\n",
    "\n",
    "average_precision(relevant, retrieved)"
   ]
  },
  {
   "cell_type": "markdown",
   "metadata": {},
   "source": [
    "***\n",
    "## Performance measures in TREC benchmarks\n",
    "\n",
    "The relevance judgments are provided by TREC in so-called _\"qrels\"_ files that look as follows:\n",
    "\n",
    "    1000 Q0 1341 1\n",
    "    1000 Q0 1231 0\n",
    "    1001 Q0 12332 1\n",
    "     ...\n",
    "\n",
    "The columns of the _qrels_ file contain:\n",
    "1. the query identifier\n",
    "2. the query number within that topic (currently unused and should always be Q0)\n",
    "3. the document identifier that was examined by the judges\n",
    "4. the relevance of the document (_1_:relevant; _0_: not relevant).\n",
    "\n",
    "Below we provide some Python code that reads the _qrels_ and the _run_. The qrels will be put in the Python dictionary `all_relevant`. A [Python dictionary](https://docs.python.org/3/tutorial/datastructures.html#dictionaries) provides quick lookup of a set of values given a key. We will use the `query_id` as a key, and a [Python set](https://docs.python.org/3/tutorial/datastructures.html#sets) of relevant document identifiers. For the partial qrels file above, `all_relevant` would look as follows:\n",
    "\n",
    "    {\n",
    "        \"1000\": set([\"1341\", \"1231\"]),\n",
    "        \"1001\": set([\"12332\"])\n",
    "    }\n",
    "    \n",
    "We will use a dictionary called `all_retrieved` with `query_id` as key, and as value a [Python list](https://docs.python.org/3/tutorial/introduction.html#lists) of document identifiers retrieved by the IR system:\n",
    "\n",
    "    {\n",
    "        \"1000\": [\"1341\", \"12346, \"2345\"],\n",
    "        \"1001\": [..., ..., ...],\n",
    "        ...\n",
    "    }\n",
    "\n",
    "Note that, with this data structure, for each `query_id` we can easily access the list of retrieved and relevant documents, and compute the performance metrics. We can then average these measures over all the queries to compute the mean performance of the IR system on the given retrieval task.\n",
    "\n",
    "Please examine the code below, and make sure you understand every line. Use the Python documentation where needed."
   ]
  },
  {
   "cell_type": "markdown",
   "metadata": {},
   "source": [
    "### DATA: the TREC genomics benchmark\n",
    "\n",
    "For the following exercises, we will use a subset of the TREC genomics document collection and queries. \n",
    "It is stored in the folder `data01/` in the directory where you have been instructed to place the assignment notebooks (`/`).\n",
    "\n",
    "The collections contains:\n",
    "\n",
    "* `FIR-s05-medline.json` (the collection in Elasticsearch batch format - because of its size it cannot be indexed with a single curl command!)\n",
    "* `FIR-s05-training-queries-simple.txt` (test queries)\n",
    "* `FIR-s05-training-qrels.txt` (the \"relevance judgements\" for the test queries, i.e. the correct answers)\n",
    "\n",
    "> ___Note___ that these files contain a subset of the documents and queries of the TREC genomics track benchmark, to facilitate experimentations with less computation time needed.\n",
    "> The original files are also included in the `data01/` directory, withouth the `FIR-s05-` prefix (you may use them for the final project).\n",
    "\n",
    "To make things easy, the data is already provided in Elasticsearch' batch processing format. \n",
    "Inspect the collection file in the terminal:\n",
    "\n",
    "`head FIR-s05-medline.json`\n",
    "\n",
    "This shows the first 5 documents in the collection (in JSON format prepared for ElasticSearch, as you have seen in the tutorial)\n",
    "\n",
    "#### Baseline model and results\n",
    "We also provide the list of retrieved documents by a _baseline_ model, in the file `data01/baseline.run`. For each query, it contains the list of document IDs of the retrieved documents (to be compared with those in the qrels file). We use this file in the examples and evaluation exercises below. "
   ]
  },
  {
   "cell_type": "code",
   "execution_count": 34,
   "metadata": {},
   "outputs": [],
   "source": [
    "def read_qrels_file(qrels_file):  # reads the content of he qrels file\n",
    "    trec_relevant = dict()  # query_id -> set([docid1, docid2, ...])\n",
    "    with open(qrels_file, 'r') as qrels:\n",
    "        for line in qrels:\n",
    "            (qid, q0, doc_id, rel) = line.strip().split()\n",
    "            if qid not in trec_relevant:\n",
    "                trec_relevant[qid] = set()\n",
    "            if (rel == \"1\"):\n",
    "                trec_relevant[qid].add(doc_id)\n",
    "    return trec_relevant\n",
    "\n",
    "def read_run_file(run_file):  \n",
    "    # read the content of the run file produced by our IR system \n",
    "    # (in the following exercises you will create your own run_files)\n",
    "    trec_retrieved = dict()  # query_id -> [docid1, docid2, ...]\n",
    "    with open(run_file, 'r') as run:\n",
    "        for line in run:\n",
    "            (qid, q0, doc_id, rank, score, tag) = line.strip().split()\n",
    "            if qid not in trec_retrieved:\n",
    "                trec_retrieved[qid] = []\n",
    "            trec_retrieved[qid].append(doc_id) \n",
    "    return trec_retrieved\n",
    "    \n",
    "\n",
    "def read_eval_files(qrels_file, run_file):\n",
    "    return read_qrels_file(qrels_file), read_run_file(run_file)\n",
    "\n",
    "(all_relevant, all_retrieved) = read_eval_files('data01/FIR-s05-training-qrels.txt', 'data01/baseline.run')"
   ]
  },
  {
   "cell_type": "markdown",
   "metadata": {},
   "source": [
    "### _Number of queries_ and _number of retrieved documents per query_\n",
    " \n",
    "The following code counts the number of queries evaluated in the file `baseline.run` (provided in the `data01/` folder, containing the list of doc-ids retrieved using a baseline model) and prints it (use the result from the cell above). For each query, it also prints the number of documents that were retrieved for that query."
   ]
  },
  {
   "cell_type": "code",
   "execution_count": 35,
   "metadata": {},
   "outputs": [
    {
     "name": "stdout",
     "output_type": "stream",
     "text": [
      "Number of retrieved documents: 38\n",
      "Docs retrieved for query #1: 1000\n",
      "Docs retrieved for query #3: 1000\n",
      "Docs retrieved for query #4: 1000\n",
      "Docs retrieved for query #5: 1000\n",
      "Docs retrieved for query #6: 1000\n",
      "Docs retrieved for query #7: 1000\n",
      "Docs retrieved for query #8: 1000\n",
      "Docs retrieved for query #9: 1000\n",
      "Docs retrieved for query #10: 1000\n",
      "Docs retrieved for query #11: 1000\n",
      "Docs retrieved for query #12: 1000\n",
      "Docs retrieved for query #13: 1000\n",
      "Docs retrieved for query #14: 1000\n",
      "Docs retrieved for query #15: 1000\n",
      "Docs retrieved for query #16: 1000\n",
      "Docs retrieved for query #18: 1000\n",
      "Docs retrieved for query #20: 1000\n",
      "Docs retrieved for query #22: 1000\n",
      "Docs retrieved for query #23: 1000\n",
      "Docs retrieved for query #24: 1000\n",
      "Docs retrieved for query #25: 1000\n",
      "Docs retrieved for query #27: 1000\n",
      "Docs retrieved for query #28: 1000\n",
      "Docs retrieved for query #29: 1000\n",
      "Docs retrieved for query #31: 1000\n",
      "Docs retrieved for query #32: 1000\n",
      "Docs retrieved for query #34: 1000\n",
      "Docs retrieved for query #36: 1000\n",
      "Docs retrieved for query #37: 1000\n",
      "Docs retrieved for query #38: 1000\n",
      "Docs retrieved for query #39: 1000\n",
      "Docs retrieved for query #40: 1000\n",
      "Docs retrieved for query #42: 1000\n",
      "Docs retrieved for query #44: 1000\n",
      "Docs retrieved for query #45: 1000\n",
      "Docs retrieved for query #46: 1000\n",
      "Docs retrieved for query #48: 1000\n",
      "Docs retrieved for query #50: 1000\n"
     ]
    }
   ],
   "source": [
    "print('Number of retrieved documents: %d' % len(all_retrieved))\n",
    "\n",
    "for qid in all_retrieved:\n",
    "    print ('Docs retrieved for query #{}: {}'.format(qid, str(len(all_retrieved[qid]))))"
   ]
  },
  {
   "cell_type": "markdown",
   "metadata": {},
   "source": [
    "For your own understanding, __inspect the structure and content of the `all_retrieved` and `all_relevant` data structures__ to understand them better. Use the `print()` function to see the content of the data structures."
   ]
  },
  {
   "cell_type": "code",
   "execution_count": 36,
   "metadata": {},
   "outputs": [
    {
     "name": "stdout",
     "output_type": "stream",
     "text": [
      "RETRIEVED:\n",
      "dict_keys(['1', '3', '4', '5', '6', '7', '8', '9', '10', '11', '12', '13', '14', '15', '16', '18', '20', '22', '23', '24', '25', '27', '28', '29', '31', '32', '34', '36', '37', '38', '39', '40', '42', '44', '45', '46', '48', '50'])\n",
      "['11929828', '11751903', '12384701', '12065641', '11980715', '12126481', '12455049', '12444545', '12431783', '12204896', '12119358', '12242284', '11886527', '11779850', '12203364', '12110586', '11767002', '12115564', '11827966', '12112322', '11762751', '12368211', '12055678', '11940356', '11989975', '11862714', '11756412', '12203371', '12173048', '11809764', '12124333', '11879190', '12080324', '12079680', '12363184', '12214254', '11950701', '11882322', '12098019', '12495933', '11948417', '11931851', '12151347', '12161501', '11953864', '11795494', '12411199', '12171792', '12445676', '12014641', '12167152', '12185267', '11783178', '12226108', '12485877', '11724777', '11870216', '12242109', '12088113', '12488548', '12466360', '12100577', '12203123', '12231068', '12012326', '12080472', '12054658', '12517948', '12574499', '12466960', '12171907', '12466968', '11906173', '12075114', '11971966', '12085346', '12455373', '12150958', '12381668', '11884043', '12054572', '12111504', '11978170', '12417334', '12208764', '12645611', '11788578', '12162406', '11884607', '11965498', '12018119', '11732804', '12529993', '11792416', '12371965', '12468628', '12112374', '12460905', '12148460', '12117781', '12467221', '12094258', '12464677', '12131366', '12396717', '12503074', '12441292', '11888912', '12397020', '12140753', '12429910', '12502791', '11889599', '12175902', '12467237', '12028792', '11835401', '11756433', '12241561', '11895758', '12138401', '12234290', '12009890', '12213839', '11877274', '11971974', '11993511', '11940659', '11982759', '11937514', '11956082', '12138399', '11914636', '11890736', '12503676', '12231201', '12118335', '11889192', '11864973', '12429907', '12384533', '12096344', '12042314', '12060451', '12047142', '12032867', '12559991', '11755166', '11872643', '12429932', '11895908', '12232764', '12165850', '12351630', '12242655', '11854029', '12032842', '12503075', '12119131', '12085261', '12211068', '12432547', '11895478', '12529257', '12054565', '11911964', '12408868', '12077144', '12070150', '12473598', '12525161', '12359725', '11991650', '12551844', '11874574', '12586062', '12411392', '12066225', '11996013', '11859075', '11861293', '12457721', '12036922', '12054599', '12554697', '12151346', '12069688', '12615711', '12569381', '12068014', '12364325', '12359217', '12354751', '11923206', '11896535', '12029476', '11884622', '12391142', '11935311', '12107444', '12064478', '12191605', '11896606', '12029474', '11961668', '11907380', '12482975', '12193749', '12629174', '11929951', '12519948', '12391153', '12447691', '11925596', '12131363', '11943729', '11824903', '12507935', '12174876', '11934814', '12386817', '11884049', '11920733', '11900493', '11906187', '12441293', '12163013', '11978846', '12453415', '12490592', '12388111', '12553912', '12034820', '11846217', '12196289', '12592386', '11907576', '12413889', '11896605', '12429908', '12531699', '12105204', '11839796', '12209809', '12141135', '12509454', '12420227', '12007790', '11900595', '11983448', '12234612', '12244303', '12438259', '12391549', '12351729', '12517802', '12165651', '12438545', '12455372', '11960383', '12358910', '12244092', '11858759', '12063565', '11795482', '11744034', '12228893', '12093740', '12559964', '12135491', '12145339', '12483537', '12170178', '11940657', '11812999', '11879178', '11895756', '11867622', '11872961', '12453623', '11988738', '12045216', '11891212', '12566305', '12388812', '12208509', '12497655', '12549901', '11731327', '11875067', '12351382', '12054639', '12215532', '12063555', '12027450', '12439924', '12419251', '12325036', '12359245', '11889117', '12234520', '12520032', '12191604', '12123447', '12107546', '11976684', '12134008', '12058071', '11978545', '11749386', '12064460', '11850123', '12054750', '11839806', '12203782', '12223188', '11964410', '12530059', '12052526', '11968052', '12388108', '12446693', '12368490', '12509448', '12235258', '12006500', '12019323', '12421491', '12406902', '11893452', '12086850', '12114513', '12468090', '11959850', '12470340', '12569370', '12514789', '12414627', '12586749', '12482987', '12234611', '11823472', '11983830', '12114499', '11964091', '11891112', '12368904', '12193029', '12100192', '12081504', '12538831', '12450898', '11730319', '12451490', '11937319', '12363284', '11904289', '11965547', '12200968', '12242299', '11986366', '12007188', '12560069', '12237306', '12501191', '12144826', '12520306', '12242269', '12190313', '12204665', '12176997', '11969268', '12183400', '12472891', '12082095', '11964308', '11855825', '11852246', '11960485', '11919719', '12036957', '12505444', '12239161', '12360404', '12082090', '12031503', '12056836', '11908956', '11809910', '12200702', '12127561', '11782491', '11892838', '11856766', '12540052', '11801729', '12393215', '11848612', '11897490', '12153616', '12413951', '12153614', '12558992', '12574211', '12032841', '12444602', '12223541', '12397086', '12135477', '11956069', '12527194', '12419309', '12457850', '12051756', '12209735', '12499268', '12420225', '12473607', '11824896', '12438101', '12438214', '11967266', '12076323', '12101234', '11789669', '12122044', '12401786', '12362273', '11973275', '11779707', '12384248', '11827960', '12209089', '11914059', '12203811', '12483522', '12406077', '12431050', '12586340', '12193698', '11812792', '12459453', '12360581', '12176039', '12527204', '12486113', '12106799', '12082147', '12190878', '12137233', '12356764', '12234822', '12213311', '12108540', '12548552', '12410230', '12506196', '12370286', '12354750', '11807175', '12237154', '11932902', '12151395', '11809822', '11907188', '12069288', '12472882', '12023299', '12154060', '12433841', '12504222', '12000750', '12191602', '12052871', '12558997', '11923589', '12201736', '12084720', '11917129', '12429938', '12239175', '11880333', '12231382', '11943203', '12182878', '12130660', '11971762', '12393857', '12574114', '11836553', '12136008', '11960010', '12388661', '12093738', '12147251', '11893918', '12230554', '12052892', '11895924', '11909607', '11774038', '12084709', '12217326', '12176996', '12097295', '12362432', '12149231', '12153166', '11965495', '11956195', '12371905', '11962755', '12203814', '12007147', '12115727', '12198773', '11920194', '11854065', '11815601', '11909854', '12543805', '12533508', '12149264', '12147293', '12203396', '12181191', '11889563', '12417711', '12028440', '12167697', '11784717', '12047228', '12069500', '12020688', '12055072', '11790553', '12536077', '12171899', '12085232', '11925459', '12212252', '12176053', '12191495', '11926591', '12134018', '12167164', '11930217', '12406820', '11786526', '12050171', '12414652', '12551955', '11888667', '12050228', '12003786', '11959800', '12118331', '12394763', '12363035', '11978812', '11751853', '12364324', '12167712', '11960489', '12543798', '12414632', '11979431', '12171570', '12417922', '12145426', '11916239', '12097586', '12483540', '12012012', '11964043', '12372033', '12021049', '12214248', '12202537', '11906209', '11978854', '11988847', '12424250', '12007430', '11964095', '12186557', '11894409', '11895474', '12237340', '11907280', '11925434', '12084059', '12213824', '11943680', '12444147', '12428805', '12141529', '12039044', '12455972', '12437585', '11770002', '11991759', '11960696', '11972334', '12119352', '12445196', '12480170', '12242547', '11980681', '12431056', '12030372', '12400006', '12467528', '12354109', '12097298', '11955955', '12514295', '12479364', '11980914', '12372883', '12062209', '12181188', '12144177', '11905997', '12054478', '12483533', '12127058', '12411494', '12051885', '12378514', '12421825', '12193463', '12509443', '11703659', '12206996', '12479233', '12403788', '11846675', '11956320', '11741787', '11960023', '12194965', '11978964', '12032846', '12007419', '12209584', '11956569', '12134626', '12401721', '12139449', '11792567', '11950532', '12071639', '12123335', '12086907', '12101248', '11992406', '12395374', '12176732', '11856758', '11795596', '12198493', '12058012', '11980642', '11833610', '12492473', '12082018', '12393602', '11942857', '12388824', '12056846', '11920685', '12169270', '12387894', '12200668', '12485415', '12482715', '12124331', '11973613', '11761428', '12094616', '12359750', '12399461', '12419254', '12162819', '12384231', '12528769', '12027951', '12243747', '12358724', '12408843', '12055097', '12460746', '11800393', '11849381', '11896531', '12064484', '12093892', '11779854', '12111696', '12482591', '12203366', '11961118', '12530065', '11958829', '12244100', '11955524', '12543784', '12559392', '11978861', '12113477', '12201912', '11937029', '12564808', '12466958', '12359775', '12114317', '11950843', '12535613', '11914273', '12093828', '11741961', '11925438', '11764278', '12527891', '11897710', '12517147', '12615719', '12360402', '12375019', '12221087', '12189148', '12384442', '11885966', '12151336', '12203369', '12368297', '11897711', '12220515', '12398824', '11956076', '11994454', '12181432', '11912144', '11934646', '12009866', '12194819', '12386808', '11884587', '12438102', '12561543', '12574144', '12191606', '11967896', '11796334', '12198495', '12031795', '12500177', '12077337', '12388268', '12126060', '12393707', '11891928', '12062723', '12497626', '11904361', '12204542', '12015083', '12017475', '12381275', '12032833', '11699875', '12208362', '12105223', '12071839', '12438260', '12459177', '12369731', '12468029', '11804611', '12045889', '12023518', '12005175', '12188924', '12131560', '12482824', '12173036', '12163178', '11806752', '11913954', '12215489', '12242660', '11865034', '12093152', '12444011', '12056817', '11755159', '12522122', '12077559', '12242291', '11897568', '12012007', '12011445', '12384985', '12181435', '11891238', '12123804', '12021179', '12364332', '12393007', '12205095', '11847114', '12598602', '12206816', '11877323', '12472895', '12149446', '11931974', '12429812', '12543778', '12054663', '12167650', '11953863', '11988074', '12594849', '12391149', '12151228', '12558068', '12112371', '11896679', '11892928', '12089144', '11784718', '12500196', '12028384', '12438254', '11749372', '12424251', '11952833', '12037205', '12082174', '12107172', '12176128', '11694027', '12605680', '12504894', '12427762', '12423237', '11939794', '12409291', '12133470', '11877280', '11986789', '11767000', '11925442', '12095911', '12200442', '12222803', '12107050', '12044798', '12135487', '12124353', '12175010', '12513833', '12555069', '12028130', '12213812', '12551992', '11912249', '12558976', '12370293', '12361706', '12160213', '12370812', '12164392', '12504091', '11822171', '12058069', '11877294', '12213489', '12352668', '11859072', '12396663', '11755955', '12435809', '12135746', '12097601', '11980904', '12594832', '12089228', '11732751', '12208959', '11858739', '12595470', '11864977', '11744734', '11771655', '11930219', '11777929', '11795484', '11940578', '12565178', '12093798', '11756441', '12543454', '12127156', '12098208', '12048215', '12062189', '11991199', '12209512', '12102637', '12203831', '12074548', '12213594', '12423251', '12230870', '11927676', '12391593', '12188021', '12474524', '12460740', '11965359', '11888297', '11968121', '11848719', '12382118', '12459448', '12145208', '12010562', '12434298', '12538351', '12097497', '12077122', '11882999', '12244058', '11976320', '12176113', '12009519', '12081468', '12241107', '12011094', '11792870', '12393858', '12051686', '12444971', '12110791', '11781325', '12087103', '12506070', '12067754', '11821146', '11880144', '12237126', '12091553', '12051728', '11983899', '11934664', '12373416', '12358767', '11983008', '12629185', '12530530', '12444032', '12107686', '11847214', '12047911', '12193711', '11865083', '12453050', '12175009', '11956220', '12351658', '12377953', '12528768', '12114204', '12517926', '12377357', '12324261', '12371858', '12450388', '12132996', '12575984', '12088288', '12082613', '12091253', '11940567', '12359219', '12444016', '11995814', '11960380', '11902114', '11875189', '12147289', '12122006', '11983694', '11932171', '12205043', '12093739', '12095935']\n",
      "['12167152', '12435397', '12370291', '12036890', '11761710', '12645611', '11937514', '12018119', '12527194', '12148460', '11993511', '12058964', '12028792', '12503676', '12231201', '12234520', '11996013', '11770079', '12107444', '12454746', '12468090', '12519948', '11824903', '11887334', '12135477', '11907576', '11796228', '12141135', '11900595', '12200232', '11726315', '12499268', '12525161', '12127395', '11970950', '12039986', '11699220', '11992725', '12520032', '12137233', '11991951', '11953821', '12557222', '11890706', '12015749', '11830328', '12391725', '12470340', '12447693', '12450898', '12062763', '12468912', '11948622', '11939755', '12063983', '12527902', '12356738', '11908956', '11861293', '11955621', '12144177', '12561090', '12457850', '11718456', '12438800', '11824896', '12130532', '12414619', '11914059', '12387738', '12461752', '12270665', '12168840', '11971762', '12393857', '12574114', '12230564', '11753231', '11937360', '11909716', '12362432', '12203814', '12482107', '12556498', '11717683', '11912517', '11793697', '11895867', '11926913', '12032832', '11893733', '11949835', '11782036', '12076271', '12069552', '12055052', '12413336', '12032857', '12226020', '12243851', '12056846', '12466970', '11954949', '12499254', '12512163', '12426003', '11906180', '12073053', '12095911', '12401219', '11836553', '11941405', '12391455', '12453417', '11973097', '11936307', '12359648', '11911418', '11959119', '12174931', '12112028', '12399461', '12419254', '11895789', '12504973', '11855856', '12054564', '12459275', '11767962', '12360408', '11894914', '11888924', '11904459', '11754526', '12373720', '11906549', '11933094', '12385684', '12015381', '12543784', '11942141', '12359330', '11786427', '12403881', '12124346', '11988416', '12064722', '12147741', '12087183', '12560386', '12188388', '12202552', '12381275', '11960904', '12203811', '11910066', '12518324', '11930336', '11767116', '12485937', '11806752', '11771756', '12142782', '11857528', '11942145', '12393007', '11759083', '11793389', '12612889', '11938683', '11875054', '12354148', '11916011', '12378530', '12442018', '11976214', '12361288', '11888058', '12089144', '11909956', '11918006', '12415035', '11864910', '12149601', '12386813', '12511547', '11872710', '12433725', '11805059', '12050681', '12405695', '11696311', '11983270', '12096258', '11840515', '12353739', '12209611', '12123436', '12407184', '12217415', '12098208', '11734552', '12203785', '12439935', '11975845', '12164927', '11968121', '12204830', '12390967', '12153756', '12186875', '12489182', '12203330', '12081468', '12063528', '12181449', '12370778', '12444915', '11854277', '12037675', '12371858', '12450388', '12527204', '12174891', '11932171', '12211979', '12056878', '12019403', '11961233', '12112320', '11733510', '12212242', '11811511', '11911399', '11996973', '11884394', '12135746', '11819786', '11860031', '12517768', '12086825', '12531009', '12106867', '11849711', '11808630', '12516899', '11749167', '12202595', '12595689', '12610302', '12016971', '12189562', '11973649', '12122980', '12117775', '12048686', '11896457', '12401077', '12571459', '12499504', '12081368', '12504100', '12502815', '11964079', '11892797', '11901223', '12036891', '11882887', '12124912', '11773055', '12070084', '11977533', '12360258', '12241103', '11880655', '12442281', '12063521', '12243261', '12095356', '12171855', '12170470', '12037740', '12142262', '12421668', '11863072', '12383881', '12196194', '12002745', '12193029', '11852181', '12186373', '12216071', '12023360', '12047228', '12152850', '12039744', '12115490', '12014618', '12216070', '12584559', '11965544', '12080468', '12401556', '12584564', '12477483', '12006402', '12019147', '12073144', '12184995', '12036289', '12208751', '12097805', '12007193', '11735247', '11920820', '11804685', '11793698', '11916943', '12172009', '11918081', '12207910', '12373607', '11891365', '11967596', '12119283', '12403781', '11956774', '12051351', '11812839', '12459478', '12455054', '12641402', '12193783', '12036192', '12234952', '12416822', '12511541', '12065783', '12497631', '12054098', '11904616', '11885563', '12466960', '12398767', '12414801', '12240120', '12173321', '11920844', '12465564', '11973622', '12604802', '12372820', '12527901', '12356856', '12490322', '11952158', '11761857', '11864747', '11943609', '12414937', '11820589', '11783178', '12234549', '12478572', '11798832', '12025377', '12370848', '12124491', '11996925', '12054735', '12163043', '11989712', '12477167', '12408190', '11997078', '12553037', '11918717', '12387452', '12142730', '12060492', '12188024', '12189919', '12044941', '11944215', '12477836', '12065772', '11804102', '11943339', '11914402', '12359741', '12377766', '12132876', '11939509', '12440775', '12092657', '11997509', '11879554', '11866532', '12377004', '12086877', '12405259', '12592383', '12386824', '12150958', '12213818', '11964133', '12062858', '11911850', '12407683', '12414521', '12216069', '12372840', '11896592', '12297544', '12421830', '12574201', '11872709', '12115994', '12437512', '12112017', '12476790', '12363395', '12240375', '11975969', '12359731', '12086860', '11943721', '11960311', '12513920', '12124355', '11857543', '12118377', '12517951', '12437293', '12180649', '12465931', '12431784', '11986330', '12473486', '12377741', '12563090', '12097481', '12176955', '11897782', '12397548', '11907646', '12560343', '11774034', '12390849', '11925118', '12414660', '11862398', '12113397', '12150334', '12170461', '11913731', '11824792', '12438381', '12036934', '11935405', '12096001', '11882743', '12439754', '12401226', '12020105', '12220177', '11956945', '12037677', '12395429', '12096342', '11902499', '11895851', '11764929', '12094702', '11798827', '11893034', '12477837', '11738946', '12097284', '12098640', '12201736', '12422998', '12460652', '12514663', '12231166', '12406085', '11911967', '11876658', '12070150', '12368327', '12124167', '12517926', '11792702', '12532156', '12086891', '11917027', '11807409', '12244284', '12150826', '12406034', '11801602', '12180930', '11986697', '12499492', '11882781', '11916926', '12242495', '11913791', '12432215', '12594387', '11960364', '12120592', '12351384', '12032336', '11896452', '12019129', '11836556', '11913782', '12234013', '11734061', '11787770', '12403554', '12002338', '12202480', '12082012', '12153233', '11891988', '11992569', '12032822', '12417953', '11836613', '12151767', '11769963', '12364351', '11899922', '12183335', '12140452', '11861487', '11776317', '12203119', '11956664', '12424611', '11838636', '11858469', '12479284', '12503189', '11957250', '12079267', '12138400', '12204677', '12429498', '11986736', '11761240', '12212516', '12476309', '11997399', '12067519', '11828990', '12438271', '11697722', '12100556', '12399985', '12324482', '11906444', '11839763', '12052866', '12135528', '11828258', '12019228', '11832495', '12018454', '12517792', '12185323', '12237935', '12498175', '12362315', '12140790', '12034718', '12504089', '11752689', '12479065', '11877413', '12095931', '12434718', '12219088', '12014510', '12428840', '12181462', '12050680', '11763343', '12358865', '12216017', '11956212', '12376502', '12520709', '12193298', '12242526', '12036196', '12173050', '11888297', '11840485', '12466550', '12557053', '11858937', '11955053', '12193275', '11925159', '12077850', '12082539', '12121418', '11923306', '12542233', '12444029', '12446773', '11984530', '12368865', '12372278', '11699727', '12200940', '11812818', '12056913', '11916314', '12051751', '12437869', '12406754', '12183129', '11875370', '12043047', '12226747', '11887330', '12532754', '11986239', '12460742', '11932750', '12188881', '12170096', '11901266', '12087898', '11953316', '12000639', '12200114', '12459514', '11948425', '12011067', '11910512', '12381641', '12583949', '12217445', '12390185', '12007422', '12415271', '12075802', '12105767', '12393577', '12365735', '11852244', '12078268', '11857059', '12397651', '12171294', '12533095', '12210746', '12012031', '12051693', '12202479', '11926893', '11916615', '12019080', '12506509', '11913730', '12200704', '12405861', '12503649', '12147150', '12229287', '11867232', '12370830', '11850545', '12511712', '12165650', '12455029', '11863373', '12186888', '11725818', '12131162', '11956537', '12166633', '12180611', '11927442', '11923370', '12566316', '11985577', '12193850', '12077031', '11900849', '12217298', '11917148', '12421992', '12409460', '12033965', '12119439', '11944920', '11956078', '11882399', '12095936', '11992489', '12552016', '12194787', '12242141', '12428581', '12236981', '12453227', '12115580', '11959043', '12019230', '12511503', '11915038', '11790799', '12489125', '12161540', '12505353', '12064944', '12438268', '11857333', '12139751', '12203860', '11943347', '12032847', '12082621', '12032775', '12072561', '11966738', '12082527', '11832606', '12228961', '11755781', '12203997', '12591729', '12237775', '12032546', '11857469', '11895773', '12074798', '11973646', '12030900', '12383671', '11790550', '12017271', '12106930', '12505330', '12169332', '12055236', '12356828', '11886175', '12222803', '12222916', '12066223', '11730794', '11835402', '12204004', '12404064', '12193066', '12089159', '12110730', '11948409', '12126826', '11959547', '11717812', '12466899', '11808772', '11912005', '11997014', '11867226', '11889045', '12109102', '12120374', '11872718', '12176152', '11966699', '12176125', '11812287', '12083820', '12509448', '12163025', '12592954', '12409722', '12423684', '12023981', '12006494', '12116178', '12215164', '12218124', '12479064', '11857271', '11904359', '11986213', '12413700', '12451269', '12493082', '12196482', '12161538', '12149568', '11897701', '11812855', '12032774', '12488972', '11880540', '12205552', '12084909', '11846533', '11805739', '12111622', '11921283', '11979553', '12014621', '12438171', '11901087', '12059788', '12019468', '12167358', '12070551', '12353869', '11993714', '12040439', '12368093', '11846985', '11919388', '11792588', '12203833', '12517793', '12500631', '12154226', '12212378', '12183675', '12540572', '12553908', '11875597', '12565816', '12355494', '12399978', '12296933', '12162776', '12139420', '12131020', '12138960', '12244085', '12583973', '12620741', '11902091', '11987975', '12121369', '12186530', '12209527', '12456990', '11949846', '12073009', '12384552', '12401729', '12436481', '12202228', '11838608', '12078048', '12032836', '11870227', '11880201', '12466622', '12023898', '11962602', '12031504', '12128217', '12361502', '12224391', '12031468', '12097480', '12370174', '12134031', '12133587', '12057822', '12200447', '12467985', '12503188', '12359745', '12408670', '11893605', '12045468', '12177329', '11793741', '11985579', '11873615', '11833335', '12466624', '12485445', '12172592', '12133346', '11804326', '12241202', '11889039', '11778697', '11740344', '12460916', '12297104', '11862637', '12090746', '12193120', '11985915', '12177343', '11814575', '12031699', '12068008', '11916628', '12091470', '12388818', '12443104', '11744708', '11875712', '12200294', '12175494', '11979552', '12372126', '11965549', '12174921', '12045211', '11859878', '11803046', '12399096', '12576968', '12270131', '12007630', '11908770', '11905599', '12483537', '12379144', '12060626', '12384146', '12010858', '11821864', '12368416', '11996789', '12122112', '12200146', '12399039', '12461491', '12388805', '12379459', '12071659', '11887032', '11699556', '11818423', '12519876', '12137800', '12234688', '11994157', '11893496', '12516095', '12388107', '12051917', '12359942', '12167682', '12200719', '12373057', '12202754', '11858764', '11988502', '12008038', '11793717', '11941274', '12465244', '12052914', '11779710', '12533603', '12490842', '12071640', '11699219', '12134042', '11949934', '12241537', '11863411', '12121679', '12357145', '11884981', '12064259', '12105881', '12111303', '12210324', '12375648', '12375649', '12242501', '11991857', '12188826', '12112735', '12135809', '12622281', '12037606', '12171933', '11864989', '12009272', '12552042', '12126723', '12170473', '12426226']\n",
      "RELEVANT:\n",
      "dict_keys(['1', '3', '4', '5', '6', '7', '8', '9', '10', '11', '12', '13', '14', '15', '16', '18', '20', '22', '23', '24', '25', '27', '28', '29', '31', '32', '34', '36', '37', '38', '39', '40', '42', '44', '45', '46', '48', '50'])\n",
      "{'11968052', '12054572', '11762751', '12015083', '11872638', '12396717', '12393707', '12151347', '11751903', '12055678', '11956602', '11756412', '12429910', '12384701', '12054658', '12513833', '11989975', '12151346', '12151395', '12168821', '11877274', '11953864', '12359245', '12517948', '12025230', '12111504', '11911463', '11882322', '12123335', '12474524', '12388558'}\n",
      "{'12127395', '11861293', '12080468', '12393285', '12203785', '12435397'}\n"
     ]
    }
   ],
   "source": [
    "# write here the code to inspect the data structures\n",
    "print(\"RETRIEVED:\")\n",
    "print(all_retrieved.keys())\n",
    "print(all_retrieved['1'])\n",
    "print(all_retrieved['3'])\n",
    "print(\"RELEVANT:\")\n",
    "print(all_relevant.keys())\n",
    "print(all_relevant['1'])\n",
    "print(all_relevant['3'])\n"
   ]
  },
  {
   "cell_type": "markdown",
   "metadata": {},
   "source": [
    "## Exercise 01.F: _mean average precision_\n",
    "__Using the `average_precision()` function you implemented above, write the code to compute the _Mean Average Precision_ for the `baseline.run` results.__"
   ]
  },
  {
   "cell_type": "code",
   "execution_count": 56,
   "metadata": {},
   "outputs": [
    {
     "name": "stdout",
     "output_type": "stream",
     "text": [
      "Mean Average Precision (MAP): 0.002\n",
      "\n"
     ]
    }
   ],
   "source": [
    "#THIS IS GRADED!\n",
    "\n",
    "def mean_average_precision(all_relevant, all_retrieved):\n",
    "    # BEGIN ANSWER\n",
    "    total = 0\n",
    "    count = 0\n",
    "    for key in all_relevant:\n",
    "        precision =  average_precision(all_relevant[key], all_retrieved.get(key, []))\n",
    "        total += precision\n",
    "        count += 1\n",
    "    # END ANSWER\n",
    "    return total / count\n",
    "\n",
    "mapr = mean_average_precision(all_relevant, all_retrieved)\n",
    "print('Mean Average Precision (MAP): %1.3f\\n' % mapr)"
   ]
  },
  {
   "cell_type": "markdown",
   "metadata": {},
   "source": [
    "***\n",
    "## TREC benchmark evaluation\n",
    "\n",
    "Below you find a function that take `all_relevant` and `all_retrieved` to compute the mean value of the `measure` over all queries. \n",
    "\n",
    "The function `mean_metric()`'s first function argument, `measure`, is a special argument: it is a function too! The `mean_metric` function sums the total score for the particular measure and divides it by the number of queries. It computes the average measures over all the query results.\n",
    "\n",
    "_This part will be reused later to compare the results of different models._"
   ]
  },
  {
   "cell_type": "code",
   "execution_count": 48,
   "metadata": {},
   "outputs": [
    {
     "data": {
      "text/plain": [
       "('mean r_precision', 0.09155954402134368)"
      ]
     },
     "execution_count": 48,
     "metadata": {},
     "output_type": "execute_result"
    }
   ],
   "source": [
    "def mean_metric(measure, all_relevant, all_retrieved):\n",
    "    total = 0\n",
    "    count = 0\n",
    "    for qid in all_relevant:\n",
    "        relevant  = all_relevant[qid]\n",
    "        retrieved = all_retrieved.get(qid, [])\n",
    "        value = measure(relevant, retrieved)\n",
    "        total += value\n",
    "        count += 1\n",
    "    return \"mean \" + measure.__name__, total / count\n",
    "\n",
    "# Example of use of the mean_metric function: computing the average r_precision\n",
    "mean_metric(r_precision, all_relevant, all_retrieved)"
   ]
  },
  {
   "cell_type": "markdown",
   "metadata": {},
   "source": [
    "### TREC overview of the results of a run\n",
    "The following two functions use your implementation of the metrics to create an overview of the performance metrics on the TREC benchmark data. Give a look at the numbers and make your own interpretations of the results. "
   ]
  },
  {
   "cell_type": "code",
   "execution_count": 54,
   "metadata": {},
   "outputs": [
    {
     "name": "stdout",
     "output_type": "stream",
     "text": [
      "Results for data01/baseline.run\n",
      "mean success_at_1              0.1053\n",
      "mean success_at_5              0.2632\n",
      "mean success_at_10             0.3158\n",
      "mean r_precision               0.09156\n",
      "mean precision_at_1            0.0001053\n",
      "mean precision_at_5            0.0003947\n",
      "mean precision_at_10           0.0004737\n",
      "mean precision_at_50           0.0009737\n",
      "mean precision_at_100          0.001395\n",
      "mean precision_at_recall_00    0.2015\n",
      "mean precision_at_recall_01    0.1898\n",
      "mean precision_at_recall_02    0.1683\n",
      "mean precision_at_recall_03    0.1333\n",
      "mean precision_at_recall_04    0.1236\n",
      "mean precision_at_recall_05    0.1227\n",
      "mean precision_at_recall_06    0.08744\n",
      "mean precision_at_recall_07    0.08435\n",
      "mean precision_at_recall_08    0.05999\n",
      "mean precision_at_recall_09    0.05803\n",
      "mean precision_at_recall_10    0.05803\n",
      "mean average_precision         0.001789\n"
     ]
    }
   ],
   "source": [
    "def trec_eval(qrels_file, run_file):\n",
    "\n",
    "    def precision_at_1(rel, ret): return precision_at_k(rel, ret, k=1)\n",
    "    def precision_at_5(rel, ret): return precision_at_k(rel, ret, k=5)\n",
    "    def precision_at_10(rel, ret): return precision_at_k(rel, ret, k=10)\n",
    "    def precision_at_50(rel, ret): return precision_at_k(rel, ret, k=50)\n",
    "    def precision_at_100(rel, ret): return precision_at_k(rel, ret, k=100)\n",
    "    def precision_at_recall_00(rel, ret): return interpolated_precision_at_recall_X(rel, ret, X=0.0)\n",
    "    def precision_at_recall_01(rel, ret): return interpolated_precision_at_recall_X(rel, ret, X=0.1)\n",
    "    def precision_at_recall_02(rel, ret): return interpolated_precision_at_recall_X(rel, ret, X=0.2)\n",
    "    def precision_at_recall_03(rel, ret): return interpolated_precision_at_recall_X(rel, ret, X=0.3)\n",
    "    def precision_at_recall_04(rel, ret): return interpolated_precision_at_recall_X(rel, ret, X=0.4)\n",
    "    def precision_at_recall_05(rel, ret): return interpolated_precision_at_recall_X(rel, ret, X=0.5)\n",
    "    def precision_at_recall_06(rel, ret): return interpolated_precision_at_recall_X(rel, ret, X=0.6)\n",
    "    def precision_at_recall_07(rel, ret): return interpolated_precision_at_recall_X(rel, ret, X=0.7)\n",
    "    def precision_at_recall_08(rel, ret): return interpolated_precision_at_recall_X(rel, ret, X=0.8)\n",
    "    def precision_at_recall_09(rel, ret): return interpolated_precision_at_recall_X(rel, ret, X=0.9)\n",
    "    def precision_at_recall_10(rel, ret): return interpolated_precision_at_recall_X(rel, ret, X=1.0)\n",
    "\n",
    "    (all_relevant, all_retrieved) = read_eval_files(qrels_file, run_file)\n",
    "    \n",
    "    unknown_qids = set(all_retrieved.keys()).difference(all_relevant.keys())\n",
    "    if len(unknown_qids) > 0:\n",
    "        raise ValueError(\"Unknown qids in run: {}\".format(sorted(list(unknown_qids))))\n",
    "\n",
    "    metrics = [success_at_1,\n",
    "               success_at_5,\n",
    "               success_at_10,\n",
    "               r_precision,\n",
    "               precision_at_1,\n",
    "               precision_at_5,\n",
    "               precision_at_10,\n",
    "               precision_at_50,\n",
    "               precision_at_100,\n",
    "               precision_at_recall_00,\n",
    "               precision_at_recall_01,\n",
    "               precision_at_recall_02,\n",
    "               precision_at_recall_03,\n",
    "               precision_at_recall_04,\n",
    "               precision_at_recall_05,\n",
    "               precision_at_recall_06,\n",
    "               precision_at_recall_07,\n",
    "               precision_at_recall_08,\n",
    "               precision_at_recall_09,\n",
    "               precision_at_recall_10,\n",
    "               average_precision]\n",
    "\n",
    "    return [mean_metric(metric, all_relevant, all_retrieved) for metric in metrics]\n",
    "\n",
    "\n",
    "def print_trec_eval(qrels_file, run_file):\n",
    "    results = trec_eval(qrels_file, run_file)\n",
    "    print(\"Results for {}\".format(run_file))\n",
    "    for (metric, score) in results:\n",
    "        print(\"{:<30} {:.4}\".format(metric, score))\n",
    "\n",
    "print_trec_eval('data01/FIR-s05-training-qrels.txt', 'data01/baseline.run')"
   ]
  },
  {
   "cell_type": "markdown",
   "metadata": {
    "collapsed": true
   },
   "source": [
    "## Exercise 01.G: _Significance testing_\n",
    "\n",
    "Testing the statistical significance of differences of the results of different IR systems is important (see slides of lecture 01 and course book, Section 8.8). One of the basic tests one can perform is the two-tailed [sign test](https://en.wikipedia.org/wiki/Sign_test).\n",
    "\n",
    "Only for this exercise, we use the run files obtained by  [Hiemstra and Aly](https://djoerdhiemstra.com/wp-content/uploads/trec2014mirex-draft.pdf) for the TREC Web track 2014 benchmark (note these files are from a different benchmark from what we have been working with so far). The `utbase.run` file was generated using Language Modeling, while `utexact.run` was generated using an IR system based on matching the exact query string, and ranking the documents by  the number of exact matches found.  The exact run improves the _Precision at 5_ to 0.456 (compared to 0.440 for the baseline run).  \n",
    "\n",
    "__Implement the code to perform the _sign test_ of statistical significance.__\n",
    "> _Hint:_ for each sign, compute the number of queries that increase/descrease performance (called `better, worse` in the code below). How would you use these values to compute the _p_ value of the two-tailed sign test? Is the difference between _utbase_ and _utexact_ significant?"
   ]
  },
  {
   "cell_type": "code",
   "execution_count": null,
   "metadata": {},
   "outputs": [],
   "source": [
    "#THIS IS GRADED!\n",
    "\n",
    "def sign_test_values(measure, qrels_file, run_file_1, run_file_2):\n",
    "    all_relevant = read_qrels_file(qrels_file)\n",
    "    all_retrieved_1 = read_run_file(run_file_1)\n",
    "    all_retrieved_2 = read_run_file(run_file_2)\n",
    "    better = 0\n",
    "    worse  = 0\n",
    "    # BEGIN ANSWER\n",
    "    # END ANSWER\n",
    "    return(better, worse)\n",
    "    \n",
    "def precision_at_rank_5(rel, ret):\n",
    "    return precision_at_k(rel, ret, k=5)\n",
    "\n",
    "sign_test_values(precision_at_rank_5, 'data01/trec.qrels', 'data01/utbase.run', 'data01/utexact.run')"
   ]
  },
  {
   "cell_type": "code",
   "execution_count": null,
   "metadata": {},
   "outputs": [],
   "source": [
    "# BEGIN ANSWER\n",
    "# END ANSWER"
   ]
  },
  {
   "cell_type": "markdown",
   "metadata": {},
   "source": [
    "***\n",
    "***\n",
    "***\n",
    "***\n",
    "***\n",
    "\n",
    "# Part 02 - Indexing and querying with ElasticSearch"
   ]
  },
  {
   "cell_type": "markdown",
   "metadata": {},
   "source": [
    "## Preparation: Getting started with Elasticsearch\n",
    "\n",
    "The following parts of the assignment will be based on ElasticSearch. you are adviced to go through the \"Elasticsearch, [reference guide](https://www.elastic.co/guide/en/elasticsearch/reference/current/getting-started.html)\", and work on the tutorials. You can skip the section on [Installation](https://www.elastic.co/guide/en/elasticsearch/reference/current/_installation.html), as we provide it already installed in the Virtual Machine.\n",
    "\n",
    "> If you want (disclaimer: we do __not__ give help with this!), you can \n",
    "> follow the [Installation](https://www.elastic.co/guide/en/elasticsearch/reference/current/_installation.html) to run Elasticsearch on your laptop without VM. Beware your system will likely be different from the \n",
    "> one of your colleagues and they might not be able to help you if \n",
    "> you have problems that are specific to your system, your operating\n",
    "> system, or your Elasticsearch version.\n",
    "\n",
    "### Starting/Stopping ElasticSearch\n",
    "To start ElasticSearch on the virtual machine, you can type `sudo service elasticsearch start` in a Terminal.\n",
    "To stop the ElasticSearch server, instead, you can type `sudo service elasticsearch stop`. Refer at the [the official guide](https://www.elastic.co/guide/en/elasticsearch/reference/current/deb.html#deb-running-init), for more information.\n",
    "\n",
    "### The REST API\n",
    "\n",
    "Elasticsearch runs its own server that can be accessed by a regular web browser by opening this link: http://localhost:9200. \n",
    "\n",
    "Elasticsearch will respond with something like:\n",
    "\n",
    "    {\n",
    "        \"name\" : \"fir-machine\",\n",
    "        \"cluster_name\" : \"elasticsearch\",\n",
    "        \"cluster_uuid\" : \"w7SBVo1ESVivMApbLIqRvA\",\n",
    "        \"version\" : {\n",
    "            \"number\" : \"7.9.0\",\n",
    "            \"build_flavor\" : \"default\",\n",
    "            \"build_type\" : \"deb\",\n",
    "            \"build_hash\" : \"a479a2a7fce0389512d6a9361301708b92dff667\",\n",
    "            \"build_date\" : \"2020-08-11T21:36:48.204330Z\",\n",
    "            \"build_snapshot\" : false,\n",
    "            \"lucene_version\" : \"8.6.0\",\n",
    "            \"minimum_wire_compatibility_version\" : \"6.8.0\",\n",
    "            \"minimum_index_compatibility_version\" : \"6.0.0-beta1\"\n",
    "        },\n",
    "        \"tagline\" : \"You Know, for Search\"\n",
    "    }\n",
    "\n",
    "\n",
    "If you see this, then your Elasticsearch node is up and running. The RESTful API uses simple text or JSON over HTTP. \n",
    "\n",
    "> REST, API, JSON, HTTP, that's a lot of abbreviations! It is good to\n",
    "> be familiar with the terminology. Let us explain: The Elasticsearch\n",
    "> response is not (only) intended for humans. It is supposed to be used \n",
    "> by applications that run on the client machines, and therefore the\n",
    "> interface is called an Application Programming Interface (API). The \n",
    "> API uses a format called JSON (JavaScript Object Notation), which \n",
    "> can be easily read by machines (and humans). The API sends its JSON\n",
    "> response using the same method as your web browser displays web\n",
    "> pages. This method is called HTTP (Hyper Text Transfer Protocol), \n",
    "> and it is the reason you can inspect the response in a normal web\n",
    "> browser. APIs that use HTTP are called RESTful interfaces. REST \n",
    "> stands for REpresentational State Transfer, arguably one of the\n",
    "> simplest ways to define an API.\n",
    "\n",
    "\n",
    "### Interacting with the ElasticSearch server\n",
    "\n",
    "You can interact with your Elasticsearch service in different ways. In this first part we explore Kibana, a dashboard for inspection of your indices. Later during the practical work we will use the Python Elasticsearch client or the DSL library. You can also start yourself with Python.\n",
    "\n",
    "#### Kibana\n",
    "Kibana provides a web interface to interact with your Elasticsearch service. It's available from http://localhost:5601. You can use Kibana to create interactive dashboards visualizing data in your Elasticsearch indices. It also provides a console to execute Elasticsearch commands. It's available from http://localhost:5601/app/kibana#/dev_tools\n",
    "\n",
    "To start Kibana on the virtual machine, you can type `sudo service kibana start` in a Terminal. \\\n",
    "To stop the Kibana server, instead, you can type `sudo service kibana stop`.\n",
    "\n",
    "Many examples from the Elasticsearch user guide can be directly executed in Kibana by clicking on the `CONSOLE` button.\n",
    "\n"
   ]
  },
  {
   "cell_type": "markdown",
   "metadata": {},
   "source": [
    "# Indexing and queries (Exercises - Part 02)\n",
    "\n",
    "_You can work on this part after Lecture 01 already_\n"
   ]
  },
  {
   "cell_type": "markdown",
   "metadata": {},
   "source": [
    "## Collection indexing: useful code\n",
    "\n",
    "We provide some code to read the TREC collection documents and index them into the ElasticSearch engine.\n",
    "As we need to re-index the document collection when we use a different indexing configurations (called Mappings in ElasticSearch), we developed some functions to support a quick re-indexing in the following exercises.\n",
    "\n",
    "Below you find the Python code for bulk-indexing our (FIR)Medline collection. Execute the following cells to index the collection in an Elasticsearch index called `genomics'. Study the code carefully, as you will use the indexing functions later for the completion of the assignment.\n",
    "\n",
    "> The code uses additional helper functions \n",
    "> (`elasticsearch.helpers`) and a library for processing JSON.\n",
    "> The function `read_documents()` reads the bulk collection file: The \n",
    "> function is a [Python generator](https://wiki.python.org/moin/Generators) function. It generates an 'on-demand' list\n",
    "> by using the statement `yield` for every item of the list. It\n",
    "> is used in the helper function `elasticsearch.helpers.bulk()`.\n",
    "> The statement `raise` is Python's approach to throw exceptions: it exits the program with an error.\n",
    "> Note the (keyword) arguments to bulk:\n",
    "> `chunk_size` indicates the number of documents to be processed by\n",
    "> elasticsearch in one batch. \n",
    "> The request_timeout is set to 30 seconds because processing a single batch\n",
    "> of documents can take some time.\n",
    "\n",
    "> __Note:__ _when processing a bulk index, be sure to have few GigaBytes free on the hard drive of the VM. If you get a BulkIndexError with read-only/FORBIDDEN errors, you probably have too little hard drive space available for ElasticSearch to work properly._\n",
    "\n",
    "\n",
    "**_Note:_ indexing the (FIR)TREC genomics collection can take some time, be patient.**"
   ]
  },
  {
   "cell_type": "code",
   "execution_count": null,
   "metadata": {},
   "outputs": [],
   "source": [
    "import elasticsearch\n",
    "import elasticsearch.helpers\n",
    "import json\n",
    "\n",
    "def read_documents(file_name):\n",
    "    \"\"\"\n",
    "    Returns a generator of documents to be indexed by elastic, read from file_name\n",
    "    \"\"\"\n",
    "    with open(file_name, 'r') as documents:\n",
    "        for line in documents:\n",
    "            doc_line = json.loads(line)\n",
    "            if ('index' in doc_line):\n",
    "                id = doc_line['index']['_id']\n",
    "            elif ('PMID' in doc_line):\n",
    "                doc_line['_id'] = id\n",
    "                yield doc_line\n",
    "            else:\n",
    "                raise ValueError('Woops, error in index file')\n",
    "\n",
    "def create_index(es, index_name, body={}):\n",
    "    # delete index when it already exists\n",
    "    es.indices.delete(index=index_name, ignore=[400, 404])\n",
    "    # create the index \n",
    "    es.indices.create(index=index_name, body=body)\n",
    "                \n",
    "def index_documents(es, collection_file_name, index_name, body={}):\n",
    "    create_index(es, index_name, body)\n",
    "    # bulk index the documents from file_name\n",
    "    return elasticsearch.helpers.bulk(\n",
    "        es, \n",
    "        read_documents(collection_file_name),\n",
    "        index=index_name,\n",
    "        chunk_size=2000,\n",
    "        request_timeout=30\n",
    "    )"
   ]
  },
  {
   "cell_type": "code",
   "execution_count": null,
   "metadata": {},
   "outputs": [],
   "source": [
    "# Connect to the ElasticSearch server\n",
    "es = elasticsearch.Elasticsearch(host='localhost')  # in case you use Docker, the host is 'elasticsearch'\n",
    "\n",
    "# Index the collection into the index called 'genomics'\n",
    "body = {} # no indexing options (leave default)\n",
    "index_documents(es, 'data01/FIR-s05-medline.json', 'genomics-base', body)"
   ]
  },
  {
   "cell_type": "markdown",
   "metadata": {},
   "source": [
    "> You can change the name of the index, in case you want to have different indices of the same collection created with different indexing settings, and compare the performance on the test queries. \n",
    "\n",
    "> E.g. you create two indices 'genomics01' and 'genomics02': genomics01 uses the default options, while genomics02 uses custom tokenizers. You will then have two indices with different characteristics (and probably different performance). "
   ]
  },
  {
   "cell_type": "markdown",
   "metadata": {},
   "source": [
    "## Exercise 02.A: index properties and querying"
   ]
  },
  {
   "cell_type": "markdown",
   "metadata": {},
   "source": [
    "__1. Query the index called 'genomics-base' and determine how many documents are indexed.__\n",
    "\n",
    "You can use Kibana (suggested for the time being - you can use the command line in Kibana), the Python ElasticSearch library or DSL. Report the code you implemented and the resulting number of documents."
   ]
  },
  {
   "cell_type": "code",
   "execution_count": null,
   "metadata": {},
   "outputs": [],
   "source": [
    "#THIS IS GRADED!\n",
    "\n",
    "# write the code here\n",
    "# BEGIN ANSWER\n",
    "# END ANSWER"
   ]
  },
  {
   "cell_type": "markdown",
   "metadata": {},
   "source": [
    "__2. How many documents containing the term `molecule` are there in your index? (searching all fields of the documents).__\n",
    "\n",
    "You can use Kibana (suggested for the time being - you can use the command line in Kibana), the Python ElasticSearch library or DSL. Report the code you implemented and the resulting number of documents."
   ]
  },
  {
   "cell_type": "code",
   "execution_count": null,
   "metadata": {},
   "outputs": [],
   "source": [
    "#THIS IS GRADED!\n",
    "\n",
    "# write the code that generates the answer here (you may also use Kibana)\n",
    "# BEGIN ANSWER\n",
    "# END ANSWER"
   ]
  },
  {
   "cell_type": "markdown",
   "metadata": {},
   "source": [
    "__3. How many documents containing the term `molecular` are there in your index? (searching all fields of the documents).__\n",
    "\n",
    "You can use Kibana (suggested for the time being - you can use the command line in Kibana), the Python ElasticSearch library or DSL. Report the code you implemented and the resulting number of documents."
   ]
  },
  {
   "cell_type": "code",
   "execution_count": null,
   "metadata": {},
   "outputs": [],
   "source": [
    "#THIS IS GRADED!\n",
    "\n",
    "# write the code that generates the answer here (you may also use Kibana)\n",
    "# BEGIN ANSWER\n",
    "# END ANSWER"
   ]
  },
  {
   "cell_type": "markdown",
   "metadata": {},
   "source": [
    "__4. How many documents containing the terms `cell` AND `blood` are there in your index? (searching all fields of the documents).__\n",
    "\n",
    "You can use Kibana (suggested for the time being - you can use the command line in Kibana), the Python ElasticSearch library or DSL. Report the code you implemented and the resulting number of documents."
   ]
  },
  {
   "cell_type": "code",
   "execution_count": null,
   "metadata": {},
   "outputs": [],
   "source": [
    "#THIS IS GRADED!\n",
    "\n",
    "# write the code that generates the answer here (you may also use Kibana)\n",
    "# BEGIN ANSWER\n",
    "# END ANSWER"
   ]
  },
  {
   "cell_type": "code",
   "execution_count": null,
   "metadata": {},
   "outputs": [],
   "source": [
    "import elasticsearch\n",
    "es = elasticsearch.Elasticsearch(host='localhost')  # in case you use Docker, the host is 'elasticsearch'\n",
    "\n",
    "# this is another solution (if query_string is used, be sure that AND is in the query, otherwise it will not search properly)\n",
    "term = 'blood AND cell'\n",
    "body = {\"track_total_hits\": True, \"query\": {\"query_string\": \n",
    "                                            {\"query\": term, \n",
    "                                             \"default_operator\":\"AND\", \n",
    "                                             \"auto_generate_synonyms_phrase_query\": True }}}\n",
    "result = es.search(index='genomics-base', body=body)\n",
    "print(\"Number of results: {}\".format(result['hits']['total']['value']))"
   ]
  },
  {
   "cell_type": "markdown",
   "metadata": {},
   "source": [
    "## Exercise 02.B: the Python ElasticSearch library\n",
    "\n",
    "#### Preparation\n",
    "The command line is fine for doing basic operations on your Elasticsearch indices, but as soon as things get more complex, you better use custom client programs.\n",
    "We will use the [Elasticsearch client library for Python](https://elasticsearch-py.readthedocs.io). This library will execute the HTTP requests that you have used before (with CURL or Kibana). The library is pre-installed on the VM.\n",
    "\n",
    "#### Exercise\n",
    "\n",
    "__Write the code that searches the index for _\"molecule\"_ using the [search()](https://elasticsearch-py.readthedocs.io/en/master/api.html#elasticsearch.Elasticsearch.search) function.__ Your code will take at minimum the following steps:\n",
    "\n",
    "1. import the python library `elasticsearch`.\n",
    "2. open a connection with the Elasticsearch host `'elasticsearch'` with `Elasticsearch()`.\n",
    "3. execute a search with `search()` using the index `genomics-base`, and a correct query body.\n",
    "4. print the JSON output of Elasticsearch \n",
    "\n",
    "How many hits are there in your index? Is the result the same as in Exercise 02.A?\n",
    "\n",
    "> Elasticsearch runs on localhost on your laptop, at port 9200 (so as http://localhost:9200)\n"
   ]
  },
  {
   "cell_type": "code",
   "execution_count": null,
   "metadata": {},
   "outputs": [],
   "source": [
    "#THIS IS GRADED!\n",
    "\n",
    "import elasticsearch\n",
    "\n",
    "# your code below\n",
    "# BEGIN ANSWER\n",
    "# END ANSWER\n",
    "\n"
   ]
  },
  {
   "cell_type": "markdown",
   "metadata": {},
   "source": [
    "The Python client library returns Python objects, that use [dictionaries](https://docs.python.org/3.6/tutorial/datastructures.html#dictionaries) and [lists](https://docs.python.org/3.6/tutorial/introduction.html#lists).\n",
    "Use a [for loop](https://docs.python.org/3.6/tutorial/controlflow.html#for-statements) to inspect each hit, and print the retrieved document's titles one by one. "
   ]
  },
  {
   "cell_type": "code",
   "execution_count": null,
   "metadata": {},
   "outputs": [],
   "source": [
    "#example\n",
    "print(\"Number of results: {}\".format(response['hits']['total']['value']))\n",
    "# your code below\n"
   ]
  },
  {
   "cell_type": "markdown",
   "metadata": {},
   "source": [
    "## Exercise 02.C: _Search using the Elasticsearch DSL_\n",
    "\n",
    "You will notice that the native query format of Elasticsearch can be quite verbose.\n",
    "Elasticsearh provides the Python library `elasticsearch_dsl` to write more concise Elasticsearch queries. \n",
    "This is only to simplify the syntax: the library still issues Elasticsearch queries.\n",
    "\n",
    "For example, a simple `multi_match` query looks as follows:\n",
    "```python\n",
    "query = {\n",
    "   \"query\": {\n",
    "       \"multi_match\": {}\n",
    "   }\n",
    "}\n",
    "```\n",
    "\n",
    "The same query can be created with the DSL as follows:\n",
    "```python\n",
    "query = Q(\"multi_match\")\n",
    "```\n",
    "\n",
    "Especially for more complicated boolean queries, to use the native query format can become complicated.\n",
    "Read more about the DSL [here](https://elasticsearch-dsl.readthedocs.io/en/latest/search_dsl.html)\n",
    "\n",
    "__1. Search for the query `molecule` and check whether you get the same number of results as for exercise 02.A(2).__"
   ]
  },
  {
   "cell_type": "code",
   "execution_count": null,
   "metadata": {},
   "outputs": [],
   "source": [
    "#THIS IS GRADED!\n",
    "\n",
    "# your code here\n",
    "# BEGIN ANSWER\n",
    "# END ANSWER"
   ]
  },
  {
   "cell_type": "markdown",
   "metadata": {},
   "source": [
    "__2. Search for the documents that contain the words `cell` AND `blood`, using the DSL library. Check whether you get the same number of results as for exercise 02.A(4).__"
   ]
  },
  {
   "cell_type": "code",
   "execution_count": null,
   "metadata": {},
   "outputs": [],
   "source": [
    "#THIS IS GRADED!\n",
    "\n",
    "# your code here\n",
    "# BEGIN ANSWER\n",
    "# END ANSWER"
   ]
  },
  {
   "cell_type": "markdown",
   "metadata": {},
   "source": [
    "***\n",
    "##  Exercise 02.D: Making your own TREC run\n",
    "\n",
    "We will adopt a scientific approach to building search engines. That is, we are not only going to build a search engine and see that it works, but we are also going to _measure_ how well it works, by measuring the search engine's quality. We will adopt the method from the [Text Retrieval Conference](http://trec.nist.gov) (TREC). TREC provides researchers with test collections, that consists of 3 parts:\n",
    "\n",
    "1. the document collection (in our case a part of the MEDLINE database)\n",
    "2. the topics (which are natural language descriptions of what the user is searching for: you can think of the as the _queries_)\n",
    "3. the relevance judgments (for each topic, what documents are relevant)\n",
    "\n",
    "\n",
    "\n",
    "__Exercise: Complete the code of the Python function `make_trec_run()` that reads the topics [FIR-s05-training-queries-simple.txt](data01/FIR-s05-training-queries-simple.txt), and for each topic does a search using Elasticsearch.__ The program should output a file in the [TREC submission format](https://trec-core.github.io/2017/#submission-guidelines). We already provided the first  lines for this exercise, which include:\n",
    "\n",
    "1. Open the file `'run_file_name'`' for writing and call it `run_file`.\n",
    "2. Open the file `'topics_file_name'` for reading, call it `test_queries`.\n",
    "3. For each line in `test_queries`:\n",
    "4. Remove the newline using `strip()`, then split the string on the tab character (`'\\t'`). The first part of the line is now `qid` (the query identifier) and the last part is `query` (a textual description of the query).\n",
    "5. complete the Python program such that the correct TREC run file is written to `'run_file_name'`.\n",
    "\n",
    "> **Note**: Make sure you output the `PMID` (pubmed identifier) of the document `hit['_source']['PMID']`. Do **not** use the elasticsearch identifier `_id` because they do not match the document identifiers in the relevance judgements. They were randomly generated by Elasticsearch during indexing.\n",
    "\n",
    "\n",
    "__Make sure to search in the fiels `TI` and `AB`, which correspond to the title and abstract, respectivelt, of the scientific papers of the MEDLINE collection.__"
   ]
  },
  {
   "cell_type": "code",
   "execution_count": null,
   "metadata": {},
   "outputs": [],
   "source": [
    "#THIS IS GRADED!\n",
    "\n",
    "def make_trec_run(es, topics_file_name, run_file_name, index_name=\"genomics\", run_name=\"test\"):\n",
    "    with open(run_file_name, 'w') as run_file:\n",
    "        with open(topics_file_name, 'r') as test_queries:\n",
    "            for line in test_queries:\n",
    "                (qid, query) = line.strip().split('\\t')\n",
    "                # BEGIN ANSWER\n",
    "                # END ANSWER\n",
    "                \n",
    "# connect to ES server             \n",
    "es = elasticsearch.Elasticsearch('localhost')\n",
    "# Write the results of the queries contained in the topic file `'data/training-queries-simple.txt'` \n",
    "# to the run file `'baseline.run'`, and name this test as `test01`\n",
    "make_trec_run(es, 'data01/FIR-s05-training-queries-simple.txt', 'baseline.run', \"genomics-base\", run_name='test01')"
   ]
  },
  {
   "cell_type": "code",
   "execution_count": null,
   "metadata": {},
   "outputs": [],
   "source": [
    "# this prints out (it is a shell command) the content of the file baseline.run \n",
    "!cat baseline.run"
   ]
  },
  {
   "cell_type": "markdown",
   "metadata": {},
   "source": [
    "> Tip: Write a line to `run_file` using `run_file.write(line)`. \n",
    "> The newline character is: `'\\n'`. Before writing a number to\n",
    "> the file, cast it to a string using `str()`.\n",
    ">\n",
    "> The TREC Submission guidelines allow you to submit up to 1000\n",
    "> documents per topic. Keep this in mind!"
   ]
  },
  {
   "cell_type": "markdown",
   "metadata": {},
   "source": [
    "***\n",
    "***\n",
    "***\n",
    "***\n",
    "***\n",
    "***"
   ]
  },
  {
   "cell_type": "markdown",
   "metadata": {},
   "source": [
    "# Part 03: Search models \n",
    "\n",
    "\n",
    "<span style=\"background:red; color: white;\">__You are advised to work on this part after Lecture 02 (Models of search)__</span>\n",
    "\n",
    "\n",
    "### Background\n",
    "The way documents are indexed influences the performance of the IR systems. \n",
    "Elasticsearch [Mappings](https://www.elastic.co/guide/en/elasticsearch/reference/7.8/mapping.html) define how a document, and its properties (fields) are stored and indexed, but also provides tools to implement and execute different document similarity measures (i.e. search models).  When using a different configuration of an ElasticSearch Mapping, the document collection needs to be re-indexed (or a new index need to be created - use the functions we provided above to do that).\n",
    "\n",
    "> See again: [Index Settings and Mappings](https://www.elastic.co/guide/en/elasticsearch/reference/7.8/indices-create-index.html).\n",
    "> _Note: the default model (similarity) in ElasticSearch is BM25. Different models need to be specified (see example)._\n",
    "\n",
    "For instance, we can add a new field `\"title-abstract\"` that uses the  [similarity measure](https://www.elastic.co/guide/en/elasticsearch/reference/7.8/similarity.html) _Boolean_, and let it serve as an index for the fields `\"TI\"` and `\"AB\"` (title and abstract):\n",
    "\n",
    "> Plase note that if you want to use the `boolean` similarity for the single fields, you need to specify it for each field. Otherwise, the default BM25 will be used."
   ]
  },
  {
   "cell_type": "code",
   "execution_count": null,
   "metadata": {},
   "outputs": [],
   "source": [
    "boolean = {\n",
    "  \"settings\" : {\n",
    "    # a single shard, so we do not suffer from approximate document frequencies\n",
    "    \"number_of_shards\" : 1\n",
    "  },\n",
    "  \"mappings\": {\n",
    "      \"properties\": {\n",
    "        \"AB\": {\n",
    "          \"type\": \"text\",\n",
    "          \"copy_to\": \"title-abstract\",\n",
    "          \"similarity\": \"boolean\"\n",
    "        },\n",
    "        \"TI\": {\n",
    "          \"type\": \"text\",\n",
    "          \"copy_to\": \"title-abstract\",\n",
    "          \"similarity\": \"boolean\"\n",
    "        },\n",
    "        \"title-abstract\": {  # compound field\n",
    "          \"type\": \"text\",\n",
    "          \"similarity\": \"boolean\"\n",
    "        }\n",
    "      }\n",
    "  }\n",
    "}\n",
    "\n",
    "es = elasticsearch.Elasticsearch('localhost')\n",
    "index_documents(es, 'data01/FIR-s05-medline.json', 'genomics-bool', body=boolean)"
   ]
  },
  {
   "cell_type": "markdown",
   "metadata": {},
   "source": [
    "> Most changes to the mappings cannot be done on an existing index. Some (for instance\n",
    "> similarity measures) can be changed if the index is first closed. Nevertheless, we \n",
    "> will in this notebook _re-index_ the collection for every change to the mappings\n",
    "> using the function `index_documents()` that we defined above. Mappings (and settings)\n",
    "> can be passed to the function using the `body` parameter.\n",
    "\n",
    "<span style=\"background:#444; color: white;\">__We suggest you to create different indices using different models of search (according to the available disk space on your VM). This will avoid that changes are not correctly applied, and you won't see the expected results.__</span>\n",
    "\n",
    "<span style=\"background:#444; color: white;\">E.g. for the 'boolean' model, we created the 'genomics-bool' index.</span>\n",
    "\n",
    "Let's have a look at the mappings and settings for our index as follows:"
   ]
  },
  {
   "cell_type": "code",
   "execution_count": null,
   "metadata": {},
   "outputs": [],
   "source": [
    "es.indices.get(index='genomics-bool')"
   ]
  },
  {
   "cell_type": "markdown",
   "metadata": {},
   "source": [
    "Now let's search our new field `\"title-abstract\"` as follows:"
   ]
  },
  {
   "cell_type": "code",
   "execution_count": null,
   "metadata": {},
   "outputs": [],
   "source": [
    "query = \"molecule\"\n",
    "search_type = \"dfs_query_then_fetch\" # this will use exact document frequencies even for multiple shards\n",
    "body = {\n",
    "  \"query\": {\n",
    "    \"match\" : { \"title-abstract\" : query }\n",
    "  },\n",
    "  \"size\": 10\n",
    "}\n",
    "es.search(index=\"genomics-bool\", search_type=search_type, body=body)"
   ]
  },
  {
   "cell_type": "markdown",
   "metadata": {},
   "source": [
    "## Exercise 04.A: _new run and evaluation_\n",
    "Create a new run file (e.g. `boolean.run`), compute the retrieval performance with the function `print_trec_eval()` and compare the results with the baseline run file `baseline.run`."
   ]
  },
  {
   "cell_type": "code",
   "execution_count": null,
   "metadata": {},
   "outputs": [],
   "source": [
    "#THIS IS GRADED!\n",
    "\n",
    "# write your code here\n",
    "# BEGIN ANSWER\n",
    "# END ANSWER"
   ]
  },
  {
   "cell_type": "markdown",
   "metadata": {},
   "source": [
    "## Exercise 04.B: _Language models_\n",
    "\n",
    "Custom similarities can be configured by tuning the parameters of the built-in similarities. Read more about these (expert) options in the [similarity module](https://www.elastic.co/guide/en/elasticsearch/reference/6.2/index-modules-similarity.html).\n",
    "\n",
    "> Tip: the example similarity settings have to be used in a `\"settings\"` object.\n",
    "> Check your settings and mappings with: `es.indices.get(index='NAME-OF-INDEX')`.\n",
    "\n",
    "__1. Make a run that uses Language Models with [Jelinek-Mercer smoothing](http://lucene.apache.org/core/5_2_1/core/org/apache/lucene/search/similarities/LMJelinekMercerSimilarity.html) (linear interpolation smoothing) on the field `\"all\"` that indexes the fields `\"TI\"` and `\"AB\"`. Use the parameter `lambda=0.2`.__"
   ]
  },
  {
   "cell_type": "code",
   "execution_count": null,
   "metadata": {},
   "outputs": [],
   "source": [
    "#THIS IS GRADED!\n",
    "\n",
    "lmjelinekmercer = {\n",
    "  # BEGIN ANSWER\n",
    "  # END ANSWER\n",
    "}"
   ]
  },
  {
   "cell_type": "code",
   "execution_count": null,
   "metadata": {},
   "outputs": [],
   "source": [
    "index_documents(es, 'data01/FIR-s05-medline.json', 'genomics-jm', body=lmjelinekmercer)\n",
    "make_trec_run(es, 'data01/FIR-s05-training-queries-simple.txt', 'lmjelinekmercer.run', 'genomics-jm')"
   ]
  },
  {
   "cell_type": "markdown",
   "metadata": {},
   "source": [
    "__2. Make a run that uses Language Models with [Dirichelet smoothing](https://www.elastic.co/guide/en/elasticsearch/reference/current/index-modules-similarity.html) to index the fields `\"TI\"` and `\"AB\"`. Use the parameter `mu=2000`.__"
   ]
  },
  {
   "cell_type": "code",
   "execution_count": null,
   "metadata": {},
   "outputs": [],
   "source": [
    "#THIS IS GRADED!\n",
    "\n",
    "dirichlet = {\n",
    "  # BEGIN ANSWER\n",
    "  # END ANSWER\n",
    "}"
   ]
  },
  {
   "cell_type": "code",
   "execution_count": null,
   "metadata": {},
   "outputs": [],
   "source": [
    "index_documents(es, 'data01/FIR-s05-medline.json', 'genomics-dirichlet', body=dirichlet)\n",
    "make_trec_run(es, 'data01/FIR-s05-training-queries-simple.txt', 'dirichlet.run', 'genomics-dirichlet')"
   ]
  },
  {
   "cell_type": "markdown",
   "metadata": {},
   "source": [
    "## Exercise 04.C: _Model comparison_\n",
    "\n",
    "\n",
    "__1. Compute the performance results of the `lmjelinekmercer.run` and `dirichelet.run`. Compare them with those of the `baseline.run` and `boolean.run`. Evaluate the runs using the `print_trec_eval` function. Performing statistical tests may help strengthen your claims.__"
   ]
  },
  {
   "cell_type": "code",
   "execution_count": null,
   "metadata": {},
   "outputs": [],
   "source": [
    "#THIS IS GRADED!\n",
    "\n",
    "# your comments here\n",
    "# BEGIN ANSWER\n",
    "# END ANSWER"
   ]
  },
  {
   "cell_type": "code",
   "execution_count": null,
   "metadata": {},
   "outputs": [],
   "source": [
    "print('Top20 retrieved documents baseline.run')\n",
    "! head -10 baseline.run\n",
    "\n",
    "print('\\nTop20 retrieved documents boolean.run')\n",
    "! head -10 boolean.run\n",
    "\n",
    "print('\\nTop20 retrieved documents lmjelinekmercer.run')\n",
    "! head -10 lmjelinekmercer.run\n",
    "\n",
    "print('\\nTop20 retrieved documents dirichelet.run')\n",
    "! head -10 dirichelet.run"
   ]
  },
  {
   "cell_type": "markdown",
   "metadata": {},
   "source": [
    "\n",
    "\n",
    "__2. Provide below your comments and interpretations of the results. Why, in your opinion, one model of search is better than the others?__"
   ]
  },
  {
   "cell_type": "code",
   "execution_count": null,
   "metadata": {},
   "outputs": [],
   "source": [
    "# answer as a comment:\n",
    "# \n",
    "\n"
   ]
  },
  {
   "cell_type": "markdown",
   "metadata": {},
   "source": [
    "## Example: _ElasticSearch Analyzers for tokenization_\n",
    "\n",
    "The amount and quality of the tokens used to construct the inverted index are of great importance. In ElasticSearch, mappings and settings also allow specifying what [Analyzer](https://www.elastic.co/guide/en/elasticsearch/reference/current/analysis.html) is used to tokenize your documents and queries. In the mappings below, use the _Dutch_ analyzer for the field `\"all\"`):\n",
    "\n",
    "> Usually, the same analyzer should be applied to documents and queries, but \n",
    "> Elasticsearch allows you to specify a `\"search_analyzer\"` that is used on \n",
    "> your queries (which we do not need to use in the assignment)."
   ]
  },
  {
   "cell_type": "code",
   "execution_count": null,
   "metadata": {},
   "outputs": [],
   "source": [
    "analyzer_test = {\n",
    "  \"mappings\": {\n",
    "      \"properties\": {\n",
    "        \"all\": {\n",
    "          \"type\": \"text\",\n",
    "          \"analyzer\": \"dutch\"\n",
    "        }\n",
    "      }\n",
    "  }\n",
    "}\n",
    "\n",
    "# create the index, but don't index any documents:\n",
    "create_index(es, 'test-tokens', body=analyzer_test)"
   ]
  },
  {
   "cell_type": "markdown",
   "metadata": {},
   "source": [
    "The analyzer defined for the `\"all\"` field can be tested [as follows](https://elasticsearch-py.readthedocs.io/en/master/api.html#indices). Translated to English the text says: _\"This is a Dutch sentence\"_. \n",
    "\n",
    "> The following script identifies the tokens (based on the use of the dutch tokenizer): try with different tokenizers and different sentences to see how the tokens are created."
   ]
  },
  {
   "cell_type": "code",
   "execution_count": null,
   "metadata": {},
   "outputs": [],
   "source": [
    "from pprint import pprint # pretty print\n",
    "\n",
    "body = { \"field\": \"all\", \"text\": \"dit zijn nederlandse zinnen\"}\n",
    "tokens = es.indices.analyze(index='test-tokens', body=body)\n",
    "pprint(tokens)"
   ]
  },
  {
   "cell_type": "markdown",
   "metadata": {},
   "source": [
    "***\n",
    "***\n",
    "***\n",
    "***\n",
    "***\n",
    "***"
   ]
  },
  {
   "cell_type": "markdown",
   "metadata": {},
   "source": [
    "# Part 04: Index improvements: Tokenization\n",
    "<span style=\"background:red; color: white;\">__You are advised to work on this part after Lecture 03 (Conceptual Indexing)__</span>\n",
    "\n",
    "\n",
    "\n",
    "## Background\n",
    "The following part of the assignment requires some self-study of the ElasticSearch tools to support the improvemnet of the indexing. Please read the:\n",
    "* [Index Settings and Mappings](https://www.elastic.co/guide/en/elasticsearch/reference/6.2/indices-create-index.html).\n",
    "* Elasticsearch [Analyzers](https://www.elastic.co/guide/en/elasticsearch/reference/6.2/analysis.html) contain many options for improving your search engine.\n",
    "\n",
    "> You are suggested to use the [Python Elasticsearch Client](https://elasticsearch-py.readthedocs.io) library documentation."
   ]
  },
  {
   "cell_type": "markdown",
   "metadata": {},
   "source": [
    "##  Exercise 03.A: _chat language analyzer_\n",
    "\n",
    "Read the documentation for [Custom Analyzer](https://www.elastic.co/guide/en/elasticsearch/reference/6.2/analysis-custom-analyzer.html). \n",
    "Make a custom analyzer for _English chat language_. The analyzer should do the following:\n",
    "* change common abbreviations to the full forms: \n",
    "  * _b4_ to _before_, \n",
    "  * _abt_ to _about_, \n",
    "  * _chk_ to _check_, \n",
    "  * _dm_ to _direct message_,\n",
    "  * _f2f_ to _face-to-face_\n",
    "* use the _standard_ tokenizer;\n",
    "* put everything to lower-case;\n",
    "* filter English stopwords."
   ]
  },
  {
   "cell_type": "code",
   "execution_count": null,
   "metadata": {},
   "outputs": [],
   "source": [
    "#THIS IS GRADED!\n",
    "\n",
    "tweet_analyzer = {\n",
    "  # BEGIN ANSWER\n",
    "  # END ANSWER\n",
    "}\n",
    "\n",
    "# create the index, but don't index any documents:\n",
    "create_index(es, 'genomics', body=tweet_analyzer)\n",
    "body = { \"field\": \"all\", \"text\": \"done it b4! what abt dm me?\"}\n",
    "tokens = es.indices.analyze(index='genomics', body=body)\n",
    "pprint(tokens)"
   ]
  },
  {
   "cell_type": "markdown",
   "metadata": {},
   "source": [
    "## Exercise 03.B: Stemmers\n",
    "\n",
    "Referring at Exercise 02.A, we have seen that queries like `molecule` and `molecular` retrieve different sets of documents. Lemmatizer and stemmers can help the indexing and search of 'similar' terms, and retrieve more consistent sets of documents.\n",
    "\n",
    "__Use the ElasticSearch [Stemming](https://www.elastic.co/guide/en/elasticsearch/reference/current/stemming.html) to index the document collection. Then retrieve documents with the queries `molecule` and `molecular` and comment on the eventual differences with the previous query results.__\n"
   ]
  },
  {
   "cell_type": "code",
   "execution_count": null,
   "metadata": {},
   "outputs": [],
   "source": [
    "#THIS IS GRADED!\n",
    "\n",
    "body = {\n",
    "  # BEGIN ANSWER\n",
    "  # END ANSWER\n",
    "}\n",
    "\n",
    "body = {\n",
    "  # BEGIN ANSWER\n",
    "  # END ANSWER\n",
    "}"
   ]
  },
  {
   "cell_type": "code",
   "execution_count": null,
   "metadata": {},
   "outputs": [],
   "source": [
    "# Connect to the ElasticSearch server\n",
    "es = elasticsearch.Elasticsearch(host='localhost')  # in case you use Docker, the host is 'elasticsearch'\n",
    "\n",
    "# Index the collection into the index called 'genomics-stem'\n",
    "index_documents(es, 'data01/FIR-s05-medline.json', 'genomics-stem', body)"
   ]
  },
  {
   "cell_type": "markdown",
   "metadata": {},
   "source": [
    "__Retrieve documents with the queries `molecule` and `molecular` and comment on the eventual differences with the previous query results.__"
   ]
  },
  {
   "cell_type": "code",
   "execution_count": null,
   "metadata": {},
   "outputs": [],
   "source": [
    "#THIS IS GRADED!\n",
    "# BEGIN ANSWER\n",
    "# END ANSWER"
   ]
  },
  {
   "cell_type": "code",
   "execution_count": null,
   "metadata": {},
   "outputs": [],
   "source": [
    "# Comment here about the eventual different results you get \n",
    "# -> words that are stemmed, like molecule and molecules, should improve the retrieval results (in terms of amount of retrieved dos)\n",
    "# -> words that are not stemmed, like 'molecular' should not see much differernt results\n",
    "\n",
    "# the point of the exercise is not to have the same results with molecule and molecular, but \n",
    "# what the stemmer does, and reason after that."
   ]
  },
  {
   "cell_type": "markdown",
   "metadata": {},
   "source": [
    "# BONUS PART: _Implement your own similarity measure_ \n",
    "\n",
    "We have only seen the results of using the analyzer to queries. The analyzer results from the _documents_ are available using the `termvectors()` function, as follows for document `id=3`: (Additionally, we can get overall field statistics, such as the number of documents)\n",
    "\n",
    "> First, index the collection again. While waiting, have a coffee or tea :) \n",
    "\n",
    "> `id=3` refers to the internal document identifiers, so not to the Pubmed identifier.\n",
    "\n",
    "_The bonus exercise is not mandatory. It can compensate for missing other exercises._"
   ]
  },
  {
   "cell_type": "code",
   "execution_count": null,
   "metadata": {},
   "outputs": [],
   "source": [
    "import elasticsearch\n",
    "es = elasticsearch.Elasticsearch(host='localhost')\n",
    "\n",
    "# index_documents(es, 'data/FIR-05-medline.json', 'genomics-base')\n",
    "\n",
    "es.termvectors(index=\"genomics-base\", id=\"3\", fields=\"TI\", \n",
    "               term_statistics=True, field_statistics=True, offsets=False)"
   ]
  },
  {
   "cell_type": "markdown",
   "metadata": {},
   "source": [
    "### Implement the BM25 similarity\n",
    "\n",
    "Complete the function `bm25_similarity()` below by implementing the BM25 similarity as described by in Section 11.4.3 of [Manning, Raghavan and Schuetze, Chapter 11](https://nlp.stanford.edu/IR-book/pdf/11prob.pdf). Are you able to replicate the score of ElasitcSearch (9.55)? If not, are you using a different variant of the BM25 model? Provide your comments in plain text."
   ]
  },
  {
   "cell_type": "code",
   "execution_count": null,
   "metadata": {},
   "outputs": [],
   "source": [
    "#THIS IS GRADED!\n",
    "\n",
    "import math\n",
    "\n",
    "# math.log(x) computes the logarithm of x\n",
    "\n",
    "def bm25_similarity (query, doc_id):\n",
    "\n",
    "    # Get the query tokens (see above)\n",
    "    query_tokens = es.indices.analyze(index='genomics-base', body={\"field\":\"TI\", \"text\": query})\n",
    "    tokens = query_tokens['tokens']\n",
    "\n",
    "    # Get the term vector for doc_id and the field statistics\n",
    "    term_vector = es.termvectors(index=\"genomics-base\", id=doc_id, fields=\"TI\", \n",
    "                  term_statistics=True, field_statistics=True, offsets=False)\n",
    "    vector = term_vector['term_vectors']['TI']['terms']\n",
    "    f_stats = term_vector['term_vectors']['TI']['field_statistics']\n",
    "\n",
    "    # The answer should sum over 'tokens', check if the tokens exists in the 'vector',\n",
    "    # and if so, add the appropriate value to 'similarity'.\n",
    "    # Tip: add print statements to your code to see what each variable contains.\n",
    "    \n",
    "    similarity = 0\n",
    "\n",
    "    # BEGIN ANSWER\n",
    "    # END ANSWER\n",
    "    return similarity\n",
    "\n",
    "bm25_similarity(\"structure refinement\", 3)"
   ]
  },
  {
   "cell_type": "code",
   "execution_count": null,
   "metadata": {},
   "outputs": [],
   "source": [
    "# eventual comments here"
   ]
  },
  {
   "cell_type": "markdown",
   "metadata": {},
   "source": [
    "See below the 'reference score' computed by ElasticSearch:"
   ]
  },
  {
   "cell_type": "code",
   "execution_count": null,
   "metadata": {},
   "outputs": [],
   "source": [
    "body = {\n",
    "  \"query\": {\n",
    "    \"match\" : { \"TI\" : \"structure refinement\" }\n",
    "  }\n",
    "}\n",
    "explain = es.explain(index=\"genomics-base\", id=\"3\", body=body)\n",
    "print (explain['explanation']['value'])  # BM25 score computed by ElasticSearch"
   ]
  },
  {
   "cell_type": "code",
   "execution_count": null,
   "metadata": {},
   "outputs": [],
   "source": []
  }
 ],
 "metadata": {
  "kernelspec": {
   "display_name": "Python 3 (ipykernel)",
   "language": "python",
   "name": "python3"
  },
  "language_info": {
   "codemirror_mode": {
    "name": "ipython",
    "version": 3
   },
   "file_extension": ".py",
   "mimetype": "text/x-python",
   "name": "python",
   "nbconvert_exporter": "python",
   "pygments_lexer": "ipython3",
   "version": "3.10.9"
  }
 },
 "nbformat": 4,
 "nbformat_minor": 2
}
