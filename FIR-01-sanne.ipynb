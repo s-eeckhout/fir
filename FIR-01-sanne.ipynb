{
 "cells": [
  {
   "cell_type": "markdown",
   "metadata": {},
   "source": [
    "# Assignment 1 - _Foundations of Information Retrieval 2024_\n",
    "\n",
    "This assignment is divided in 4 parts, which have to be delivered all together no later than 04/10/2023 at 23:59 (strict - no extensions will be granted!) via Canvas. Delivery of the assignment solutions is mandatory (_see grading conditions on Canvas and in slides of Lecture01_).\n",
    "\n",
    "We will use [ElasticSearch](https://www.elastic.co/) as search engine. It provides state-of-the-art tools to implement your own engine, index your documents, and let you focus on methodological aspects of search models and optimization. \n",
    "\n",
    "The assignment is about text-based Information Retrieval and it is structured in three parts:\n",
    "1. IR performance evaluation (implementation of performance metrics)\n",
    "2. Setting up a search engine, pre-processing and indexing using ElasticSearch (Indexing, Analyzers)\n",
    "3. Implementation and optimization of models of search (Similarity)\n",
    "\n",
    "\n",
    "This assignment contains exercises, marked with the section title __Exercise 01.(x)__, which are evaluated, and other sections that contain support code which you should study and use as it is. Write your answers between the comments `BEGIN ANSWER` and `END ANSWER`. \n",
    "\n",
    "_Note:_ the comment `#THIS IS GRADED!` in a section indicates that it will be graded.\n",
    "\n",
    "\n",
    "### Initial preparation (self-study)\n",
    "For the first part, it is good to acquire (or refresh) basic knowledge of Python. Please use the [Python tutorials](https://docs.python.org/3/tutorial/) if needed.\n",
    "\n",
    "For the second and third part of the assignment, please study yourself the [Getting Started guide](https://www.elastic.co/guide/en/elasticsearch/reference/current/getting-started.html) of ElasticSearch and get acquainted with the framework.\n"
   ]
  },
  {
   "cell_type": "markdown",
   "metadata": {},
   "source": [
    "***\n",
    "***\n",
    "***\n",
    "\n",
    "# PART 01 - Performance evaluation\n",
    "\n",
    "\n",
    "### Background information and reading\n",
    "Study the slides of Lecture 01 (available on Canvas) and the reference book chapter (Christopher D. Manning, Prabhakar Raghavan and Hinrich Schütze, Introduction to Information Retrieval, [Chapter 8, Evaluation in information retrieval](http://nlp.stanford.edu/IR-book/pdf/08eval.pdf), Cambridge University Press. 2008)\n",
    "\n",
    "### Basic concepts\n",
    "Suppose the set of relevant documents (the document identifiers - _doc-IDs_) is called `relevant`, then we  define it as follows (in Python):"
   ]
  },
  {
   "cell_type": "code",
   "execution_count": 1,
   "metadata": {},
   "outputs": [],
   "source": [
    "relevant = set([2, 3, 5, 8, 13, 17, 21, 34, 38])"
   ]
  },
  {
   "cell_type": "markdown",
   "metadata": {},
   "source": [
    "A perfect run would retrieve exactly these 9 documents in any order. Now, suppose the list of retrieved documents (the document identifiers - _doc-IDs_) is called `retrieved`, and contains the following _doc-IDs_:"
   ]
  },
  {
   "cell_type": "code",
   "execution_count": 2,
   "metadata": {},
   "outputs": [],
   "source": [
    "retrieved = [14, 4, 2, 18, 16, 8, 46, 32, 17, 34, 33, 22, 47, 39, 11]"
   ]
  },
  {
   "cell_type": "markdown",
   "metadata": {},
   "source": [
    "One of the simplest evaluation measures is the _Success at rank 1_, i.e. `Is the first document retrieved a relevant document?`\n",
    "\n",
    "_Success at rank 1_ returns 1 if the first document is relevant, and 0 otherwise. A possible implementation is: "
   ]
  },
  {
   "cell_type": "code",
   "execution_count": 4,
   "metadata": {},
   "outputs": [
    {
     "data": {
      "text/plain": [
       "0"
      ]
     },
     "execution_count": 4,
     "metadata": {},
     "output_type": "execute_result"
    }
   ],
   "source": [
    "def success_at_1 (relevant, retrieved):\n",
    "    if len(retrieved) > 0 and retrieved[0] in relevant:\n",
    "        return 1\n",
    "    else:\n",
    "        return 0\n",
    "\n",
    "success_at_1(relevant, retrieved)"
   ]
  },
  {
   "cell_type": "markdown",
   "metadata": {},
   "source": [
    "The first retrieved documentid is 14 which is not in the set of relevant documents, so the `success_at_1` is 0.\n",
    "\n",
    "_________________\n",
    "\n",
    "> Note how easy it is to check if an item occurs in a Python set or list by using the keyword: `in`. Similarly, you can loop over all items in a set of list with: \n",
    "`for doc in retrieved:`, \n",
    "where doc will refer to each item in the set or list. \n",
    "\n",
    "Be sure to use the internet to sharpen your knowledge about Python constructs, for instance on [Python list slicing](https://duckduckgo.com/?q=python+list+slicing). Also note that the code above checks if at least one document is retrieved to avoid an index out of bounds exception (i.e. we avoid to access an empty vector).\n",
    "\n",
    "> ___Suggestion:___ _to be sure of the correctness of the implementation of the performance metrics, you can compute their values manually and compare them with those computed by your functions. This is important, as you will use these metrics for later exercises and to compare the results of differentmodels._"
   ]
  },
  {
   "cell_type": "markdown",
   "metadata": {},
   "source": [
    "## Preparation exercise: _Success at k_\n",
    "The measure _Success at k_ returns 1 if a relevant document is among the first _k_ documents retrieved and zero otherwise.\n",
    "\n",
    "> Success at _k_ measures are well-suited in case there is typically only one relevant document (or retrieving one relevant document is enough).\n",
    "\n",
    " __Implement _Success at 5_ below.__ \n",
    " > The correct result is 1."
   ]
  },
  {
   "cell_type": "code",
   "execution_count": 11,
   "metadata": {},
   "outputs": [
    {
     "data": {
      "text/plain": [
       "1"
      ]
     },
     "execution_count": 11,
     "metadata": {},
     "output_type": "execute_result"
    }
   ],
   "source": [
    "def success_at_5(relevant, retrieved):\n",
    "    return 1 if any(item in relevant for item in retrieved[:5]) else 0\n",
    "    \n",
    "success_at_5(relevant, retrieved)"
   ]
  },
  {
   "cell_type": "markdown",
   "metadata": {},
   "source": [
    "Similarly __implement success at rank 10__\n",
    "\n",
    "> The correct result is 1."
   ]
  },
  {
   "cell_type": "code",
   "execution_count": 12,
   "metadata": {},
   "outputs": [
    {
     "data": {
      "text/plain": [
       "1"
      ]
     },
     "execution_count": 12,
     "metadata": {},
     "output_type": "execute_result"
    }
   ],
   "source": [
    "def success_at_10(relevant, retrieved):\n",
    "    return 1 if any(item in relevant for item in retrieved[:10]) else 0\n",
    "    \n",
    "success_at_10(relevant, retrieved)"
   ]
  },
  {
   "cell_type": "markdown",
   "metadata": {},
   "source": [
    "## Exercise 01.A: _Precision, Recall and F-measure_\n",
    "__1. Implement _Precision_ using Formula 8.1 from [Manning, Raghavan and Schütze](http://nlp.stanford.edu/IR-book).__\n",
    "\n",
    ">_Hint:_ one can count the number of documents in a list using the built-in Python function [len()](https://docs.python.org/3/library/functions.html#len) \\\n",
    "> _example:_ `len(retrieved)` for the number of retrieved documents. "
   ]
  },
  {
   "cell_type": "code",
   "execution_count": null,
   "metadata": {},
   "outputs": [],
   "source": [
    "#THIS IS GRADED!\n",
    "\n",
    "def precision(relevant, retrieved):\n",
    "    # BEGIN ANSWER\n",
    "    # END ANSWER\n",
    "    \n",
    "precision(relevant, retrieved)"
   ]
  },
  {
   "cell_type": "markdown",
   "metadata": {},
   "source": [
    "__2. Implement _Recall_ using Formula 8.2 from [Manning, Raghavan and Schütze](http://nlp.stanford.edu/IR-book).__"
   ]
  },
  {
   "cell_type": "code",
   "execution_count": null,
   "metadata": {},
   "outputs": [],
   "source": [
    "#THIS IS GRADED!\n",
    "\n",
    "def recall(relevant, retrieved):\n",
    "    # BEGIN ANSWER\n",
    "    # END ANSWER\n",
    "    \n",
    "recall(relevant, retrieved)"
   ]
  },
  {
   "cell_type": "markdown",
   "metadata": {},
   "source": [
    "__3. Implement the balanced F measure (_F_ with β=1) using Formula 8.6 from [Manning, Raghavan and Schütze](http://nlp.stanford.edu/IR-book).__\n",
    "\n",
    "> Tip: you may reuse your implementations of precision and recall"
   ]
  },
  {
   "cell_type": "code",
   "execution_count": null,
   "metadata": {},
   "outputs": [],
   "source": [
    "#THIS IS GRADED!\n",
    "\n",
    "def f_measure(relevant, retrieved):\n",
    "    # BEGIN ANSWER\n",
    "    # END ANSWER\n",
    "    \n",
    "f_measure(relevant, retrieved)"
   ]
  },
  {
   "cell_type": "markdown",
   "metadata": {},
   "source": [
    "## Exercise 01.B: _Precision at rank k_ and  _R-Precision_\n",
    "\n",
    "Precision, Recall and F are _set_-based measures and suited for unranked lists of documents. If our search system returns a ranked _list_ of results, we can measure precision for several cut-off levels _k_ in the ranked list, i.e. we evaluate the relevance of the TOP-_k_ retrieved documents _(see lecture 01 slides and the book chapter)_. \n",
    "\n",
    "\n",
    "**1. Implement the function `precision_at_k()` that measures the precision at rank _k_**\n",
    "\n",
    "> Interesting fact: For _k_=1, the _Precision at rank 1_ would be the samen as _Success at rank 1_ (why?) "
   ]
  },
  {
   "cell_type": "code",
   "execution_count": null,
   "metadata": {},
   "outputs": [],
   "source": [
    "#THIS IS GRADED!\n",
    "\n",
    "def precision_at_k(relevant, retrieved, k):\n",
    "    # BEGIN ANSWER\n",
    "    # END ANSWER\n",
    "\n",
    "print('Pr@1: %1.2f' % precision_at_k(relevant, retrieved, k=1))\n",
    "print('Pr@5: %1.2f' % precision_at_k(relevant, retrieved, k=5))\n",
    "print('Pr@10: %1.2f' % precision_at_k(relevant, retrieved, k=10))\n"
   ]
  },
  {
   "cell_type": "markdown",
   "metadata": {},
   "source": [
    "__2. Implement R-Precision as defined in Chapter 8 of [Manning, Raghavan and Schütze](http://nlp.stanford.edu/IR-book)__."
   ]
  },
  {
   "cell_type": "code",
   "execution_count": null,
   "metadata": {},
   "outputs": [],
   "source": [
    "#THIS IS GRADED!\n",
    "\n",
    "def r_precision(relevant, retrieved):\n",
    "    # BEGIN ANSWER\n",
    "    # END ANSWER\n",
    "    \n",
    "r_precision(relevant, retrieved)"
   ]
  },
  {
   "cell_type": "markdown",
   "metadata": {},
   "source": [
    "## Exercise 01.D:  Interpolated precision at _recall_ X\n",
    "\n",
    "Another way to address ranked retrieval is to measure precision for several _recall_ levels _X_.\n",
    "\n",
    "__Implement the function `interpolated_precision_at_recall_X()` that measures the interpolated precision at recall level _X_ as defined by formula 8.7 of [Manning, Raghavan and Schütze](http://nlp.stanford.edu/IR-book).__\n",
    "\n",
    "> Tip: calculate for each rank the recall. If the recall is greater than or equal to X, \n",
    "> calculate the precision. Keep the highest (maximum) precision of those to be returned at the end."
   ]
  },
  {
   "cell_type": "code",
   "execution_count": null,
   "metadata": {},
   "outputs": [],
   "source": [
    "#THIS IS GRADED!\n",
    "\n",
    "def interpolated_precision_at_recall_X (relevant, retrieved, X):\n",
    "    # BEGIN ANSWER\n",
    "    # END ANSWER\n",
    "    \n",
    " \n",
    "\n",
    "print('Pr_i@Re01: %1.2f' % interpolated_precision_at_recall_X(relevant, retrieved, X=0.1))\n",
    "print('Pr_i@Re02: %1.2f' % interpolated_precision_at_recall_X(relevant, retrieved, X=0.2))\n",
    "print('Pr_i@Re03: %1.2f' % interpolated_precision_at_recall_X(relevant, retrieved, X=0.3))\n",
    "print('Pr_i@Re04: %1.2f' % interpolated_precision_at_recall_X(relevant, retrieved, X=0.4))\n",
    "print('Pr_i@Re05: %1.2f' % interpolated_precision_at_recall_X(relevant, retrieved, X=0.5))\n",
    "print('Pr_i@Re06: %1.2f' % interpolated_precision_at_recall_X(relevant, retrieved, X=0.6))\n",
    "print('Pr_i@Re07: %1.2f' % interpolated_precision_at_recall_X(relevant, retrieved, X=0.7))\n",
    "print('Pr_i@Re08: %1.2f' % interpolated_precision_at_recall_X(relevant, retrieved, X=0.8))\n",
    "print('Pr_i@Re09: %1.2f' % interpolated_precision_at_recall_X(relevant, retrieved, X=0.9))\n",
    "print('Pr_i@Re10: %1.2f' % interpolated_precision_at_recall_X(relevant, retrieved, X=1))"
   ]
  },
  {
   "cell_type": "markdown",
   "metadata": {},
   "source": [
    "## Exercise 01.E:  _Average Precision_\n",
    "\n",
    "For a single information need, _Average Precision_ is the average of the precision value obtained for the set of top k documents existing after each relevant document is retrieved (see [Manning, Raghavan and Schütze](http://nlp.stanford.edu/IR-book), Pages 159 and 160). \n",
    "\n",
    "__Implement _Average Precision_ for a single information need.__"
   ]
  },
  {
   "cell_type": "code",
   "execution_count": null,
   "metadata": {},
   "outputs": [],
   "source": [
    "#THIS IS GRADED!\n",
    "\n",
    "def average_precision(relevant, retrieved):\n",
    "    # BEGIN ANSWER\n",
    "    # END ANSWER\n",
    "\n",
    "average_precision(relevant, retrieved)"
   ]
  },
  {
   "cell_type": "markdown",
   "metadata": {},
   "source": [
    "***\n",
    "## Performance measures in TREC benchmarks\n",
    "\n",
    "The relevance judgments are provided by TREC in so-called _\"qrels\"_ files that look as follows:\n",
    "\n",
    "    1000 Q0 1341 1\n",
    "    1000 Q0 1231 0\n",
    "    1001 Q0 12332 1\n",
    "     ...\n",
    "\n",
    "The columns of the _qrels_ file contain:\n",
    "1. the query identifier\n",
    "2. the query number within that topic (currently unused and should always be Q0)\n",
    "3. the document identifier that was examined by the judges\n",
    "4. the relevance of the document (_1_:relevant; _0_: not relevant).\n",
    "\n",
    "Below we provide some Python code that reads the _qrels_ and the _run_. The qrels will be put in the Python dictionary `all_relevant`. A [Python dictionary](https://docs.python.org/3/tutorial/datastructures.html#dictionaries) provides quick lookup of a set of values given a key. We will use the `query_id` as a key, and a [Python set](https://docs.python.org/3/tutorial/datastructures.html#sets) of relevant document identifiers. For the partial qrels file above, `all_relevant` would look as follows:\n",
    "\n",
    "    {\n",
    "        \"1000\": set([\"1341\", \"1231\"]),\n",
    "        \"1001\": set([\"12332\"])\n",
    "    }\n",
    "    \n",
    "We will use a dictionary called `all_retrieved` with `query_id` as key, and as value a [Python list](https://docs.python.org/3/tutorial/introduction.html#lists) of document identifiers retrieved by the IR system:\n",
    "\n",
    "    {\n",
    "        \"1000\": [\"1341\", \"12346, \"2345\"],\n",
    "        \"1001\": [..., ..., ...],\n",
    "        ...\n",
    "    }\n",
    "\n",
    "Note that, with this data structure, for each `query_id` we can easily access the list of retrieved and relevant documents, and compute the performance metrics. We can then average these measures over all the queries to compute the mean performance of the IR system on the given retrieval task.\n",
    "\n",
    "Please examine the code below, and make sure you understand every line. Use the Python documentation where needed."
   ]
  },
  {
   "cell_type": "markdown",
   "metadata": {},
   "source": [
    "### DATA: the TREC genomics benchmark\n",
    "\n",
    "For the following exercises, we will use a subset of the TREC genomics document collection and queries. \n",
    "It is stored in the folder `data01/` in the directory where you have been instructed to place the assignment notebooks (`/`).\n",
    "\n",
    "The collections contains:\n",
    "\n",
    "* `FIR-s05-medline.json` (the collection in Elasticsearch batch format - because of its size it cannot be indexed with a single curl command!)\n",
    "* `FIR-s05-training-queries-simple.txt` (test queries)\n",
    "* `FIR-s05-training-qrels.txt` (the \"relevance judgements\" for the test queries, i.e. the correct answers)\n",
    "\n",
    "> ___Note___ that these files contain a subset of the documents and queries of the TREC genomics track benchmark, to facilitate experimentations with less computation time needed.\n",
    "> The original files are also included in the `data01/` directory, withouth the `FIR-s05-` prefix (you may use them for the final project).\n",
    "\n",
    "To make things easy, the data is already provided in Elasticsearch' batch processing format. \n",
    "Inspect the collection file in the terminal:\n",
    "\n",
    "`head FIR-s05-medline.json`\n",
    "\n",
    "This shows the first 5 documents in the collection (in JSON format prepared for ElasticSearch, as you have seen in the tutorial)\n",
    "\n",
    "#### Baseline model and results\n",
    "We also provide the list of retrieved documents by a _baseline_ model, in the file `data01/baseline.run`. For each query, it contains the list of document IDs of the retrieved documents (to be compared with those in the qrels file). We use this file in the examples and evaluation exercises below. "
   ]
  },
  {
   "cell_type": "code",
   "execution_count": null,
   "metadata": {},
   "outputs": [],
   "source": [
    "def read_qrels_file(qrels_file):  # reads the content of he qrels file\n",
    "    trec_relevant = dict()  # query_id -> set([docid1, docid2, ...])\n",
    "    with open(qrels_file, 'r') as qrels:\n",
    "        for line in qrels:\n",
    "            (qid, q0, doc_id, rel) = line.strip().split()\n",
    "            if qid not in trec_relevant:\n",
    "                trec_relevant[qid] = set()\n",
    "            if (rel == \"1\"):\n",
    "                trec_relevant[qid].add(doc_id)\n",
    "    return trec_relevant\n",
    "\n",
    "def read_run_file(run_file):  \n",
    "    # read the content of the run file produced by our IR system \n",
    "    # (in the following exercises you will create your own run_files)\n",
    "    trec_retrieved = dict()  # query_id -> [docid1, docid2, ...]\n",
    "    with open(run_file, 'r') as run:\n",
    "        for line in run:\n",
    "            (qid, q0, doc_id, rank, score, tag) = line.strip().split()\n",
    "            if qid not in trec_retrieved:\n",
    "                trec_retrieved[qid] = []\n",
    "            trec_retrieved[qid].append(doc_id) \n",
    "    return trec_retrieved\n",
    "    \n",
    "\n",
    "def read_eval_files(qrels_file, run_file):\n",
    "    return read_qrels_file(qrels_file), read_run_file(run_file)\n",
    "\n",
    "(all_relevant, all_retrieved) = read_eval_files('data01/FIR-s05-training-qrels.txt', 'data01/baseline.run')"
   ]
  },
  {
   "cell_type": "markdown",
   "metadata": {},
   "source": [
    "### _Number of queries_ and _number of retrieved documents per query_\n",
    " \n",
    "The following code counts the number of queries evaluated in the file `baseline.run` (provided in the `data01/` folder, containing the list of doc-ids retrieved using a baseline model) and prints it (use the result from the cell above). For each query, it also prints the number of documents that were retrieved for that query."
   ]
  },
  {
   "cell_type": "code",
   "execution_count": null,
   "metadata": {},
   "outputs": [],
   "source": [
    "print('Number of retrieved documents: %d' % len(all_retrieved))\n",
    "\n",
    "for qid in all_retrieved:\n",
    "    print ('Docs retrieved for query #{}: {}'.format(qid, str(len(all_retrieved[qid]))))"
   ]
  },
  {
   "cell_type": "markdown",
   "metadata": {},
   "source": [
    "For your own understanding, __inspect the structure and content of the `all_retrieved` and `all_relevant` data structures__ to understand them better. Use the `print()` function to see the content of the data structures."
   ]
  },
  {
   "cell_type": "code",
   "execution_count": null,
   "metadata": {},
   "outputs": [],
   "source": [
    "# write here the code to inspect the data structures\n"
   ]
  },
  {
   "cell_type": "markdown",
   "metadata": {},
   "source": [
    "## Exercise 01.F: _mean average precision_\n",
    "__Using the `average_precision()` function you implemented above, write the code to compute the _Mean Average Precision_ for the `baseline.run` results.__"
   ]
  },
  {
   "cell_type": "code",
   "execution_count": null,
   "metadata": {},
   "outputs": [],
   "source": [
    "#THIS IS GRADED!\n",
    "\n",
    "def mean_average_precision(all_relevant, all_retrieved):\n",
    "    # BEGIN ANSWER\n",
    "    # END ANSWER\n",
    "    return total / count\n",
    "\n",
    "mapr = mean_average_precision(all_relevant, all_retrieved)\n",
    "print('Mean Average Precision (MAP): %1.3f\\n' % mapr)"
   ]
  },
  {
   "cell_type": "markdown",
   "metadata": {},
   "source": [
    "***\n",
    "## TREC benchmark evaluation\n",
    "\n",
    "Below you find a function that take `all_relevant` and `all_retrieved` to compute the mean value of the `measure` over all queries. \n",
    "\n",
    "The function `mean_metric()`'s first function argument, `measure`, is a special argument: it is a function too! The `mean_metric` function sums the total score for the particular measure and divides it by the number of queries. It computes the average measures over all the query results.\n",
    "\n",
    "_This part will be reused later to compare the results of different models._"
   ]
  },
  {
   "cell_type": "code",
   "execution_count": null,
   "metadata": {},
   "outputs": [],
   "source": [
    "def mean_metric(measure, all_relevant, all_retrieved):\n",
    "    total = 0\n",
    "    count = 0\n",
    "    for qid in all_relevant:\n",
    "        relevant  = all_relevant[qid]\n",
    "        retrieved = all_retrieved.get(qid, [])\n",
    "        value = measure(relevant, retrieved)\n",
    "        total += value\n",
    "        count += 1\n",
    "    return \"mean \" + measure.__name__, total / count\n",
    "\n",
    "# Example of use of the mean_metric function: computing the average r_precision\n",
    "mean_metric(r_precision, all_relevant, all_retrieved)"
   ]
  },
  {
   "cell_type": "markdown",
   "metadata": {},
   "source": [
    "### TREC overview of the results of a run\n",
    "The following two functions use your implementation of the metrics to create an overview of the performance metrics on the TREC benchmark data. Give a look at the numbers and make your own interpretations of the results. "
   ]
  },
  {
   "cell_type": "code",
   "execution_count": 52,
   "metadata": {},
   "outputs": [
    {
     "ename": "NameError",
     "evalue": "name 'read_eval_files' is not defined",
     "output_type": "error",
     "traceback": [
      "\u001b[0;31m---------------------------------------------------------------------------\u001b[0m",
      "\u001b[0;31mNameError\u001b[0m                                 Traceback (most recent call last)",
      "Cell \u001b[0;32mIn[52], line 57\u001b[0m\n\u001b[1;32m     54\u001b[0m     \u001b[38;5;28;01mfor\u001b[39;00m (metric, score) \u001b[38;5;129;01min\u001b[39;00m results:\n\u001b[1;32m     55\u001b[0m         \u001b[38;5;28mprint\u001b[39m(\u001b[38;5;124m\"\u001b[39m\u001b[38;5;132;01m{:<30}\u001b[39;00m\u001b[38;5;124m \u001b[39m\u001b[38;5;132;01m{:.4}\u001b[39;00m\u001b[38;5;124m\"\u001b[39m\u001b[38;5;241m.\u001b[39mformat(metric, score))\n\u001b[0;32m---> 57\u001b[0m \u001b[43mprint_trec_eval\u001b[49m\u001b[43m(\u001b[49m\u001b[38;5;124;43m'\u001b[39;49m\u001b[38;5;124;43mdata01/FIR-s05-training-qrels.txt\u001b[39;49m\u001b[38;5;124;43m'\u001b[39;49m\u001b[43m,\u001b[49m\u001b[43m \u001b[49m\u001b[38;5;124;43m'\u001b[39;49m\u001b[38;5;124;43mdata01/baseline.run\u001b[39;49m\u001b[38;5;124;43m'\u001b[39;49m\u001b[43m)\u001b[49m\n",
      "Cell \u001b[0;32mIn[52], line 52\u001b[0m, in \u001b[0;36mprint_trec_eval\u001b[0;34m(qrels_file, run_file)\u001b[0m\n\u001b[1;32m     51\u001b[0m \u001b[38;5;28;01mdef\u001b[39;00m \u001b[38;5;21mprint_trec_eval\u001b[39m(qrels_file, run_file):\n\u001b[0;32m---> 52\u001b[0m     results \u001b[38;5;241m=\u001b[39m \u001b[43mtrec_eval\u001b[49m\u001b[43m(\u001b[49m\u001b[43mqrels_file\u001b[49m\u001b[43m,\u001b[49m\u001b[43m \u001b[49m\u001b[43mrun_file\u001b[49m\u001b[43m)\u001b[49m\n\u001b[1;32m     53\u001b[0m     \u001b[38;5;28mprint\u001b[39m(\u001b[38;5;124m\"\u001b[39m\u001b[38;5;124mResults for \u001b[39m\u001b[38;5;132;01m{}\u001b[39;00m\u001b[38;5;124m\"\u001b[39m\u001b[38;5;241m.\u001b[39mformat(run_file))\n\u001b[1;32m     54\u001b[0m     \u001b[38;5;28;01mfor\u001b[39;00m (metric, score) \u001b[38;5;129;01min\u001b[39;00m results:\n",
      "Cell \u001b[0;32mIn[52], line 20\u001b[0m, in \u001b[0;36mtrec_eval\u001b[0;34m(qrels_file, run_file)\u001b[0m\n\u001b[1;32m     17\u001b[0m \u001b[38;5;28;01mdef\u001b[39;00m \u001b[38;5;21mprecision_at_recall_09\u001b[39m(rel, ret): \u001b[38;5;28;01mreturn\u001b[39;00m interpolated_precision_at_recall_X(rel, ret, X\u001b[38;5;241m=\u001b[39m\u001b[38;5;241m0.9\u001b[39m)\n\u001b[1;32m     18\u001b[0m \u001b[38;5;28;01mdef\u001b[39;00m \u001b[38;5;21mprecision_at_recall_10\u001b[39m(rel, ret): \u001b[38;5;28;01mreturn\u001b[39;00m interpolated_precision_at_recall_X(rel, ret, X\u001b[38;5;241m=\u001b[39m\u001b[38;5;241m1.0\u001b[39m)\n\u001b[0;32m---> 20\u001b[0m (all_relevant, all_retrieved) \u001b[38;5;241m=\u001b[39m \u001b[43mread_eval_files\u001b[49m(qrels_file, run_file)\n\u001b[1;32m     22\u001b[0m unknown_qids \u001b[38;5;241m=\u001b[39m \u001b[38;5;28mset\u001b[39m(all_retrieved\u001b[38;5;241m.\u001b[39mkeys())\u001b[38;5;241m.\u001b[39mdifference(all_relevant\u001b[38;5;241m.\u001b[39mkeys())\n\u001b[1;32m     23\u001b[0m \u001b[38;5;28;01mif\u001b[39;00m \u001b[38;5;28mlen\u001b[39m(unknown_qids) \u001b[38;5;241m>\u001b[39m \u001b[38;5;241m0\u001b[39m:\n",
      "\u001b[0;31mNameError\u001b[0m: name 'read_eval_files' is not defined"
     ]
    }
   ],
   "source": [
    "def trec_eval(qrels_file, run_file):\n",
    "\n",
    "    def precision_at_1(rel, ret): return precision_at_k(rel, ret, k=1)\n",
    "    def precision_at_5(rel, ret): return precision_at_k(rel, ret, k=5)\n",
    "    def precision_at_10(rel, ret): return precision_at_k(rel, ret, k=10)\n",
    "    def precision_at_50(rel, ret): return precision_at_k(rel, ret, k=50)\n",
    "    def precision_at_100(rel, ret): return precision_at_k(rel, ret, k=100)\n",
    "    def precision_at_recall_00(rel, ret): return interpolated_precision_at_recall_X(rel, ret, X=0.0)\n",
    "    def precision_at_recall_01(rel, ret): return interpolated_precision_at_recall_X(rel, ret, X=0.1)\n",
    "    def precision_at_recall_02(rel, ret): return interpolated_precision_at_recall_X(rel, ret, X=0.2)\n",
    "    def precision_at_recall_03(rel, ret): return interpolated_precision_at_recall_X(rel, ret, X=0.3)\n",
    "    def precision_at_recall_04(rel, ret): return interpolated_precision_at_recall_X(rel, ret, X=0.4)\n",
    "    def precision_at_recall_05(rel, ret): return interpolated_precision_at_recall_X(rel, ret, X=0.5)\n",
    "    def precision_at_recall_06(rel, ret): return interpolated_precision_at_recall_X(rel, ret, X=0.6)\n",
    "    def precision_at_recall_07(rel, ret): return interpolated_precision_at_recall_X(rel, ret, X=0.7)\n",
    "    def precision_at_recall_08(rel, ret): return interpolated_precision_at_recall_X(rel, ret, X=0.8)\n",
    "    def precision_at_recall_09(rel, ret): return interpolated_precision_at_recall_X(rel, ret, X=0.9)\n",
    "    def precision_at_recall_10(rel, ret): return interpolated_precision_at_recall_X(rel, ret, X=1.0)\n",
    "\n",
    "    (all_relevant, all_retrieved) = read_eval_files(qrels_file, run_file)\n",
    "    \n",
    "    unknown_qids = set(all_retrieved.keys()).difference(all_relevant.keys())\n",
    "    if len(unknown_qids) > 0:\n",
    "        raise ValueError(\"Unknown qids in run: {}\".format(sorted(list(unknown_qids))))\n",
    "\n",
    "    metrics = [success_at_1,\n",
    "               success_at_5,\n",
    "               success_at_10,\n",
    "               r_precision,\n",
    "               precision_at_1,\n",
    "               precision_at_5,\n",
    "               precision_at_10,\n",
    "               precision_at_50,\n",
    "               precision_at_100,\n",
    "               precision_at_recall_00,\n",
    "               precision_at_recall_01,\n",
    "               precision_at_recall_02,\n",
    "               precision_at_recall_03,\n",
    "               precision_at_recall_04,\n",
    "               precision_at_recall_05,\n",
    "               precision_at_recall_06,\n",
    "               precision_at_recall_07,\n",
    "               precision_at_recall_08,\n",
    "               precision_at_recall_09,\n",
    "               precision_at_recall_10,\n",
    "               average_precision]\n",
    "\n",
    "    return [mean_metric(metric, all_relevant, all_retrieved) for metric in metrics]\n",
    "\n",
    "\n",
    "def print_trec_eval(qrels_file, run_file):\n",
    "    results = trec_eval(qrels_file, run_file)\n",
    "    print(\"Results for {}\".format(run_file))\n",
    "    for (metric, score) in results:\n",
    "        print(\"{:<30} {:.4}\".format(metric, score))\n",
    "\n",
    "print_trec_eval('data01/FIR-s05-training-qrels.txt', 'data01/baseline.run')"
   ]
  },
  {
   "cell_type": "markdown",
   "metadata": {
    "collapsed": true
   },
   "source": [
    "## Exercise 01.G: _Significance testing_\n",
    "\n",
    "Testing the statistical significance of differences of the results of different IR systems is important (see slides of lecture 01 and course book, Section 8.8). One of the basic tests one can perform is the two-tailed [sign test](https://en.wikipedia.org/wiki/Sign_test).\n",
    "\n",
    "Only for this exercise, we use the run files obtained by  [Hiemstra and Aly](https://djoerdhiemstra.com/wp-content/uploads/trec2014mirex-draft.pdf) for the TREC Web track 2014 benchmark (note these files are from a different benchmark from what we have been working with so far). The `utbase.run` file was generated using Language Modeling, while `utexact.run` was generated using an IR system based on matching the exact query string, and ranking the documents by  the number of exact matches found.  The exact run improves the _Precision at 5_ to 0.456 (compared to 0.440 for the baseline run).  \n",
    "\n",
    "__Implement the code to perform the _sign test_ of statistical significance.__\n",
    "> _Hint:_ for each sign, compute the number of queries that increase/descrease performance (called `better, worse` in the code below). How would you use these values to compute the _p_ value of the two-tailed sign test? Is the difference between _utbase_ and _utexact_ significant?"
   ]
  },
  {
   "cell_type": "code",
   "execution_count": null,
   "metadata": {},
   "outputs": [],
   "source": [
    "#THIS IS GRADED!\n",
    "\n",
    "def sign_test_values(measure, qrels_file, run_file_1, run_file_2):\n",
    "    all_relevant = read_qrels_file(qrels_file)\n",
    "    all_retrieved_1 = read_run_file(run_file_1)\n",
    "    all_retrieved_2 = read_run_file(run_file_2)\n",
    "    better = 0\n",
    "    worse  = 0\n",
    "    # BEGIN ANSWER\n",
    "    # END ANSWER\n",
    "    return(better, worse)\n",
    "    \n",
    "def precision_at_rank_5(rel, ret):\n",
    "    return precision_at_k(rel, ret, k=5)\n",
    "\n",
    "sign_test_values(precision_at_rank_5, 'data01/trec.qrels', 'data01/utbase.run', 'data01/utexact.run')"
   ]
  },
  {
   "cell_type": "code",
   "execution_count": null,
   "metadata": {},
   "outputs": [],
   "source": [
    "# BEGIN ANSWER\n",
    "# END ANSWER"
   ]
  },
  {
   "cell_type": "markdown",
   "metadata": {},
   "source": [
    "***\n",
    "***\n",
    "***\n",
    "***\n",
    "***\n",
    "\n",
    "# Part 02 - Indexing and querying with ElasticSearch"
   ]
  },
  {
   "cell_type": "markdown",
   "metadata": {},
   "source": [
    "## Preparation: Getting started with Elasticsearch\n",
    "\n",
    "The following parts of the assignment will be based on ElasticSearch. you are adviced to go through the \"Elasticsearch, [reference guide](https://www.elastic.co/guide/en/elasticsearch/reference/current/getting-started.html)\", and work on the tutorials. You can skip the section on [Installation](https://www.elastic.co/guide/en/elasticsearch/reference/current/_installation.html), as we provide it already installed in the Virtual Machine.\n",
    "\n",
    "> If you want (disclaimer: we do __not__ give help with this!), you can \n",
    "> follow the [Installation](https://www.elastic.co/guide/en/elasticsearch/reference/current/_installation.html) to run Elasticsearch on your laptop without VM. Beware your system will likely be different from the \n",
    "> one of your colleagues and they might not be able to help you if \n",
    "> you have problems that are specific to your system, your operating\n",
    "> system, or your Elasticsearch version.\n",
    "\n",
    "### Starting/Stopping ElasticSearch\n",
    "To start ElasticSearch on the virtual machine, you can type `sudo service elasticsearch start` in a Terminal.\n",
    "To stop the ElasticSearch server, instead, you can type `sudo service elasticsearch stop`. Refer at the [the official guide](https://www.elastic.co/guide/en/elasticsearch/reference/current/deb.html#deb-running-init), for more information.\n",
    "\n",
    "### The REST API\n",
    "\n",
    "Elasticsearch runs its own server that can be accessed by a regular web browser by opening this link: http://localhost:9200. \n",
    "\n",
    "Elasticsearch will respond with something like:\n",
    "\n",
    "    {\n",
    "        \"name\" : \"fir-machine\",\n",
    "        \"cluster_name\" : \"elasticsearch\",\n",
    "        \"cluster_uuid\" : \"w7SBVo1ESVivMApbLIqRvA\",\n",
    "        \"version\" : {\n",
    "            \"number\" : \"7.9.0\",\n",
    "            \"build_flavor\" : \"default\",\n",
    "            \"build_type\" : \"deb\",\n",
    "            \"build_hash\" : \"a479a2a7fce0389512d6a9361301708b92dff667\",\n",
    "            \"build_date\" : \"2020-08-11T21:36:48.204330Z\",\n",
    "            \"build_snapshot\" : false,\n",
    "            \"lucene_version\" : \"8.6.0\",\n",
    "            \"minimum_wire_compatibility_version\" : \"6.8.0\",\n",
    "            \"minimum_index_compatibility_version\" : \"6.0.0-beta1\"\n",
    "        },\n",
    "        \"tagline\" : \"You Know, for Search\"\n",
    "    }\n",
    "\n",
    "\n",
    "If you see this, then your Elasticsearch node is up and running. The RESTful API uses simple text or JSON over HTTP. \n",
    "\n",
    "> REST, API, JSON, HTTP, that's a lot of abbreviations! It is good to\n",
    "> be familiar with the terminology. Let us explain: The Elasticsearch\n",
    "> response is not (only) intended for humans. It is supposed to be used \n",
    "> by applications that run on the client machines, and therefore the\n",
    "> interface is called an Application Programming Interface (API). The \n",
    "> API uses a format called JSON (JavaScript Object Notation), which \n",
    "> can be easily read by machines (and humans). The API sends its JSON\n",
    "> response using the same method as your web browser displays web\n",
    "> pages. This method is called HTTP (Hyper Text Transfer Protocol), \n",
    "> and it is the reason you can inspect the response in a normal web\n",
    "> browser. APIs that use HTTP are called RESTful interfaces. REST \n",
    "> stands for REpresentational State Transfer, arguably one of the\n",
    "> simplest ways to define an API.\n",
    "\n",
    "\n",
    "### Interacting with the ElasticSearch server\n",
    "\n",
    "You can interact with your Elasticsearch service in different ways. In this first part we explore Kibana, a dashboard for inspection of your indices. Later during the practical work we will use the Python Elasticsearch client or the DSL library. You can also start yourself with Python.\n",
    "\n",
    "#### Kibana\n",
    "Kibana provides a web interface to interact with your Elasticsearch service. It's available from http://localhost:5601. You can use Kibana to create interactive dashboards visualizing data in your Elasticsearch indices. It also provides a console to execute Elasticsearch commands. It's available from http://localhost:5601/app/kibana#/dev_tools\n",
    "\n",
    "To start Kibana on the virtual machine, you can type `sudo service kibana start` in a Terminal. \\\n",
    "To stop the Kibana server, instead, you can type `sudo service kibana stop`.\n",
    "\n",
    "Many examples from the Elasticsearch user guide can be directly executed in Kibana by clicking on the `CONSOLE` button.\n",
    "\n"
   ]
  },
  {
   "cell_type": "markdown",
   "metadata": {},
   "source": [
    "# Indexing and queries (Exercises - Part 02)\n",
    "\n",
    "_You can work on this part after Lecture 01 already_\n"
   ]
  },
  {
   "cell_type": "markdown",
   "metadata": {},
   "source": [
    "## Collection indexing: useful code\n",
    "\n",
    "We provide some code to read the TREC collection documents and index them into the ElasticSearch engine.\n",
    "As we need to re-index the document collection when we use a different indexing configurations (called Mappings in ElasticSearch), we developed some functions to support a quick re-indexing in the following exercises.\n",
    "\n",
    "Below you find the Python code for bulk-indexing our (FIR)Medline collection. Execute the following cells to index the collection in an Elasticsearch index called `genomics'. Study the code carefully, as you will use the indexing functions later for the completion of the assignment.\n",
    "\n",
    "> The code uses additional helper functions \n",
    "> (`elasticsearch.helpers`) and a library for processing JSON.\n",
    "> The function `read_documents()` reads the bulk collection file: The \n",
    "> function is a [Python generator](https://wiki.python.org/moin/Generators) function. It generates an 'on-demand' list\n",
    "> by using the statement `yield` for every item of the list. It\n",
    "> is used in the helper function `elasticsearch.helpers.bulk()`.\n",
    "> The statement `raise` is Python's approach to throw exceptions: it exits the program with an error.\n",
    "> Note the (keyword) arguments to bulk:\n",
    "> `chunk_size` indicates the number of documents to be processed by\n",
    "> elasticsearch in one batch. \n",
    "> The request_timeout is set to 30 seconds because processing a single batch\n",
    "> of documents can take some time.\n",
    "\n",
    "> __Note:__ _when processing a bulk index, be sure to have few GigaBytes free on the hard drive of the VM. If you get a BulkIndexError with read-only/FORBIDDEN errors, you probably have too little hard drive space available for ElasticSearch to work properly._\n",
    "\n",
    "\n",
    "**_Note:_ indexing the (FIR)TREC genomics collection can take some time, be patient.**"
   ]
  },
  {
   "cell_type": "code",
   "execution_count": 1,
   "metadata": {},
   "outputs": [],
   "source": [
    "import elasticsearch\n",
    "import elasticsearch.helpers\n",
    "import json\n",
    "\n",
    "def read_documents(file_name):\n",
    "    \"\"\"\n",
    "    Returns a generator of documents to be indexed by elastic, read from file_name\n",
    "    \"\"\"\n",
    "    with open(file_name, 'r') as documents:\n",
    "        for line in documents:\n",
    "            doc_line = json.loads(line)\n",
    "            if ('index' in doc_line):\n",
    "                id = doc_line['index']['_id']\n",
    "            elif ('PMID' in doc_line):\n",
    "                doc_line['_id'] = id\n",
    "                yield doc_line\n",
    "            else:\n",
    "                raise ValueError('Woops, error in index file')\n",
    "\n",
    "def create_index(es, index_name, body={}):\n",
    "    # delete index when it already exists\n",
    "    es.indices.delete(index=index_name, ignore=[400, 404])\n",
    "    # create the index \n",
    "    es.indices.create(index=index_name, body=body)\n",
    "                \n",
    "def index_documents(es, collection_file_name, index_name, body={}):\n",
    "    create_index(es, index_name, body)\n",
    "    # bulk index the documents from file_name\n",
    "    return elasticsearch.helpers.bulk(\n",
    "        es, \n",
    "        read_documents(collection_file_name),\n",
    "        index=index_name,\n",
    "        chunk_size=2000,\n",
    "        request_timeout=30\n",
    "    )"
   ]
  },
  {
   "cell_type": "code",
   "execution_count": 8,
   "metadata": {},
   "outputs": [
    {
     "name": "stderr",
     "output_type": "stream",
     "text": [
      "/var/folders/1y/f8n3xy297gjbt471z8k3jv0h0000gn/T/ipykernel_55545/1573036711.py:22: DeprecationWarning: Passing transport options in the API method is deprecated. Use 'Elasticsearch.options()' instead.\n",
      "  es.indices.delete(index=index_name, ignore=[400, 404])\n",
      "/var/folders/1y/f8n3xy297gjbt471z8k3jv0h0000gn/T/ipykernel_55545/1573036711.py:22: ElasticsearchWarning: Elasticsearch built-in security features are not enabled. Without authentication, your cluster could be accessible to anyone. See https://www.elastic.co/guide/en/elasticsearch/reference/7.17/security-minimal-setup.html to enable security.\n",
      "  es.indices.delete(index=index_name, ignore=[400, 404])\n",
      "/var/folders/1y/f8n3xy297gjbt471z8k3jv0h0000gn/T/ipykernel_55545/1573036711.py:24: ElasticsearchWarning: Elasticsearch built-in security features are not enabled. Without authentication, your cluster could be accessible to anyone. See https://www.elastic.co/guide/en/elasticsearch/reference/7.17/security-minimal-setup.html to enable security.\n",
      "  es.indices.create(index=index_name, body=body)\n",
      "/var/folders/1y/f8n3xy297gjbt471z8k3jv0h0000gn/T/ipykernel_55545/1573036711.py:29: DeprecationWarning: Passing transport options in the API method is deprecated. Use 'Elasticsearch.options()' instead.\n",
      "  return elasticsearch.helpers.bulk(\n",
      "/var/folders/1y/f8n3xy297gjbt471z8k3jv0h0000gn/T/ipykernel_55545/1573036711.py:29: ElasticsearchWarning: Elasticsearch built-in security features are not enabled. Without authentication, your cluster could be accessible to anyone. See https://www.elastic.co/guide/en/elasticsearch/reference/7.17/security-minimal-setup.html to enable security.\n",
      "  return elasticsearch.helpers.bulk(\n"
     ]
    },
    {
     "data": {
      "text/plain": [
       "(263080, [])"
      ]
     },
     "execution_count": 8,
     "metadata": {},
     "output_type": "execute_result"
    }
   ],
   "source": [
    "# Connect to the ElasticSearch server\n",
    "# es = elasticsearch.Elasticsearch(host='localhost')  # in case you use Docker, the host is 'elasticsearch'\n",
    "es = elasticsearch.Elasticsearch(hosts=[{'host': 'localhost', 'port': 9200, 'scheme':'http'}])  # use the correct port if not default\n",
    "\n",
    "# Index the collection into the index called 'genomics'\n",
    "body = {} # no indexing options (leave default)\n",
    "index_documents(es, 'data01/FIR-s05-medline.json', 'genomics-base', body)"
   ]
  },
  {
   "cell_type": "markdown",
   "metadata": {},
   "source": [
    "> You can change the name of the index, in case you want to have different indices of the same collection created with different indexing settings, and compare the performance on the test queries. \n",
    "\n",
    "> E.g. you create two indices 'genomics01' and 'genomics02': genomics01 uses the default options, while genomics02 uses custom tokenizers. You will then have two indices with different characteristics (and probably different performance). "
   ]
  },
  {
   "cell_type": "markdown",
   "metadata": {},
   "source": [
    "## Exercise 02.A: index properties and querying"
   ]
  },
  {
   "cell_type": "markdown",
   "metadata": {},
   "source": [
    "__1. Query the index called 'genomics-base' and determine how many documents are indexed.__\n",
    "\n",
    "You can use Kibana (suggested for the time being - you can use the command line in Kibana), the Python ElasticSearch library or DSL. Report the code you implemented and the resulting number of documents."
   ]
  },
  {
   "cell_type": "code",
   "execution_count": 12,
   "metadata": {},
   "outputs": [
    {
     "data": {
      "text/plain": [
       "263080"
      ]
     },
     "execution_count": 12,
     "metadata": {},
     "output_type": "execute_result"
    }
   ],
   "source": [
    "#THIS IS GRADED!\n",
    "\n",
    "# write the code here\n",
    "# BEGIN ANSWER\n",
    "# GET /genomics-base/_count\n",
    "263080\n",
    "# END ANSWER"
   ]
  },
  {
   "cell_type": "markdown",
   "metadata": {},
   "source": [
    "__2. How many documents containing the term `molecule` are there in your index? (searching all fields of the documents).__\n",
    "\n",
    "You can use Kibana (suggested for the time being - you can use the command line in Kibana), the Python ElasticSearch library or DSL. Report the code you implemented and the resulting number of documents."
   ]
  },
  {
   "cell_type": "code",
   "execution_count": 13,
   "metadata": {},
   "outputs": [
    {
     "data": {
      "text/plain": [
       "3404"
      ]
     },
     "execution_count": 13,
     "metadata": {},
     "output_type": "execute_result"
    }
   ],
   "source": [
    "#THIS IS GRADED!\n",
    "\n",
    "# write the code that generates the answer here (you may also use Kibana)\n",
    "# BEGIN ANSWER\n",
    "# GET /genomics-base/_count\n",
    "# {\n",
    "#   \"query\": {\n",
    "#     \"query_string\": {\n",
    "#       \"query\": \"molecule\"\n",
    "#     }\n",
    "#   }\n",
    "# }\n",
    "3404\n",
    "# END ANSWER"
   ]
  },
  {
   "cell_type": "markdown",
   "metadata": {},
   "source": [
    "__3. How many documents containing the term `molecular` are there in your index? (searching all fields of the documents).__\n",
    "\n",
    "You can use Kibana (suggested for the time being - you can use the command line in Kibana), the Python ElasticSearch library or DSL. Report the code you implemented and the resulting number of documents."
   ]
  },
  {
   "cell_type": "code",
   "execution_count": 14,
   "metadata": {},
   "outputs": [
    {
     "data": {
      "text/plain": [
       "31556"
      ]
     },
     "execution_count": 14,
     "metadata": {},
     "output_type": "execute_result"
    }
   ],
   "source": [
    "#THIS IS GRADED!\n",
    "\n",
    "# write the code that generates the answer here (you may also use Kibana)\n",
    "# BEGIN ANSWER\n",
    "# GET /genomics-base/_count\n",
    "# {\n",
    "#   \"query\": {\n",
    "#     \"query_string\": {\n",
    "#       \"query\": \"molecular\"\n",
    "#     }\n",
    "#   }\n",
    "# }\n",
    "31556\n",
    "# END ANSWER"
   ]
  },
  {
   "cell_type": "markdown",
   "metadata": {},
   "source": [
    "__4. How many documents containing the terms `cell` AND `blood` are there in your index? (searching all fields of the documents).__\n",
    "\n",
    "You can use Kibana (suggested for the time being - you can use the command line in Kibana), the Python ElasticSearch library or DSL. Report the code you implemented and the resulting number of documents."
   ]
  },
  {
   "cell_type": "code",
   "execution_count": 17,
   "metadata": {},
   "outputs": [
    {
     "data": {
      "text/plain": [
       "6865"
      ]
     },
     "execution_count": 17,
     "metadata": {},
     "output_type": "execute_result"
    }
   ],
   "source": [
    "#THIS IS GRADED!\n",
    "\n",
    "# write the code that generates the answer here (you may also use Kibana)\n",
    "# BEGIN ANSWER\n",
    "# GET /genomics-base/_count\n",
    "# {\n",
    "#   \"query\": {\n",
    "#     \"query_string\": {\n",
    "#       \"query\": \"cell AND blood\"\n",
    "#     }\n",
    "#   }\n",
    "# }\n",
    "6865\n",
    "# END ANSWER"
   ]
  },
  {
   "cell_type": "code",
   "execution_count": 16,
   "metadata": {},
   "outputs": [
    {
     "name": "stdout",
     "output_type": "stream",
     "text": [
      "Number of results: 6865\n"
     ]
    },
    {
     "name": "stderr",
     "output_type": "stream",
     "text": [
      "/var/folders/1y/f8n3xy297gjbt471z8k3jv0h0000gn/T/ipykernel_55545/2500350886.py:10: ElasticsearchWarning: Elasticsearch built-in security features are not enabled. Without authentication, your cluster could be accessible to anyone. See https://www.elastic.co/guide/en/elasticsearch/reference/7.17/security-minimal-setup.html to enable security.\n",
      "  result = es.search(index='genomics-base', body=body)\n"
     ]
    }
   ],
   "source": [
    "import elasticsearch\n",
    "es = elasticsearch.Elasticsearch(hosts=[{'host': 'localhost', 'port': 9200, 'scheme':'http'}])  # in case you use Docker, the host is 'elasticsearch'\n",
    "\n",
    "# this is another solution (if query_string is used, be sure that AND is in the query, otherwise it will not search properly)\n",
    "term = 'blood AND cell'\n",
    "body = {\"track_total_hits\": True, \"query\": {\"query_string\": \n",
    "                                            {\"query\": term, \n",
    "                                             \"default_operator\":\"AND\", \n",
    "                                             \"auto_generate_synonyms_phrase_query\": True }}}\n",
    "result = es.search(index='genomics-base', body=body)\n",
    "print(\"Number of results: {}\".format(result['hits']['total']['value']))"
   ]
  },
  {
   "cell_type": "markdown",
   "metadata": {},
   "source": [
    "## Exercise 02.B: the Python ElasticSearch library\n",
    "\n",
    "#### Preparation\n",
    "The command line is fine for doing basic operations on your Elasticsearch indices, but as soon as things get more complex, you better use custom client programs.\n",
    "We will use the [Elasticsearch client library for Python](https://elasticsearch-py.readthedocs.io). This library will execute the HTTP requests that you have used before (with CURL or Kibana). The library is pre-installed on the VM.\n",
    "\n",
    "#### Exercise\n",
    "\n",
    "__Write the code that searches the index for _\"molecule\"_ using the [search()](https://elasticsearch-py.readthedocs.io/en/master/api.html#elasticsearch.Elasticsearch.search) function.__ Your code will take at minimum the following steps:\n",
    "\n",
    "1. import the python library `elasticsearch`.\n",
    "2. open a connection with the Elasticsearch host `'elasticsearch'` with `Elasticsearch()`.\n",
    "3. execute a search with `search()` using the index `genomics-base`, and a correct query body.\n",
    "4. print the JSON output of Elasticsearch \n",
    "\n",
    "How many hits are there in your index? Is the result the same as in Exercise 02.A?\n",
    "\n",
    "> Elasticsearch runs on localhost on your laptop, at port 9200 (so as http://localhost:9200)\n"
   ]
  },
  {
   "cell_type": "code",
   "execution_count": 56,
   "metadata": {},
   "outputs": [
    {
     "name": "stdout",
     "output_type": "stream",
     "text": [
      "{\n",
      "  \"took\": 185,\n",
      "  \"timed_out\": false,\n",
      "  \"_shards\": {\n",
      "    \"total\": 1,\n",
      "    \"successful\": 1,\n",
      "    \"skipped\": 0,\n",
      "    \"failed\": 0\n",
      "  },\n",
      "  \"hits\": {\n",
      "    \"total\": {\n",
      "      \"value\": 3404,\n",
      "      \"relation\": \"eq\"\n",
      "    },\n",
      "    \"max_score\": 10.767412,\n",
      "    \"hits\": [\n",
      "      {\n",
      "        \"_index\": \"genomics-base\",\n",
      "        \"_type\": \"_doc\",\n",
      "        \"_id\": \"21807\",\n",
      "        \"_score\": 10.767412,\n",
      "        \"_ignored\": [\n",
      "          \"AB.keyword\"\n",
      "        ],\n",
      "        \"_source\": {\n",
      "          \"AB\": \"OBJECTIVE: With Helios gene gun, the report genes EGFP and Lac-Z were transfected to several cultured mammalian tumor cell lines in vitro and mice skin in vivo, respectively. A stable long time exogene's expression were got. Then, the pWRG3142, which carried mGM-CSF gene was delivered to the abdominal skin of C57BL/6 mice using gene gun. Pathological sections showed the local transproteins' expression companying with a profound inflammation reaction characterized by neutrophilic infiltration. ELISA assay of transfected mouse's serum sample indicated a high improvement of transgenic proteins level, which demonstrated that transgenic GM-CSF secreted from treated skin into the bloodstream effectively. In B16 melanoma tumor model, mice immunized with mGM-CSF expression plasmids could be partially protected from 1 x 10(5) B16 cells challenge and exhibited a drastically reduced tumor growth rate. Finally, we conclucled that exogenes could be transfected into cultured cell lines and mice skin effectively by gene gun technology, and gene gun mediated in vivo delivery of GM-CSF cDNA should be further developed for potential clinical testing as an approach for human cancer gene therapy.\",\n",
      "          \"AD\": \"National Lab of Molecule Oncology, Cancer Institute, PUMC & CAMS, Beijing, 100021 China.\",\n",
      "          \"CY\": \"China\",\n",
      "          \"DA\": \"20020118\",\n",
      "          \"DCOM\": \"20020711\",\n",
      "          \"DP\": \"2000 Jul\",\n",
      "          \"EDAT\": \"2002/01/19 10:00\",\n",
      "          \"IP\": \"7\",\n",
      "          \"IS\": \"0376-2491\",\n",
      "          \"JID\": \"7511141\",\n",
      "          \"LA\": \"chi\",\n",
      "          \"MHDA\": \"2002/07/12 10:01\",\n",
      "          \"PG\": \"522-5\",\n",
      "          \"PMID\": \"11798811\",\n",
      "          \"PST\": \"ppublish\",\n",
      "          \"PT\": \"Journal Article\",\n",
      "          \"SB\": \"IM\",\n",
      "          \"SO\": \"Zhonghua Yi Xue Za Zhi 2000 Jul;80(7):522-5.\",\n",
      "          \"TA\": \"Zhonghua Yi Xue Za Zhi\",\n",
      "          \"TI\": \"[The use of gene gun in cancer gene therapy]\",\n",
      "          \"UI\": \"21658031\",\n",
      "          \"VI\": \"80\",\n",
      "          \"MH\": [\n",
      "            \"Animal\",\n",
      "            \"Biolistics/*methods\",\n",
      "            \"Cell Division/genetics\",\n",
      "            \"English Abstract\",\n",
      "            \"Gene Therapy/*methods\",\n",
      "            \"Granulocyte-Macrophage Colony-Stimulating Factor/genetics\",\n",
      "            \"Human\",\n",
      "            \"Melanoma, Experimental/genetics/pathology/*therapy\",\n",
      "            \"Mice\",\n",
      "            \"Mice, Inbred C57BL\",\n",
      "            \"Plasmids/genetics\",\n",
      "            \"Tumor Cells, Cultured\"\n",
      "          ],\n",
      "          \"RN\": [\n",
      "            \"0 (Plasmids)\",\n",
      "            \"83869-56-1 (Granulocyte-Macrophage Colony-Stimulating Factor)\"\n",
      "          ],\n",
      "          \"FAU\": [\n",
      "            \"Zha, Y\",\n",
      "            \"Lin, C\",\n",
      "            \"Liang, X\"\n",
      "          ]\n",
      "        }\n",
      "      },\n",
      "      {\n",
      "        \"_index\": \"genomics-base\",\n",
      "        \"_type\": \"_doc\",\n",
      "        \"_id\": \"132671\",\n",
      "        \"_score\": 9.435863,\n",
      "        \"_ignored\": [\n",
      "          \"AB.keyword\"\n",
      "        ],\n",
      "        \"_source\": {\n",
      "          \"AB\": \"OBJECTIVE: To determine the effect of stage III and IV endometriosis on serum concentration of soluble intracellular adhesion molecule-1 (ICAM-1), vascular cellular adhesion molecule-1 (VCAM-1), and E-selectin. METHODS: Sera from women with laparoscopically proven stage III and IV endometriosis were analyzed for the presence of soluble ICAM-1, VCAM-1, and E-selectin using enzyme-linked immunosorbent assays. Concentrations of these molecules were compared with those of laparoscopically proven disease-free controls. RESULTS: When compared with controls, women with stage III and IV endometriosis had higher serum concentrations of soluble VCAM-1, lower serum concentration of soluble ICAM-1, and no difference in serum concentration of soluble E-selectin. CONCLUSION: Significant aberrations in levels of circulating adhesion molecules were found in women with stage III and IV endometriosis. These findings might shed light on the pathogenesis of endometriosis and be useful in the development of biochemical markers for disease stage.\",\n",
      "          \"AD\": \"Department of Obstetrics and Gynecology, University of Missouri, Columbia, Missouri, USA. breton.barrier@lackland.af.mil\",\n",
      "          \"CY\": \"United States\",\n",
      "          \"DA\": \"20020419\",\n",
      "          \"DCOM\": \"20021025\",\n",
      "          \"DP\": \"2002 Mar-Apr\",\n",
      "          \"EDAT\": \"2002/04/20 10:00\",\n",
      "          \"IP\": \"2\",\n",
      "          \"IS\": \"1071-5576\",\n",
      "          \"JID\": \"9433806\",\n",
      "          \"LA\": \"eng\",\n",
      "          \"MHDA\": \"2002/10/31 04:00\",\n",
      "          \"PG\": \"98-101\",\n",
      "          \"PMID\": \"11963839\",\n",
      "          \"PST\": \"ppublish\",\n",
      "          \"PT\": \"Journal Article\",\n",
      "          \"SB\": \"IM\",\n",
      "          \"SO\": \"J Soc Gynecol Investig 2002 Mar-Apr;9(2):98-101.\",\n",
      "          \"TA\": \"J Soc Gynecol Investig\",\n",
      "          \"TI\": \"Expression of soluble adhesion molecules in sera of women with stage III and IV endometriosis.\",\n",
      "          \"UI\": \"21961150\",\n",
      "          \"VI\": \"9\",\n",
      "          \"MH\": [\n",
      "            \"Biological Markers/blood\",\n",
      "            \"E-Selectin/*blood\",\n",
      "            \"Endometriosis/*blood/pathology\",\n",
      "            \"Female\",\n",
      "            \"Human\",\n",
      "            \"Intercellular Adhesion Molecule-1/*blood\",\n",
      "            \"Vascular Cell Adhesion Molecule-1/*blood\"\n",
      "          ],\n",
      "          \"RN\": [\n",
      "            \"0 (Biological Markers)\",\n",
      "            \"0 (E-Selectin)\",\n",
      "            \"0 (Vascular Cell Adhesion Molecule-1)\",\n",
      "            \"126547-89-5 (Intercellular Adhesion Molecule-1)\"\n",
      "          ],\n",
      "          \"FAU\": [\n",
      "            \"Barrier, Breton F\",\n",
      "            \"Sharpe-Timms, Kathy L\"\n",
      "          ]\n",
      "        }\n",
      "      },\n",
      "      {\n",
      "        \"_index\": \"genomics-base\",\n",
      "        \"_type\": \"_doc\",\n",
      "        \"_id\": \"148107\",\n",
      "        \"_score\": 9.326713,\n",
      "        \"_source\": {\n",
      "          \"AID\": \"106195 [pii]\",\n",
      "          \"CY\": \"France\",\n",
      "          \"DA\": \"20020430\",\n",
      "          \"DCOM\": \"20020627\",\n",
      "          \"DP\": \"2002 Apr\",\n",
      "          \"EDAT\": \"2002/05/01 10:00\",\n",
      "          \"IP\": \"2 Pt 2\",\n",
      "          \"IS\": \"0368-2315\",\n",
      "          \"JID\": \"0322206\",\n",
      "          \"LA\": \"fre\",\n",
      "          \"LR\": \"20021101\",\n",
      "          \"MHDA\": \"2002/06/28 10:01\",\n",
      "          \"PG\": \"1S5-1S6\",\n",
      "          \"PMID\": \"11981482\",\n",
      "          \"PST\": \"ppublish\",\n",
      "          \"PT\": \"Editorial\",\n",
      "          \"SB\": \"IM\",\n",
      "          \"SO\": \"J Gynecol Obstet Biol Reprod (Paris) 2002 Apr;31(2 Pt 2):1S5-1S6.\",\n",
      "          \"TA\": \"J Gynecol Obstet Biol Reprod (Paris)\",\n",
      "          \"TI\": \"[LH Day: floodlights on a forgotten compound]\",\n",
      "          \"TT\": \"LH Day: coup de projecteur sur une molecule oubliee.\",\n",
      "          \"UI\": \"21977764\",\n",
      "          \"VI\": \"31\",\n",
      "          \"MH\": [\n",
      "            \"Female\",\n",
      "            \"Human\",\n",
      "            \"Luteinizing Hormone/*physiology\",\n",
      "            \"Menstrual Cycle\",\n",
      "            \"Oocytes/physiology\",\n",
      "            \"Ovarian Follicle/physiology\",\n",
      "            \"Ovulation Induction\",\n",
      "            \"Polycystic Ovary Syndrome\",\n",
      "            \"Receptors, LH/physiology\"\n",
      "          ],\n",
      "          \"RN\": [\n",
      "            \"0 (Receptors, LH)\",\n",
      "            \"9002-67-9 (Luteinizing Hormone)\"\n",
      "          ],\n",
      "          \"FAU\": [\n",
      "            \"Fanchin, R\"\n",
      "          ]\n",
      "        }\n",
      "      },\n",
      "      {\n",
      "        \"_index\": \"genomics-base\",\n",
      "        \"_type\": \"_doc\",\n",
      "        \"_id\": \"249043\",\n",
      "        \"_score\": 9.312457,\n",
      "        \"_ignored\": [\n",
      "          \"AB.keyword\"\n",
      "        ],\n",
      "        \"_source\": {\n",
      "          \"AB\": \"The structures of two potential anti-human immunodeficiency virus type 1 (HIV-1) non-nucleoside reverse transcriptase inhibitors (NNRTI), namely 1-benzyl-5-oxo-2-phenylpyrrolidine-2-carboxamide, C(18)H(18)N(2)O(2), (III), and 2-(4-isopropoxyphenyl)-5-oxo-1-(4-tolyl)pyrrolidine-2-carbonitrile, C(21)H(22)N(2)O(2), (IV), have been investigated by X-ray diffraction, confirming the butterfly-like conformation of both compounds. The pyrrolidine ring is in an envelope conformation in (III) and a half-chair conformation in (IV). Two intermolecular N[bond]H...O hydrogen bonds are present in the crystal structure of (III), with N...O distances of 2.995 (2) and 2.927 (2) A.\",\n",
      "          \"AD\": \"Molecule Structure Research Centre, National Academy of Sciences RA, Azatutyan Ave. 26, 375014 Yerevan, Republic of Armenia.\",\n",
      "          \"AID\": \"S0108270102009241 [pii]\",\n",
      "          \"CY\": \"Denmark\",\n",
      "          \"DA\": \"20020702\",\n",
      "          \"DCOM\": \"20020917\",\n",
      "          \"DP\": \"2002 Jul\",\n",
      "          \"EDAT\": \"2002/07/03 10:00\",\n",
      "          \"IP\": \"Pt 7\",\n",
      "          \"IS\": \"0108-2701\",\n",
      "          \"JID\": \"8305826\",\n",
      "          \"LA\": \"eng\",\n",
      "          \"MHDA\": \"2002/07/03 10:00\",\n",
      "          \"PG\": \"o399-401\",\n",
      "          \"PHST\": \"2002/Jun/20 [epublish]\",\n",
      "          \"PMID\": \"12094058\",\n",
      "          \"PST\": \"ppublish\",\n",
      "          \"PT\": \"Journal Article\",\n",
      "          \"SO\": \"Acta Crystallogr C 2002 Jul;58(Pt 7):o399-401.\",\n",
      "          \"TA\": \"Acta Crystallogr C\",\n",
      "          \"TI\": \"1-Substituted derivatives of 2-aryl-5-oxopyrrolidine-2-carboxylic acid.\",\n",
      "          \"UI\": \"22088002\",\n",
      "          \"VI\": \"58\",\n",
      "          \"FAU\": [\n",
      "            \"Karapetyan, Harutyun\",\n",
      "            \"Tamazyan, Rafael\",\n",
      "            \"Martirosyan, Ashot\",\n",
      "            \"Hovhannesyan, Vahagn\",\n",
      "            \"Gasparyan, Sahak\"\n",
      "          ]\n",
      "        }\n",
      "      },\n",
      "      {\n",
      "        \"_index\": \"genomics-base\",\n",
      "        \"_type\": \"_doc\",\n",
      "        \"_id\": \"212437\",\n",
      "        \"_score\": 9.013664,\n",
      "        \"_source\": {\n",
      "          \"AD\": \"Department of Physiology and Biophysics, University of Miami School of Medicine, Miami, Florida 33136, USA.\",\n",
      "          \"CY\": \"United States\",\n",
      "          \"DA\": \"20020610\",\n",
      "          \"DCOM\": \"20030131\",\n",
      "          \"DP\": \"2002\",\n",
      "          \"EDAT\": \"2002/06/11 10:00\",\n",
      "          \"ID\": \"1 R29 GM55611-01/GM/NIGMS\",\n",
      "          \"IS\": \"0091-679X\",\n",
      "          \"JID\": \"0373334\",\n",
      "          \"LA\": \"eng\",\n",
      "          \"MHDA\": \"2003/02/01 04:00\",\n",
      "          \"PG\": \"301-9\",\n",
      "          \"PMID\": \"12053735\",\n",
      "          \"PST\": \"ppublish\",\n",
      "          \"PT\": \"Journal Article\",\n",
      "          \"SB\": \"IM\",\n",
      "          \"SO\": \"Methods Cell Biol 2002;68:301-9.\",\n",
      "          \"TA\": \"Methods Cell Biol\",\n",
      "          \"TI\": \"Single-molecule force measurements.\",\n",
      "          \"UI\": \"22049610\",\n",
      "          \"VI\": \"68\",\n",
      "          \"MH\": [\n",
      "            \"3T3 Cells\",\n",
      "            \"Animal\",\n",
      "            \"Avidin/chemistry/metabolism\",\n",
      "            \"Biotin/chemistry/metabolism\",\n",
      "            \"Ligands\",\n",
      "            \"Mice\",\n",
      "            \"Microscopy, Atomic Force/instrumentation/*methods\",\n",
      "            \"Protein Binding\",\n",
      "            \"Receptors, Cell Surface/metabolism\",\n",
      "            \"Support, Non-U.S. Gov't\",\n",
      "            \"Support, U.S. Gov't, P.H.S.\"\n",
      "          ],\n",
      "          \"RN\": [\n",
      "            \"0 (Ligands)\",\n",
      "            \"0 (Receptors, Cell Surface)\",\n",
      "            \"1405-69-2 (Avidin)\",\n",
      "            \"58-85-5 (Biotin)\"\n",
      "          ],\n",
      "          \"FAU\": [\n",
      "            \"Chen, Aileen\",\n",
      "            \"Moy, Vincent T\"\n",
      "          ]\n",
      "        }\n",
      "      },\n",
      "      {\n",
      "        \"_index\": \"genomics-base\",\n",
      "        \"_type\": \"_doc\",\n",
      "        \"_id\": \"467640\",\n",
      "        \"_score\": 9.013664,\n",
      "        \"_ignored\": [\n",
      "          \"AB.keyword\"\n",
      "        ],\n",
      "        \"_source\": {\n",
      "          \"AB\": \"The Alliance for Cellular Signaling (AfCS)-Nature Molecule Pages will be a comprehensive database of key facts about more than 3,000 proteins involved in cell signalling. Each entry will be created by invited experts and be peer-reviewed. Alongside the large-scale experiments being conducted by the AfCS scientists, the wealth of information contained in this database offers the potential of accelerating the pace of discovery in signal transduction research.\",\n",
      "          \"AD\": \"San Diego Supercomputer Center, University of California at San Diego, 9500 Gilman Drive, La Jolla, California 92093, USA.\",\n",
      "          \"AID\": \"nature01307 [pii]\",\n",
      "          \"CY\": \"England\",\n",
      "          \"DA\": \"20021212\",\n",
      "          \"DCOM\": \"20030113\",\n",
      "          \"DP\": \"2002 Dec 12\",\n",
      "          \"EDAT\": \"2002/12/13 04:00\",\n",
      "          \"IP\": \"6916\",\n",
      "          \"IS\": \"0028-0836\",\n",
      "          \"JID\": \"0410462\",\n",
      "          \"LA\": \"eng\",\n",
      "          \"MHDA\": \"2003/01/14 04:00\",\n",
      "          \"PG\": \"716-7\",\n",
      "          \"PMID\": \"12478304\",\n",
      "          \"PST\": \"ppublish\",\n",
      "          \"PT\": \"Journal Article\",\n",
      "          \"SB\": \"IM\",\n",
      "          \"SO\": \"Nature 2002 Dec 12;420(6916):716-7.\",\n",
      "          \"TA\": \"Nature\",\n",
      "          \"TI\": \"The Molecule Pages database.\",\n",
      "          \"UI\": \"22366428\",\n",
      "          \"VI\": \"420\",\n",
      "          \"MH\": [\n",
      "            \"Automation\",\n",
      "            \"*Databases, Factual\",\n",
      "            \"Heterotrimeric GTP-Binding Proteins/metabolism\",\n",
      "            \"Information Management\",\n",
      "            \"Peer Review, Research\",\n",
      "            \"Protein Binding\",\n",
      "            \"*Research\",\n",
      "            \"*Signal Transduction\"\n",
      "          ],\n",
      "          \"RN\": [\n",
      "            \"EC 3.6.1.\"\n",
      "          ],\n",
      "          \"FAU\": [\n",
      "            \"Li, Joshua\",\n",
      "            \"Ning, Yuhong\",\n",
      "            \"Hedley, Warren\",\n",
      "            \"Saunders, Brian\",\n",
      "            \"Chen, Yongsheng\",\n",
      "            \"Tindill, Nicole\",\n",
      "            \"Hannay, Timo\",\n",
      "            \"Subramaniam, Shankar\"\n",
      "          ]\n",
      "        }\n",
      "      },\n",
      "      {\n",
      "        \"_index\": \"genomics-base\",\n",
      "        \"_type\": \"_doc\",\n",
      "        \"_id\": \"280977\",\n",
      "        \"_score\": 8.912884,\n",
      "        \"_ignored\": [\n",
      "          \"AB.keyword\"\n",
      "        ],\n",
      "        \"_source\": {\n",
      "          \"AB\": \"To determine whether soluble adhesion molecules are affected in muscular dystrophy, we measured serum levels of creatine kinase (CK), soluble vascular cell adhesion molecule-1 (sVCAM-1), soluble intercellular adhesion molecule-1 (sICAM-1), soluble (s) E-selectin, and fibrin and fibrinogen degradation products (FDP) in 25 patients with Duchenne muscular dystrophy (DMD), 7 with Becker muscular dystrophy, 7 with Fukuyama type congenital muscular dystrophy, 6 with myotonic dystrophy (MyD), and 5 with spinal muscular atrophy (SMA) type 2, and also serum sVCAM-1, sICAM-1, and sE-selectin in 9 healthy controls. The levels of sVCAM-1 in the patients with DMD were 367.0-852.0 ng/ml (552.8 +/\",\n",
      "          \"AD\": \"Department of Neurology, Toneyama National Hospital, Toyonaka, Osaka.\",\n",
      "          \"CY\": \"Japan\",\n",
      "          \"DA\": \"20020723\",\n",
      "          \"DCOM\": \"20020730\",\n",
      "          \"DP\": \"2002 Jul\",\n",
      "          \"EDAT\": \"2002/07/24 10:00\",\n",
      "          \"IP\": \"4\",\n",
      "          \"IS\": \"0029-0831\",\n",
      "          \"JID\": \"0215224\",\n",
      "          \"LA\": \"jpn\",\n",
      "          \"LR\": \"20021101\",\n",
      "          \"MHDA\": \"2002/07/31 10:01\",\n",
      "          \"PG\": \"326-9\",\n",
      "          \"PMID\": \"12134684\",\n",
      "          \"PST\": \"ppublish\",\n",
      "          \"PT\": \"Journal Article\",\n",
      "          \"SB\": \"IM\",\n",
      "          \"SO\": \"No To Hattatsu 2002 Jul;34(4):326-9.\",\n",
      "          \"TA\": \"No To Hattatsu\",\n",
      "          \"TI\": \"[Soluble adhesion molecules in muscular dystrophy]\",\n",
      "          \"UI\": \"22130743\",\n",
      "          \"VI\": \"34\",\n",
      "          \"MH\": [\n",
      "            \"Adolescent\",\n",
      "            \"Adult\",\n",
      "            \"Child\",\n",
      "            \"Child, Preschool\",\n",
      "            \"E-Selectin/blood\",\n",
      "            \"English Abstract\",\n",
      "            \"Female\",\n",
      "            \"Human\",\n",
      "            \"Intercellular Adhesion Molecule-1/*blood\",\n",
      "            \"Male\",\n",
      "            \"Muscular Dystrophies/*blood\",\n",
      "            \"Solubility\",\n",
      "            \"Vascular Cell Adhesion Molecule-1/*blood\"\n",
      "          ],\n",
      "          \"RN\": [\n",
      "            \"0 (E-Selectin)\",\n",
      "            \"0 (Vascular Cell Adhesion Molecule-1)\",\n",
      "            \"126547-89-5 (Intercellular Adhesion Molecule-1)\"\n",
      "          ],\n",
      "          \"FAU\": [\n",
      "            \"Saito, Toshio\",\n",
      "            \"Yamamoto, Yuko\",\n",
      "            \"Shinno, Susumu\"\n",
      "          ]\n",
      "        }\n",
      "      },\n",
      "      {\n",
      "        \"_index\": \"genomics-base\",\n",
      "        \"_type\": \"_doc\",\n",
      "        \"_id\": \"502100\",\n",
      "        \"_score\": 8.912884,\n",
      "        \"_source\": {\n",
      "          \"CY\": \"China\",\n",
      "          \"DA\": \"20030127\",\n",
      "          \"DCOM\": \"20030212\",\n",
      "          \"DP\": \"2000 Jul\",\n",
      "          \"EDAT\": \"2003/01/28 04:00\",\n",
      "          \"IP\": \"3\",\n",
      "          \"IS\": \"0559-7765\",\n",
      "          \"JID\": \"20730140R\",\n",
      "          \"LA\": \"chi\",\n",
      "          \"MHDA\": \"2003/02/14 04:00\",\n",
      "          \"PG\": \"257-60\",\n",
      "          \"PMID\": \"12545718\",\n",
      "          \"PST\": \"ppublish\",\n",
      "          \"PT\": \"Review, Tutorial\",\n",
      "          \"RF\": \"8\",\n",
      "          \"SB\": \"IM\",\n",
      "          \"SO\": \"Sheng Li Ke Xue Jin Zhan 2000 Jul;31(3):257-60.\",\n",
      "          \"TA\": \"Sheng Li Ke Xue Jin Zhan\",\n",
      "          \"TI\": \"[Adhesion molecules and inflammation following cerebral ischemia]\",\n",
      "          \"UI\": \"22434060\",\n",
      "          \"VI\": \"31\",\n",
      "          \"MH\": [\n",
      "            \"Animal\",\n",
      "            \"Brain Ischemia/complications/*metabolism\",\n",
      "            \"Cell Adhesion Molecules/biosynthesis\",\n",
      "            \"Human\",\n",
      "            \"Inflammation/etiology/*metabolism\",\n",
      "            \"Integrins/biosynthesis\",\n",
      "            \"Intercellular Adhesion Molecule-1/*biosynthesis\",\n",
      "            \"Selectins/*biosynthesis\",\n",
      "            \"Vascular Cell Adhesion Molecule-1/biosynthesis\"\n",
      "          ],\n",
      "          \"RN\": [\n",
      "            \"0 (Cell Adhesion Molecules)\",\n",
      "            \"0 (Integrins)\",\n",
      "            \"0 (Selectins)\",\n",
      "            \"0 (Vascular Cell Adhesion Molecule-1)\",\n",
      "            \"126547-89-5 (Intercellular Adhesion Molecule-1)\"\n",
      "          ],\n",
      "          \"FAU\": [\n",
      "            \"Xu, H L\",\n",
      "            \"Fen, Y P\"\n",
      "          ]\n",
      "        }\n",
      "      },\n",
      "      {\n",
      "        \"_index\": \"genomics-base\",\n",
      "        \"_type\": \"_doc\",\n",
      "        \"_id\": \"249039\",\n",
      "        \"_score\": 8.834926,\n",
      "        \"_ignored\": [\n",
      "          \"AB.keyword\"\n",
      "        ],\n",
      "        \"_source\": {\n",
      "          \"AB\": \"The structures of two potential anti-human immunodeficiency virus type 1 (HIV-1) non-nucleoside reverse transcriptase inhibitors (NNRTI), namely 1-(2-chlorobenzoyl)-2-phenylpyrrolidine-2-carboxamide, C(18)H(17)ClN(2)O(2), and 1-(2-furoyl)-2-phenylpyrrolidine-2-carboxamide, C(16)H(16)N(2)O(3), have been investigated by X-ray diffraction and the butterfly-like conformation established in each case. The pyrrolidine ring has the same half-chair conformation in both structures.\",\n",
      "          \"AD\": \"Molecule Structure Research Centre, National Academy of Sciences RA, Azatutyan Ave. 26, 375014 Yerevan, Republic of Armenia. rafael@msrc.am\",\n",
      "          \"AID\": \"S0108270102008636 [pii]\",\n",
      "          \"CY\": \"Denmark\",\n",
      "          \"DA\": \"20020702\",\n",
      "          \"DCOM\": \"20020917\",\n",
      "          \"DP\": \"2002 Jul\",\n",
      "          \"EDAT\": \"2002/07/03 10:00\",\n",
      "          \"IP\": \"Pt 7\",\n",
      "          \"IS\": \"0108-2701\",\n",
      "          \"JID\": \"8305826\",\n",
      "          \"LA\": \"eng\",\n",
      "          \"MHDA\": \"2002/07/03 10:00\",\n",
      "          \"PG\": \"o386-8\",\n",
      "          \"PHST\": \"2002/Jun/12 [epublish]\",\n",
      "          \"PMID\": \"12094054\",\n",
      "          \"PST\": \"ppublish\",\n",
      "          \"PT\": \"Journal Article\",\n",
      "          \"SO\": \"Acta Crystallogr C 2002 Jul;58(Pt 7):o386-8.\",\n",
      "          \"TA\": \"Acta Crystallogr C\",\n",
      "          \"TI\": \"1-Substituted derivatives of 2-phenylpyrrolidine-2-carboxamide.\",\n",
      "          \"UI\": \"22087998\",\n",
      "          \"VI\": \"58\",\n",
      "          \"FAU\": [\n",
      "            \"Tamazyan, Rafael\",\n",
      "            \"Karapetyan, Harutyun\",\n",
      "            \"Martirosyan, Ashot\",\n",
      "            \"Hovhannesyan, Vahagn\",\n",
      "            \"Gasparyan, Sahak\"\n",
      "          ]\n",
      "        }\n",
      "      },\n",
      "      {\n",
      "        \"_index\": \"genomics-base\",\n",
      "        \"_type\": \"_doc\",\n",
      "        \"_id\": \"63151\",\n",
      "        \"_score\": 8.751207,\n",
      "        \"_source\": {\n",
      "          \"AID\": \"S0021915001007572 [pii]\",\n",
      "          \"CY\": \"Ireland\",\n",
      "          \"DA\": \"20020307\",\n",
      "          \"DCOM\": \"20020716\",\n",
      "          \"DP\": \"2002 Mar\",\n",
      "          \"EDAT\": \"2002/03/08 10:00\",\n",
      "          \"IP\": \"1\",\n",
      "          \"IS\": \"0021-9150\",\n",
      "          \"JID\": \"0242543\",\n",
      "          \"LA\": \"eng\",\n",
      "          \"LR\": \"20020808\",\n",
      "          \"MHDA\": \"2002/07/18 10:01\",\n",
      "          \"PG\": \"243-4\",\n",
      "          \"PMID\": \"11882338\",\n",
      "          \"PST\": \"ppublish\",\n",
      "          \"PT\": \"Letter\",\n",
      "          \"SB\": \"IM\",\n",
      "          \"SO\": \"Atherosclerosis 2002 Mar;161(1):243-4.\",\n",
      "          \"TA\": \"Atherosclerosis\",\n",
      "          \"TI\": \"Serum levels of adhesion molecules correlate with insulin resistance.\",\n",
      "          \"UI\": \"21876766\",\n",
      "          \"VI\": \"161\",\n",
      "          \"MH\": [\n",
      "            \"Cell Adhesion Molecules/*blood\",\n",
      "            \"Diabetes Mellitus, Non-Insulin-Dependent/blood\",\n",
      "            \"E-Selectin/blood\",\n",
      "            \"Human\",\n",
      "            \"*Insulin Resistance\",\n",
      "            \"Intercellular Adhesion Molecule-1/blood\",\n",
      "            \"Male\",\n",
      "            \"Middle Age\",\n",
      "            \"Vascular Cell Adhesion Molecule-1/blood\"\n",
      "          ],\n",
      "          \"RN\": [\n",
      "            \"0 (Cell Adhesion Molecules)\",\n",
      "            \"0 (E-Selectin)\",\n",
      "            \"0 (Vascular Cell Adhesion Molecule-1)\",\n",
      "            \"126547-89-5 (Intercellular Adhesion Molecule-1)\"\n",
      "          ],\n",
      "          \"FAU\": [\n",
      "            \"Matsumoto, Kazunari\",\n",
      "            \"Sera, Yasunori\",\n",
      "            \"Miyake, Seibei\",\n",
      "            \"Ueki, Yukitaka\"\n",
      "          ]\n",
      "        }\n",
      "      }\n",
      "    ]\n",
      "  }\n",
      "}\n"
     ]
    },
    {
     "name": "stderr",
     "output_type": "stream",
     "text": [
      "/var/folders/1y/f8n3xy297gjbt471z8k3jv0h0000gn/T/ipykernel_55545/1518675256.py:10: ElasticsearchWarning: Elasticsearch built-in security features are not enabled. Without authentication, your cluster could be accessible to anyone. See https://www.elastic.co/guide/en/elasticsearch/reference/7.17/security-minimal-setup.html to enable security.\n",
      "  response = es.search(\n"
     ]
    }
   ],
   "source": [
    "#THIS IS GRADED!\n",
    "\n",
    "import elasticsearch\n",
    "import json\n",
    "\n",
    "# your code below\n",
    "# BEGIN ANSWER\n",
    "es = elasticsearch.Elasticsearch(hosts=[{'host': 'localhost', 'port': 9200, 'scheme': 'http'}])\n",
    "\n",
    "response = es.search(\n",
    "    index=\"genomics-base\",\n",
    "    body={\n",
    "        \"query\": {\n",
    "            \"query_string\": {\n",
    "                \"query\": \"molecule\"\n",
    "            }\n",
    "        }\n",
    "    }\n",
    ")\n",
    "\n",
    "response_dict = response.body  # Convert ObjectApiResponse to a dictionary\n",
    "print(json.dumps(response_dict, indent=2))  # Print the response as formatted JSON\n",
    "# END ANSWER"
   ]
  },
  {
   "cell_type": "markdown",
   "metadata": {},
   "source": [
    "The Python client library returns Python objects, that use [dictionaries](https://docs.python.org/3.6/tutorial/datastructures.html#dictionaries) and [lists](https://docs.python.org/3.6/tutorial/introduction.html#lists).\n",
    "Use a [for loop](https://docs.python.org/3.6/tutorial/controlflow.html#for-statements) to inspect each hit, and print the retrieved document's titles one by one. "
   ]
  },
  {
   "cell_type": "code",
   "execution_count": 31,
   "metadata": {},
   "outputs": [
    {
     "name": "stdout",
     "output_type": "stream",
     "text": [
      "Number of results: 3404\n",
      "[The use of gene gun in cancer gene therapy]\n",
      "Expression of soluble adhesion molecules in sera of women with stage III and IV endometriosis.\n",
      "[LH Day: floodlights on a forgotten compound]\n",
      "1-Substituted derivatives of 2-aryl-5-oxopyrrolidine-2-carboxylic acid.\n",
      "Single-molecule force measurements.\n",
      "The Molecule Pages database.\n",
      "[Soluble adhesion molecules in muscular dystrophy]\n",
      "[Adhesion molecules and inflammation following cerebral ischemia]\n",
      "1-Substituted derivatives of 2-phenylpyrrolidine-2-carboxamide.\n",
      "Serum levels of adhesion molecules correlate with insulin resistance.\n"
     ]
    }
   ],
   "source": [
    "#example\n",
    "print(\"Number of results: {}\".format(response['hits']['total']['value']))\n",
    "# your code below\n",
    "for hit in response['hits']['hits']:  # Iterate through each hit in the response\n",
    "    title = hit['_source'].get('TI')  # Get the title from the document source\n",
    "    if title:  # Check if the title exists\n",
    "        print(title)  # Print the title\n"
   ]
  },
  {
   "cell_type": "markdown",
   "metadata": {},
   "source": [
    "## Exercise 02.C: _Search using the Elasticsearch DSL_\n",
    "\n",
    "You will notice that the native query format of Elasticsearch can be quite verbose.\n",
    "Elasticsearh provides the Python library `elasticsearch_dsl` to write more concise Elasticsearch queries. \n",
    "This is only to simplify the syntax: the library still issues Elasticsearch queries.\n",
    "\n",
    "For example, a simple `multi_match` query looks as follows:\n",
    "```python\n",
    "query = {\n",
    "   \"query\": {\n",
    "       \"multi_match\": {}\n",
    "   }\n",
    "}\n",
    "```\n",
    "\n",
    "The same query can be created with the DSL as follows:\n",
    "```python\n",
    "query = Q(\"multi_match\")\n",
    "```\n",
    "\n",
    "Especially for more complicated boolean queries, to use the native query format can become complicated.\n",
    "Read more about the DSL [here](https://elasticsearch-dsl.readthedocs.io/en/latest/search_dsl.html)\n",
    "\n",
    "__1. Search for the query `molecule` and check whether you get the same number of results as for exercise 02.A(2).__"
   ]
  },
  {
   "cell_type": "code",
   "execution_count": 32,
   "metadata": {},
   "outputs": [
    {
     "name": "stdout",
     "output_type": "stream",
     "text": [
      "Number of documents containing 'molecule': 3404\n"
     ]
    },
    {
     "name": "stderr",
     "output_type": "stream",
     "text": [
      "/opt/homebrew/Caskroom/miniforge/base/envs/fir/lib/python3.12/site-packages/elasticsearch_dsl/_sync/search.py:88: ElasticsearchWarning: Elasticsearch built-in security features are not enabled. Without authentication, your cluster could be accessible to anyone. See https://www.elastic.co/guide/en/elasticsearch/reference/7.17/security-minimal-setup.html to enable security.\n",
      "  es.search(index=self._index, body=self.to_dict(), **self._params)\n"
     ]
    }
   ],
   "source": [
    "#THIS IS GRADED!\n",
    "\n",
    "# your code here\n",
    "# BEGIN ANSWER\n",
    "\n",
    "from elasticsearch import Elasticsearch\n",
    "from elasticsearch_dsl import Search\n",
    "\n",
    "# Step 1: Connect to the Elasticsearch server\n",
    "es = Elasticsearch(hosts=[{'host': 'localhost', 'port': 9200, 'scheme': 'http'}])\n",
    "\n",
    "# Step 2: Create a search object for the index 'genomics-base'\n",
    "s = Search(using=es, index='genomics-base')\n",
    "\n",
    "# Step 3: Add a multi_match query to search for the term 'molecule'\n",
    "s = s.query(\"multi_match\", query=\"molecule\")\n",
    "\n",
    "# Step 4: Execute the search and get the response\n",
    "response = s.execute()\n",
    "\n",
    "# Step 5: Print the number of documents containing the term 'molecule'\n",
    "print(\"Number of documents containing 'molecule':\", response.hits.total.value)\n",
    "\n",
    "# END ANSWER"
   ]
  },
  {
   "cell_type": "markdown",
   "metadata": {},
   "source": [
    "__2. Search for the documents that contain the words `cell` AND `blood`, using the DSL library. Check whether you get the same number of results as for exercise 02.A(4).__"
   ]
  },
  {
   "cell_type": "code",
   "execution_count": 33,
   "metadata": {},
   "outputs": [
    {
     "name": "stdout",
     "output_type": "stream",
     "text": [
      "Number of documents containing 'cell' AND 'blood': 6865\n"
     ]
    }
   ],
   "source": [
    "#THIS IS GRADED!\n",
    "\n",
    "# your code here\n",
    "# BEGIN ANSWER\n",
    "\n",
    "from elasticsearch import Elasticsearch\n",
    "from elasticsearch_dsl import Search, Q\n",
    "\n",
    "es = Elasticsearch(hosts=[{'host': 'localhost', 'port': 9200, 'scheme': 'http'}]) # Connect to the Elasticsearch server\n",
    "s = Search(using=es, index='genomics-base') # Create a search object for the index 'genomics-base'\n",
    "\n",
    "query = Q('bool', must=[\n",
    "    Q('multi_match', query='cell'),\n",
    "    Q('multi_match', query='blood')\n",
    "]) # Create a boolean query with must conditions for 'cell' and 'blood'\n",
    "\n",
    "s = s.query(query) # Add the query to the search object\n",
    "response = s.execute() # Execute the search and get the response\n",
    "print(\"Number of documents containing 'cell' AND 'blood':\", response.hits.total.value) # Print the number of documents containing both 'cell' and 'blood'\n",
    "\n",
    "# END ANSWER"
   ]
  },
  {
   "cell_type": "markdown",
   "metadata": {},
   "source": [
    "***\n",
    "##  Exercise 02.D: Making your own TREC run\n",
    "\n",
    "We will adopt a scientific approach to building search engines. That is, we are not only going to build a search engine and see that it works, but we are also going to _measure_ how well it works, by measuring the search engine's quality. We will adopt the method from the [Text Retrieval Conference](http://trec.nist.gov) (TREC). TREC provides researchers with test collections, that consists of 3 parts:\n",
    "\n",
    "1. the document collection (in our case a part of the MEDLINE database)\n",
    "2. the topics (which are natural language descriptions of what the user is searching for: you can think of the as the _queries_)\n",
    "3. the relevance judgments (for each topic, what documents are relevant)\n",
    "\n",
    "\n",
    "\n",
    "__Exercise: Complete the code of the Python function `make_trec_run()` that reads the topics [FIR-s05-training-queries-simple.txt](data01/FIR-s05-training-queries-simple.txt), and for each topic does a search using Elasticsearch.__ The program should output a file in the [TREC submission format](https://trec-core.github.io/2017/#submission-guidelines). We already provided the first  lines for this exercise, which include:\n",
    "\n",
    "1. Open the file `'run_file_name'`' for writing and call it `run_file`.\n",
    "2. Open the file `'topics_file_name'` for reading, call it `test_queries`.\n",
    "3. For each line in `test_queries`:\n",
    "4. Remove the newline using `strip()`, then split the string on the tab character (`'\\t'`). The first part of the line is now `qid` (the query identifier) and the last part is `query` (a textual description of the query).\n",
    "5. complete the Python program such that the correct TREC run file is written to `'run_file_name'`.\n",
    "\n",
    "> **Note**: Make sure you output the `PMID` (pubmed identifier) of the document `hit['_source']['PMID']`. Do **not** use the elasticsearch identifier `_id` because they do not match the document identifiers in the relevance judgements. They were randomly generated by Elasticsearch during indexing.\n",
    "\n",
    "\n",
    "__Make sure to search in the fiels `TI` and `AB`, which correspond to the title and abstract, respectivelt, of the scientific papers of the MEDLINE collection.__"
   ]
  },
  {
   "cell_type": "code",
   "execution_count": 44,
   "metadata": {},
   "outputs": [],
   "source": [
    "#THIS IS GRADED!\n",
    "\n",
    "def make_trec_run(es, topics_file_name, run_file_name, index_name=\"genomics\", run_name=\"test\"):\n",
    "    with open(run_file_name, 'w') as run_file:\n",
    "        with open(topics_file_name, 'r') as test_queries:\n",
    "            for line in test_queries:\n",
    "                (qid, query) = line.strip().split('\\t')\n",
    "                # BEGIN ANSWER\n",
    "                search_query = Search(using=es, index=index_name).query(\n",
    "                    \"multi_match\", query=query, fields=[\"TI\", \"AB\"]\n",
    "                    )\n",
    "                response = search_query.execute()\n",
    "\n",
    "                for rank, hit in enumerate(response.hits[:1000], start=1):  # Limit to top 100 results\n",
    "                    # print(hit['PMID'])\n",
    "                    # pmid = hit['_source'].get('PMID', 'UNKNOWN')  # Get the 'PMID' from _source\n",
    "                    pmid = hit['PMID']  # Get the 'PMID' from _source\n",
    "                    score = hit.meta.score  # Get the Elasticsearch relevance score\n",
    "                    # Write in TREC format: qid Q0 docid rank score run_name\n",
    "                    run_file.write(f\"{qid} Q0 {pmid} {rank} {score} {run_name}\\n\")\n",
    "                # END ANSWER\n",
    "                \n",
    "# connect to ES server             \n",
    "es = Elasticsearch(hosts=[{'host': 'localhost', 'port': 9200, 'scheme': 'http'}]) # Connect to the ES server\n",
    "# Write the results of the queries contained in the topic file `'data/training-queries-simple.txt'` \n",
    "# to the run file `'baseline.run'`, and name this test as `test01`\n",
    "make_trec_run(es, 'data01/FIR-s05-training-queries-simple.txt', 'baseline.run', \"genomics-base\", run_name='test01')"
   ]
  },
  {
   "cell_type": "code",
   "execution_count": 45,
   "metadata": {},
   "outputs": [
    {
     "name": "stdout",
     "output_type": "stream",
     "text": [
      "1 Q0 11929828 1 43.560047 test01\n",
      "1 Q0 11751903 2 43.358788 test01\n",
      "1 Q0 12384701 3 41.708458 test01\n",
      "1 Q0 12065641 4 40.89842 test01\n",
      "1 Q0 11980715 5 40.009636 test01\n",
      "1 Q0 12126481 6 38.631733 test01\n",
      "1 Q0 12455049 7 37.12175 test01\n",
      "1 Q0 12444545 8 36.621918 test01\n",
      "1 Q0 12431783 9 36.194813 test01\n",
      "1 Q0 12204896 10 36.05962 test01\n",
      "3 Q0 12167152 1 27.794035 test01\n",
      "3 Q0 12435397 2 27.308989 test01\n",
      "3 Q0 12370291 3 26.89489 test01\n",
      "3 Q0 12036890 4 26.714252 test01\n",
      "3 Q0 11761710 5 26.446215 test01\n",
      "3 Q0 12645611 6 24.285095 test01\n",
      "3 Q0 11937514 7 24.149017 test01\n",
      "3 Q0 12018119 8 23.876041 test01\n",
      "3 Q0 12527194 9 23.512505 test01\n",
      "3 Q0 12148460 10 23.304388 test01\n",
      "4 Q0 12190869 1 39.316082 test01\n",
      "4 Q0 12230509 2 35.673424 test01\n",
      "4 Q0 12438323 3 35.546535 test01\n",
      "4 Q0 11937736 4 34.4881 test01\n",
      "4 Q0 12072406 5 31.638517 test01\n",
      "4 Q0 12389866 6 31.333328 test01\n",
      "4 Q0 12475802 7 31.311008 test01\n",
      "4 Q0 11953856 8 31.074625 test01\n",
      "4 Q0 12403120 9 30.897745 test01\n",
      "4 Q0 11874241 10 30.77672 test01\n",
      "5 Q0 12210885 1 44.31812 test01\n",
      "5 Q0 12427512 2 40.96108 test01\n",
      "5 Q0 11929858 3 37.777367 test01\n",
      "5 Q0 12169101 4 36.305252 test01\n",
      "5 Q0 11952078 5 31.992327 test01\n",
      "5 Q0 12123749 6 31.611906 test01\n",
      "5 Q0 12231201 7 29.857174 test01\n",
      "5 Q0 12359314 8 27.838093 test01\n",
      "5 Q0 12167152 9 27.794035 test01\n",
      "5 Q0 12360534 10 25.497545 test01\n",
      "6 Q0 12116175 1 37.173733 test01\n",
      "6 Q0 11996013 2 33.383038 test01\n",
      "6 Q0 11986610 3 33.236485 test01\n",
      "6 Q0 11867169 4 32.032 test01\n",
      "6 Q0 11937352 5 30.470135 test01\n",
      "6 Q0 12047752 6 30.470135 test01\n",
      "6 Q0 12150008 7 29.938911 test01\n",
      "6 Q0 12028533 8 29.387522 test01\n",
      "6 Q0 12119342 9 28.8796 test01\n",
      "6 Q0 11914379 10 28.727861 test01\n",
      "7 Q0 12445196 1 38.450863 test01\n",
      "7 Q0 12485448 2 37.38593 test01\n",
      "7 Q0 12153558 3 32.31496 test01\n",
      "7 Q0 12538627 4 31.922813 test01\n",
      "7 Q0 11792416 5 31.31839 test01\n",
      "7 Q0 12051728 6 29.921436 test01\n",
      "7 Q0 12459483 7 29.134953 test01\n",
      "7 Q0 12087074 8 28.7903 test01\n",
      "7 Q0 12093796 9 28.65788 test01\n",
      "7 Q0 12121439 10 28.50754 test01\n",
      "8 Q0 12067715 1 32.205048 test01\n",
      "8 Q0 12167152 2 27.794035 test01\n",
      "8 Q0 12645611 3 24.285095 test01\n",
      "8 Q0 12018119 4 23.876041 test01\n",
      "8 Q0 11716781 5 23.388908 test01\n",
      "8 Q0 12148460 6 23.304388 test01\n",
      "8 Q0 12217647 7 23.279074 test01\n",
      "8 Q0 12028792 8 22.287289 test01\n",
      "8 Q0 11937514 9 21.776457 test01\n",
      "8 Q0 12356766 10 21.64893 test01\n",
      "9 Q0 12167152 1 27.794035 test01\n",
      "9 Q0 12645611 2 24.285095 test01\n",
      "9 Q0 12018119 3 23.876041 test01\n",
      "9 Q0 12453498 4 23.731922 test01\n",
      "9 Q0 12148460 5 23.304388 test01\n",
      "9 Q0 11932979 6 23.00341 test01\n",
      "9 Q0 11932952 7 22.993708 test01\n",
      "9 Q0 12072966 8 22.847538 test01\n",
      "9 Q0 12090725 9 22.58473 test01\n",
      "9 Q0 11831547 10 22.41161 test01\n",
      "10 Q0 12091346 1 31.012508 test01\n",
      "10 Q0 12004254 2 29.51065 test01\n",
      "10 Q0 12063259 3 29.029642 test01\n",
      "10 Q0 12167152 4 27.794035 test01\n",
      "10 Q0 11937514 5 26.287296 test01\n",
      "10 Q0 12645611 6 24.97305 test01\n",
      "10 Q0 12018119 7 23.987295 test01\n",
      "10 Q0 12148460 8 23.304388 test01\n",
      "10 Q0 11996013 9 22.850946 test01\n",
      "10 Q0 12525161 10 22.58606 test01\n",
      "11 Q0 12213594 1 52.508625 test01\n",
      "11 Q0 12237774 2 50.814037 test01\n",
      "11 Q0 12029083 3 41.223007 test01\n",
      "11 Q0 12361596 4 40.65154 test01\n",
      "11 Q0 12221101 5 38.383007 test01\n",
      "11 Q0 11956230 6 37.485756 test01\n",
      "11 Q0 11948427 7 36.89051 test01\n",
      "11 Q0 12032833 8 36.1372 test01\n",
      "11 Q0 11828490 9 35.982525 test01\n",
      "11 Q0 12635176 10 35.98205 test01\n",
      "12 Q0 12167152 1 27.794035 test01\n",
      "12 Q0 12645611 2 24.285095 test01\n",
      "12 Q0 12018119 3 23.876041 test01\n",
      "12 Q0 12148460 4 23.304388 test01\n",
      "12 Q0 12028792 5 22.287289 test01\n",
      "12 Q0 11937514 6 21.776457 test01\n",
      "12 Q0 12503676 7 21.562836 test01\n",
      "12 Q0 12231201 8 21.542027 test01\n",
      "12 Q0 11996013 9 21.50501 test01\n",
      "12 Q0 11993511 10 21.431068 test01\n",
      "13 Q0 11937514 1 32.013046 test01\n",
      "13 Q0 12167152 2 27.794035 test01\n",
      "13 Q0 12519948 3 26.893244 test01\n",
      "13 Q0 12645611 4 24.285095 test01\n",
      "13 Q0 12018119 5 23.876041 test01\n",
      "13 Q0 12062069 6 23.392893 test01\n",
      "13 Q0 12148460 7 23.304388 test01\n",
      "13 Q0 12520032 8 22.540325 test01\n",
      "13 Q0 12205098 9 22.336136 test01\n",
      "13 Q0 12028792 10 22.287289 test01\n",
      "14 Q0 12061551 1 37.369152 test01\n",
      "14 Q0 11927599 2 36.949474 test01\n",
      "14 Q0 12016229 3 35.519413 test01\n",
      "14 Q0 11956181 4 33.66698 test01\n",
      "14 Q0 12244330 5 29.42312 test01\n",
      "14 Q0 12011422 6 28.489609 test01\n",
      "14 Q0 12167152 7 27.794035 test01\n",
      "14 Q0 12409460 8 26.440426 test01\n",
      "14 Q0 12645611 9 24.285095 test01\n",
      "14 Q0 11923317 10 24.03203 test01\n",
      "15 Q0 12167152 1 27.794035 test01\n",
      "15 Q0 12645611 2 24.285095 test01\n",
      "15 Q0 12018119 3 23.876041 test01\n",
      "15 Q0 11937514 4 23.829454 test01\n",
      "15 Q0 12148460 5 23.304388 test01\n",
      "15 Q0 11996013 6 23.114933 test01\n",
      "15 Q0 11993511 7 22.86805 test01\n",
      "15 Q0 12028792 8 22.287289 test01\n",
      "15 Q0 12519948 9 22.055384 test01\n",
      "15 Q0 12610302 10 21.788843 test01\n",
      "16 Q0 11901185 1 32.858482 test01\n",
      "16 Q0 12123863 2 26.927755 test01\n",
      "16 Q0 11871146 3 26.76168 test01\n",
      "16 Q0 11872956 4 26.326893 test01\n",
      "16 Q0 12453616 5 25.67398 test01\n",
      "16 Q0 11950994 6 23.911694 test01\n",
      "16 Q0 12079642 7 23.420534 test01\n",
      "16 Q0 12402516 8 22.764717 test01\n",
      "16 Q0 11961897 9 22.58983 test01\n",
      "16 Q0 12235277 10 22.185661 test01\n",
      "18 Q0 12067723 1 29.79702 test01\n",
      "18 Q0 12460881 2 29.480255 test01\n",
      "18 Q0 12490620 3 28.932768 test01\n",
      "18 Q0 12235797 4 28.096981 test01\n",
      "18 Q0 12379474 5 27.88953 test01\n",
      "18 Q0 12140766 6 27.22847 test01\n",
      "18 Q0 12427325 7 26.975376 test01\n",
      "18 Q0 11871146 8 26.76168 test01\n",
      "18 Q0 11950994 9 26.516615 test01\n",
      "18 Q0 11753567 10 26.399942 test01\n",
      "20 Q0 12086739 1 31.166744 test01\n",
      "20 Q0 12118319 2 30.615396 test01\n",
      "20 Q0 12084706 3 30.496284 test01\n",
      "20 Q0 12126587 4 29.3346 test01\n",
      "20 Q0 11872956 5 28.753504 test01\n",
      "20 Q0 12039047 6 28.041891 test01\n",
      "20 Q0 11733492 7 27.6375 test01\n",
      "20 Q0 11871146 8 26.76168 test01\n",
      "20 Q0 11929124 9 26.229324 test01\n",
      "20 Q0 12404007 10 25.929087 test01\n",
      "22 Q0 11871146 1 37.31751 test01\n",
      "22 Q0 11872956 2 26.326893 test01\n",
      "22 Q0 11950994 3 23.911694 test01\n",
      "22 Q0 12142670 4 23.620352 test01\n",
      "22 Q0 12079642 5 23.420534 test01\n",
      "22 Q0 12437987 6 21.082863 test01\n",
      "22 Q0 11937514 7 20.742647 test01\n",
      "22 Q0 12466852 8 20.727947 test01\n",
      "22 Q0 11989784 9 20.609634 test01\n",
      "22 Q0 12234081 10 19.999699 test01\n",
      "23 Q0 11872956 1 27.861763 test01\n",
      "23 Q0 11871146 2 26.76168 test01\n",
      "23 Q0 11950994 3 23.911694 test01\n",
      "23 Q0 12079642 4 23.420534 test01\n",
      "23 Q0 11937514 5 23.099236 test01\n",
      "23 Q0 12095256 6 22.458418 test01\n",
      "23 Q0 12466852 7 22.151262 test01\n",
      "23 Q0 12243760 8 21.73468 test01\n",
      "23 Q0 12468090 9 21.186537 test01\n",
      "23 Q0 12437987 10 21.082863 test01\n",
      "24 Q0 11871146 1 26.856115 test01\n",
      "24 Q0 11872956 2 26.402824 test01\n",
      "24 Q0 12079642 3 26.394274 test01\n",
      "24 Q0 12468090 4 24.949572 test01\n",
      "24 Q0 11950994 5 24.01704 test01\n",
      "24 Q0 11786535 6 22.1691 test01\n",
      "24 Q0 12437987 7 21.956226 test01\n",
      "24 Q0 12234081 8 21.920012 test01\n",
      "24 Q0 11937514 9 20.868788 test01\n",
      "24 Q0 12466852 10 20.839388 test01\n",
      "25 Q0 11871146 1 26.76168 test01\n",
      "25 Q0 11872956 2 26.326893 test01\n",
      "25 Q0 11950994 3 23.911694 test01\n",
      "25 Q0 12079642 4 23.420534 test01\n",
      "25 Q0 12437987 5 21.082863 test01\n",
      "25 Q0 11937514 6 20.742647 test01\n",
      "25 Q0 12466852 7 20.727947 test01\n",
      "25 Q0 11989784 8 20.609634 test01\n",
      "25 Q0 12234081 9 19.999699 test01\n",
      "25 Q0 11897254 10 19.712189 test01\n",
      "27 Q0 11919687 1 29.032242 test01\n",
      "27 Q0 12119452 2 25.891973 test01\n",
      "27 Q0 11853956 3 25.191517 test01\n",
      "27 Q0 12427846 4 23.896494 test01\n",
      "27 Q0 11877333 5 23.780096 test01\n",
      "27 Q0 12498670 6 23.626709 test01\n",
      "27 Q0 12054003 7 23.399738 test01\n",
      "27 Q0 12111855 8 23.067425 test01\n",
      "27 Q0 12369812 9 23.047537 test01\n",
      "27 Q0 11978822 10 23.023775 test01\n",
      "28 Q0 11919687 1 30.779219 test01\n",
      "28 Q0 12498670 2 23.626709 test01\n",
      "28 Q0 12054003 3 23.399738 test01\n",
      "28 Q0 12234080 4 22.985819 test01\n",
      "28 Q0 11923015 5 22.300451 test01\n",
      "28 Q0 12234074 6 21.618761 test01\n",
      "28 Q0 12234079 7 21.498314 test01\n",
      "28 Q0 12048574 8 21.433283 test01\n",
      "28 Q0 12018594 9 21.27612 test01\n",
      "28 Q0 12191833 10 20.56993 test01\n",
      "29 Q0 11919687 1 29.032242 test01\n",
      "29 Q0 12498670 2 23.626709 test01\n",
      "29 Q0 12054003 3 23.399738 test01\n",
      "29 Q0 12234080 4 22.985819 test01\n",
      "29 Q0 12048574 5 21.433283 test01\n",
      "29 Q0 12191833 6 20.56993 test01\n",
      "29 Q0 12447746 7 20.015442 test01\n",
      "29 Q0 12234076 8 19.615644 test01\n",
      "29 Q0 12018594 9 19.610718 test01\n",
      "29 Q0 11923015 10 19.21546 test01\n",
      "31 Q0 12485430 1 40.386467 test01\n",
      "31 Q0 11838908 2 39.65615 test01\n",
      "31 Q0 12007570 3 36.400307 test01\n",
      "31 Q0 11937105 4 36.16074 test01\n",
      "31 Q0 12477759 5 35.52901 test01\n",
      "31 Q0 12468564 6 33.877758 test01\n",
      "31 Q0 11893870 7 33.54174 test01\n",
      "31 Q0 12427486 8 32.616463 test01\n",
      "31 Q0 12433048 9 31.534088 test01\n",
      "31 Q0 11786503 10 31.518915 test01\n",
      "32 Q0 11919687 1 30.779219 test01\n",
      "32 Q0 12234079 2 24.334944 test01\n",
      "32 Q0 12498670 3 23.626709 test01\n",
      "32 Q0 12054003 4 23.399738 test01\n",
      "32 Q0 12234080 5 22.985819 test01\n",
      "32 Q0 12234074 6 21.618761 test01\n",
      "32 Q0 12048574 7 21.433283 test01\n",
      "32 Q0 12018594 8 21.27612 test01\n",
      "32 Q0 12191833 9 20.56993 test01\n",
      "32 Q0 12136153 10 20.462973 test01\n",
      "34 Q0 11919687 1 29.108055 test01\n",
      "34 Q0 12213131 2 28.98351 test01\n",
      "34 Q0 12421341 3 23.884417 test01\n",
      "34 Q0 11943828 4 23.702291 test01\n",
      "34 Q0 12498670 5 23.626709 test01\n",
      "34 Q0 12054003 6 23.4774 test01\n",
      "34 Q0 12394422 7 23.471134 test01\n",
      "34 Q0 12234079 8 23.079958 test01\n",
      "34 Q0 12234080 9 23.051481 test01\n",
      "34 Q0 11812506 10 22.98649 test01\n",
      "36 Q0 11919715 1 24.814468 test01\n",
      "36 Q0 11962604 2 23.071636 test01\n",
      "36 Q0 12586062 3 21.676903 test01\n",
      "36 Q0 11710527 4 21.526064 test01\n",
      "36 Q0 11805056 5 20.316427 test01\n",
      "36 Q0 12572604 6 20.019789 test01\n",
      "36 Q0 12018164 7 18.914942 test01\n",
      "36 Q0 12198117 8 18.53824 test01\n",
      "36 Q0 12370302 9 17.901812 test01\n",
      "36 Q0 12364783 10 17.759235 test01\n",
      "37 Q0 11710527 1 24.552057 test01\n",
      "37 Q0 12068969 2 22.286343 test01\n",
      "37 Q0 12213773 3 22.170738 test01\n",
      "37 Q0 12021771 4 21.9785 test01\n",
      "37 Q0 11762196 5 21.901047 test01\n",
      "37 Q0 11850413 6 21.77018 test01\n",
      "37 Q0 12035932 7 21.117456 test01\n",
      "37 Q0 12209126 8 20.675428 test01\n",
      "37 Q0 12370302 9 20.66847 test01\n",
      "37 Q0 11805056 10 20.316427 test01\n",
      "38 Q0 12065414 1 30.318651 test01\n",
      "38 Q0 12084706 2 27.200024 test01\n",
      "38 Q0 11710527 3 21.526064 test01\n",
      "38 Q0 11805056 4 20.316427 test01\n",
      "38 Q0 12572604 5 20.019789 test01\n",
      "38 Q0 12018164 6 18.914942 test01\n",
      "38 Q0 12198117 7 18.53824 test01\n",
      "38 Q0 12370302 8 17.901812 test01\n",
      "38 Q0 12364783 9 17.759235 test01\n",
      "38 Q0 12498730 10 17.581202 test01\n",
      "39 Q0 11710527 1 21.526064 test01\n",
      "39 Q0 11805056 2 20.316427 test01\n",
      "39 Q0 12572604 3 20.019789 test01\n",
      "39 Q0 12018164 4 18.914942 test01\n",
      "39 Q0 12198117 5 18.53824 test01\n",
      "39 Q0 12370302 6 17.901812 test01\n",
      "39 Q0 12364783 7 17.759235 test01\n",
      "39 Q0 12498730 8 17.581202 test01\n",
      "39 Q0 12610309 9 17.563158 test01\n",
      "39 Q0 12018165 10 17.490023 test01\n",
      "40 Q0 12485448 1 33.288563 test01\n",
      "40 Q0 11875714 2 32.18385 test01\n",
      "40 Q0 12270932 3 29.900146 test01\n",
      "40 Q0 12089351 4 27.657124 test01\n",
      "40 Q0 11861304 5 26.959799 test01\n",
      "40 Q0 12040024 6 26.89915 test01\n",
      "40 Q0 12130569 7 26.655775 test01\n",
      "40 Q0 11981045 8 26.307375 test01\n",
      "40 Q0 12171960 9 25.962507 test01\n",
      "40 Q0 12054899 10 24.701546 test01\n",
      "42 Q0 12213838 1 24.139849 test01\n",
      "42 Q0 12510193 2 22.327467 test01\n",
      "42 Q0 11710527 3 21.526064 test01\n",
      "42 Q0 12545177 4 21.519394 test01\n",
      "42 Q0 11744384 5 21.078987 test01\n",
      "42 Q0 11805056 6 20.316427 test01\n",
      "42 Q0 12572604 7 20.019789 test01\n",
      "42 Q0 12018164 8 18.914942 test01\n",
      "42 Q0 12198117 9 18.53824 test01\n",
      "42 Q0 11850624 10 17.934568 test01\n",
      "44 Q0 12167152 1 27.794035 test01\n",
      "44 Q0 12645611 2 24.285095 test01\n",
      "44 Q0 12018119 3 23.876041 test01\n",
      "44 Q0 12148460 4 23.304388 test01\n",
      "44 Q0 12028792 5 22.287289 test01\n",
      "44 Q0 11937514 6 21.776457 test01\n",
      "44 Q0 12503676 7 21.562836 test01\n",
      "44 Q0 12231201 8 21.542027 test01\n",
      "44 Q0 11996013 9 19.726152 test01\n",
      "44 Q0 12107444 10 19.282501 test01\n",
      "45 Q0 12167152 1 27.794035 test01\n",
      "45 Q0 12554655 2 25.2966 test01\n",
      "45 Q0 12459172 3 24.548338 test01\n",
      "45 Q0 12645611 4 24.285095 test01\n",
      "45 Q0 12018119 5 23.876041 test01\n",
      "45 Q0 11799118 6 23.493261 test01\n",
      "45 Q0 12148460 7 23.304388 test01\n",
      "45 Q0 12028792 8 22.287289 test01\n",
      "45 Q0 11937514 9 21.776457 test01\n",
      "45 Q0 11997453 10 21.582367 test01\n",
      "46 Q0 12167152 1 27.794035 test01\n",
      "46 Q0 12645611 2 24.285095 test01\n",
      "46 Q0 12018119 3 23.876041 test01\n",
      "46 Q0 12148460 4 23.304388 test01\n",
      "46 Q0 12297987 5 22.365034 test01\n",
      "46 Q0 12028792 6 22.287289 test01\n",
      "46 Q0 11937514 7 21.776457 test01\n",
      "46 Q0 12503676 8 21.562836 test01\n",
      "46 Q0 12231201 9 21.542027 test01\n",
      "46 Q0 12527194 10 21.161715 test01\n",
      "48 Q0 11937514 1 30.196491 test01\n",
      "48 Q0 12527194 2 28.739347 test01\n",
      "48 Q0 12167152 3 27.794035 test01\n",
      "48 Q0 12468090 4 27.194584 test01\n",
      "48 Q0 12520032 5 27.03521 test01\n",
      "48 Q0 12547394 6 25.865536 test01\n",
      "48 Q0 12135477 7 25.440912 test01\n",
      "48 Q0 12525084 8 24.78054 test01\n",
      "48 Q0 12645611 9 24.285095 test01\n",
      "48 Q0 12018119 10 23.876041 test01\n",
      "50 Q0 11919687 1 31.304985 test01\n",
      "50 Q0 12234080 2 26.67778 test01\n",
      "50 Q0 12498670 3 23.626709 test01\n",
      "50 Q0 12054003 4 23.399738 test01\n",
      "50 Q0 12234073 5 21.807463 test01\n",
      "50 Q0 11923015 6 21.567633 test01\n",
      "50 Q0 12048574 7 21.433283 test01\n",
      "50 Q0 12136153 8 21.334381 test01\n",
      "50 Q0 12237116 9 20.896845 test01\n",
      "50 Q0 11734903 10 20.749426 test01\n"
     ]
    }
   ],
   "source": [
    "# this prints out (it is a shell command) the content of the file baseline.run \n",
    "!cat baseline.run"
   ]
  },
  {
   "cell_type": "markdown",
   "metadata": {},
   "source": [
    "> Tip: Write a line to `run_file` using `run_file.write(line)`. \n",
    "> The newline character is: `'\\n'`. Before writing a number to\n",
    "> the file, cast it to a string using `str()`.\n",
    ">\n",
    "> The TREC Submission guidelines allow you to submit up to 1000\n",
    "> documents per topic. Keep this in mind!"
   ]
  },
  {
   "cell_type": "markdown",
   "metadata": {},
   "source": [
    "***\n",
    "***\n",
    "***\n",
    "***\n",
    "***\n",
    "***"
   ]
  },
  {
   "cell_type": "markdown",
   "metadata": {},
   "source": [
    "# Part 03: Search models \n",
    "\n",
    "\n",
    "<span style=\"background:red; color: white;\">__You are advised to work on this part after Lecture 02 (Models of search)__</span>\n",
    "\n",
    "\n",
    "### Background\n",
    "The way documents are indexed influences the performance of the IR systems. \n",
    "Elasticsearch [Mappings](https://www.elastic.co/guide/en/elasticsearch/reference/7.8/mapping.html) define how a document, and its properties (fields) are stored and indexed, but also provides tools to implement and execute different document similarity measures (i.e. search models).  When using a different configuration of an ElasticSearch Mapping, the document collection needs to be re-indexed (or a new index need to be created - use the functions we provided above to do that).\n",
    "\n",
    "> See again: [Index Settings and Mappings](https://www.elastic.co/guide/en/elasticsearch/reference/7.8/indices-create-index.html).\n",
    "> _Note: the default model (similarity) in ElasticSearch is BM25. Different models need to be specified (see example)._\n",
    "\n",
    "For instance, we can add a new field `\"title-abstract\"` that uses the  [similarity measure](https://www.elastic.co/guide/en/elasticsearch/reference/7.8/similarity.html) _Boolean_, and let it serve as an index for the fields `\"TI\"` and `\"AB\"` (title and abstract):\n",
    "\n",
    "> Plase note that if you want to use the `boolean` similarity for the single fields, you need to specify it for each field. Otherwise, the default BM25 will be used."
   ]
  },
  {
   "cell_type": "code",
   "execution_count": 48,
   "metadata": {},
   "outputs": [
    {
     "name": "stderr",
     "output_type": "stream",
     "text": [
      "/var/folders/1y/f8n3xy297gjbt471z8k3jv0h0000gn/T/ipykernel_55545/1573036711.py:22: DeprecationWarning: Passing transport options in the API method is deprecated. Use 'Elasticsearch.options()' instead.\n",
      "  es.indices.delete(index=index_name, ignore=[400, 404])\n",
      "/var/folders/1y/f8n3xy297gjbt471z8k3jv0h0000gn/T/ipykernel_55545/1573036711.py:22: ElasticsearchWarning: Elasticsearch built-in security features are not enabled. Without authentication, your cluster could be accessible to anyone. See https://www.elastic.co/guide/en/elasticsearch/reference/7.17/security-minimal-setup.html to enable security.\n",
      "  es.indices.delete(index=index_name, ignore=[400, 404])\n",
      "/var/folders/1y/f8n3xy297gjbt471z8k3jv0h0000gn/T/ipykernel_55545/1573036711.py:24: ElasticsearchWarning: Elasticsearch built-in security features are not enabled. Without authentication, your cluster could be accessible to anyone. See https://www.elastic.co/guide/en/elasticsearch/reference/7.17/security-minimal-setup.html to enable security.\n",
      "  es.indices.create(index=index_name, body=body)\n",
      "/var/folders/1y/f8n3xy297gjbt471z8k3jv0h0000gn/T/ipykernel_55545/1573036711.py:29: DeprecationWarning: Passing transport options in the API method is deprecated. Use 'Elasticsearch.options()' instead.\n",
      "  return elasticsearch.helpers.bulk(\n",
      "/var/folders/1y/f8n3xy297gjbt471z8k3jv0h0000gn/T/ipykernel_55545/1573036711.py:29: ElasticsearchWarning: Elasticsearch built-in security features are not enabled. Without authentication, your cluster could be accessible to anyone. See https://www.elastic.co/guide/en/elasticsearch/reference/7.17/security-minimal-setup.html to enable security.\n",
      "  return elasticsearch.helpers.bulk(\n"
     ]
    },
    {
     "data": {
      "text/plain": [
       "(263080, [])"
      ]
     },
     "execution_count": 48,
     "metadata": {},
     "output_type": "execute_result"
    }
   ],
   "source": [
    "boolean = {\n",
    "  \"settings\" : {\n",
    "    # a single shard, so we do not suffer from approximate document frequencies\n",
    "    \"number_of_shards\" : 1\n",
    "  },\n",
    "  \"mappings\": {\n",
    "      \"properties\": {\n",
    "        \"AB\": {\n",
    "          \"type\": \"text\",\n",
    "          \"copy_to\": \"title-abstract\",\n",
    "          \"similarity\": \"boolean\"\n",
    "        },\n",
    "        \"TI\": {\n",
    "          \"type\": \"text\",\n",
    "          \"copy_to\": \"title-abstract\",\n",
    "          \"similarity\": \"boolean\"\n",
    "        },\n",
    "        \"title-abstract\": {  # compound field\n",
    "          \"type\": \"text\",\n",
    "          \"similarity\": \"boolean\"\n",
    "        }\n",
    "      }\n",
    "  }\n",
    "}\n",
    "\n",
    "es = elasticsearch.Elasticsearch(hosts=[{'host': 'localhost', 'port': 9200, 'scheme': 'http'}]) # Connect to the ES server\n",
    "index_documents(es, 'data01/FIR-s05-medline.json', 'genomics-bool', body=boolean)"
   ]
  },
  {
   "cell_type": "markdown",
   "metadata": {},
   "source": [
    "> Most changes to the mappings cannot be done on an existing index. Some (for instance\n",
    "> similarity measures) can be changed if the index is first closed. Nevertheless, we \n",
    "> will in this notebook _re-index_ the collection for every change to the mappings\n",
    "> using the function `index_documents()` that we defined above. Mappings (and settings)\n",
    "> can be passed to the function using the `body` parameter.\n",
    "\n",
    "<span style=\"background:#444; color: white;\">__We suggest you to create different indices using different models of search (according to the available disk space on your VM). This will avoid that changes are not correctly applied, and you won't see the expected results.__</span>\n",
    "\n",
    "<span style=\"background:#444; color: white;\">E.g. for the 'boolean' model, we created the 'genomics-bool' index.</span>\n",
    "\n",
    "Let's have a look at the mappings and settings for our index as follows:"
   ]
  },
  {
   "cell_type": "code",
   "execution_count": 49,
   "metadata": {},
   "outputs": [
    {
     "name": "stderr",
     "output_type": "stream",
     "text": [
      "/var/folders/1y/f8n3xy297gjbt471z8k3jv0h0000gn/T/ipykernel_55545/1667387108.py:1: ElasticsearchWarning: Elasticsearch built-in security features are not enabled. Without authentication, your cluster could be accessible to anyone. See https://www.elastic.co/guide/en/elasticsearch/reference/7.17/security-minimal-setup.html to enable security.\n",
      "  es.indices.get(index='genomics-bool')\n"
     ]
    },
    {
     "data": {
      "text/plain": [
       "ObjectApiResponse({'genomics-bool': {'aliases': {}, 'mappings': {'properties': {'AB': {'type': 'text', 'copy_to': ['title-abstract'], 'similarity': 'boolean'}, 'AD': {'type': 'text', 'fields': {'keyword': {'type': 'keyword', 'ignore_above': 256}}}, 'AID': {'type': 'text', 'fields': {'keyword': {'type': 'keyword', 'ignore_above': 256}}}, 'CI': {'type': 'text', 'fields': {'keyword': {'type': 'keyword', 'ignore_above': 256}}}, 'CIN': {'type': 'text', 'fields': {'keyword': {'type': 'keyword', 'ignore_above': 256}}}, 'CN': {'type': 'text', 'fields': {'keyword': {'type': 'keyword', 'ignore_above': 256}}}, 'CON': {'type': 'text', 'fields': {'keyword': {'type': 'keyword', 'ignore_above': 256}}}, 'CY': {'type': 'text', 'fields': {'keyword': {'type': 'keyword', 'ignore_above': 256}}}, 'DA': {'type': 'text', 'fields': {'keyword': {'type': 'keyword', 'ignore_above': 256}}}, 'DCOM': {'type': 'text', 'fields': {'keyword': {'type': 'keyword', 'ignore_above': 256}}}, 'DP': {'type': 'text', 'fields': {'keyword': {'type': 'keyword', 'ignore_above': 256}}}, 'EDAT': {'type': 'text', 'fields': {'keyword': {'type': 'keyword', 'ignore_above': 256}}}, 'EIN': {'type': 'text', 'fields': {'keyword': {'type': 'keyword', 'ignore_above': 256}}}, 'FAU': {'type': 'text', 'fields': {'keyword': {'type': 'keyword', 'ignore_above': 256}}}, 'ID': {'type': 'text', 'fields': {'keyword': {'type': 'keyword', 'ignore_above': 256}}}, 'IP': {'type': 'text', 'fields': {'keyword': {'type': 'keyword', 'ignore_above': 256}}}, 'IS': {'type': 'text', 'fields': {'keyword': {'type': 'keyword', 'ignore_above': 256}}}, 'JID': {'type': 'text', 'fields': {'keyword': {'type': 'keyword', 'ignore_above': 256}}}, 'LA': {'type': 'text', 'fields': {'keyword': {'type': 'keyword', 'ignore_above': 256}}}, 'LR': {'type': 'text', 'fields': {'keyword': {'type': 'keyword', 'ignore_above': 256}}}, 'MH': {'type': 'text', 'fields': {'keyword': {'type': 'keyword', 'ignore_above': 256}}}, 'MHDA': {'type': 'text', 'fields': {'keyword': {'type': 'keyword', 'ignore_above': 256}}}, 'ORI': {'type': 'text', 'fields': {'keyword': {'type': 'keyword', 'ignore_above': 256}}}, 'PG': {'type': 'text', 'fields': {'keyword': {'type': 'keyword', 'ignore_above': 256}}}, 'PHST': {'type': 'text', 'fields': {'keyword': {'type': 'keyword', 'ignore_above': 256}}}, 'PMID': {'type': 'text', 'fields': {'keyword': {'type': 'keyword', 'ignore_above': 256}}}, 'PS': {'type': 'text', 'fields': {'keyword': {'type': 'keyword', 'ignore_above': 256}}}, 'PST': {'type': 'text', 'fields': {'keyword': {'type': 'keyword', 'ignore_above': 256}}}, 'PT': {'type': 'text', 'fields': {'keyword': {'type': 'keyword', 'ignore_above': 256}}}, 'RF': {'type': 'text', 'fields': {'keyword': {'type': 'keyword', 'ignore_above': 256}}}, 'RIN': {'type': 'text', 'fields': {'keyword': {'type': 'keyword', 'ignore_above': 256}}}, 'RN': {'type': 'text', 'fields': {'keyword': {'type': 'keyword', 'ignore_above': 256}}}, 'ROF': {'type': 'text', 'fields': {'keyword': {'type': 'keyword', 'ignore_above': 256}}}, 'RPF': {'type': 'text', 'fields': {'keyword': {'type': 'keyword', 'ignore_above': 256}}}, 'RPI': {'type': 'text', 'fields': {'keyword': {'type': 'keyword', 'ignore_above': 256}}}, 'SB': {'type': 'text', 'fields': {'keyword': {'type': 'keyword', 'ignore_above': 256}}}, 'SI': {'type': 'text', 'fields': {'keyword': {'type': 'keyword', 'ignore_above': 256}}}, 'SO': {'type': 'text', 'fields': {'keyword': {'type': 'keyword', 'ignore_above': 256}}}, 'SPIN': {'type': 'text', 'fields': {'keyword': {'type': 'keyword', 'ignore_above': 256}}}, 'TA': {'type': 'text', 'fields': {'keyword': {'type': 'keyword', 'ignore_above': 256}}}, 'TI': {'type': 'text', 'copy_to': ['title-abstract'], 'similarity': 'boolean'}, 'TT': {'type': 'text', 'fields': {'keyword': {'type': 'keyword', 'ignore_above': 256}}}, 'UI': {'type': 'text', 'fields': {'keyword': {'type': 'keyword', 'ignore_above': 256}}}, 'UIN': {'type': 'text', 'fields': {'keyword': {'type': 'keyword', 'ignore_above': 256}}}, 'UOF': {'type': 'text', 'fields': {'keyword': {'type': 'keyword', 'ignore_above': 256}}}, 'VI': {'type': 'text', 'fields': {'keyword': {'type': 'keyword', 'ignore_above': 256}}}, 'title-abstract': {'type': 'text', 'similarity': 'boolean'}}}, 'settings': {'index': {'routing': {'allocation': {'include': {'_tier_preference': 'data_content'}}}, 'number_of_shards': '1', 'provided_name': 'genomics-bool', 'creation_date': '1727265211144', 'number_of_replicas': '1', 'uuid': 'vTe3qdOrS1-1-1lzCY1ZnQ', 'version': {'created': '7170499'}}}}})"
      ]
     },
     "execution_count": 49,
     "metadata": {},
     "output_type": "execute_result"
    }
   ],
   "source": [
    "es.indices.get(index='genomics-bool')"
   ]
  },
  {
   "cell_type": "markdown",
   "metadata": {},
   "source": [
    "Now let's search our new field `\"title-abstract\"` as follows:"
   ]
  },
  {
   "cell_type": "code",
   "execution_count": 50,
   "metadata": {},
   "outputs": [
    {
     "name": "stderr",
     "output_type": "stream",
     "text": [
      "/var/folders/1y/f8n3xy297gjbt471z8k3jv0h0000gn/T/ipykernel_55545/3049803502.py:9: ElasticsearchWarning: Elasticsearch built-in security features are not enabled. Without authentication, your cluster could be accessible to anyone. See https://www.elastic.co/guide/en/elasticsearch/reference/7.17/security-minimal-setup.html to enable security.\n",
      "  es.search(index=\"genomics-bool\", search_type=search_type, body=body)\n"
     ]
    },
    {
     "data": {
      "text/plain": [
       "ObjectApiResponse({'took': 14, 'timed_out': False, '_shards': {'total': 1, 'successful': 1, 'skipped': 0, 'failed': 0}, 'hits': {'total': {'value': 3185, 'relation': 'eq'}, 'max_score': 1.0, 'hits': [{'_index': 'genomics-bool', '_type': '_doc', '_id': '125', '_score': 1.0, '_source': {'AB': 'Previous studies from our laboratories revealed the susceptibility of Leishmania sp. to glibenclamide (GLIB), a potassium channel blocker which selectively interacts with adenosine-binding-cassette transporters. In the present work, we analyzed whether the drug sensitivity of intracellular amastigotes correlates with changes in macrophage features that are related to their function as antigen-presenting cells. We provide evidence that in BALB/c murine macrophages, GLIB induced a decrease in the interferon-gamma-stimulated expression of major histocompatibility complex class II molecules and the co-stimulatory molecule CD86 (B7-2). Furthermore, it caused a decrease in the interleukin-1 secretion by macrophages. The data indicate that the treatment with GLIB inhibits the Th2 development and polarizes macrophage functions towards the induction of a protective Th1 response.', 'AD': 'Laboratory of Molecular Physiology, Instituto de Medicina Experimental, Facultad de Medicina, Universidad Central de Venezuela, Caracas. aiponte@reacciun.ve', 'CY': 'United States', 'DA': '20011105', 'DCOM': '20020412', 'DP': '2001 Aug', 'EDAT': '2001/11/06 10:00', 'IP': '3', 'IS': '0892-3973', 'JID': '8800150', 'LA': 'eng', 'MHDA': '2002/04/16 10:01', 'PG': '477-86', 'PMID': '11694036', 'PST': 'ppublish', 'PT': 'Journal Article', 'SB': 'IM', 'SO': 'Immunopharmacol Immunotoxicol 2001 Aug;23(3):477-86.', 'TA': 'Immunopharmacol Immunotoxicol', 'TI': 'Experimental leishmaniasis: the glibenclamide-triggered decrease in parasite growth correlates with changes in macrophage features.', 'UI': '21545398', 'VI': '23', 'MH': ['Animal', 'Antigens, CD/metabolism', 'Glyburide/*therapeutic use', 'Histocompatibility Antigens Class II/metabolism', 'In Vitro', 'Interleukin-1/metabolism', 'Leishmania major/drug effects/growth & development', 'Leishmaniasis/*drug therapy/*immunology/parasitology', 'Macrophages/*drug effects/*immunology/parasitology', 'Membrane Glycoproteins/metabolism', 'Mice', 'Mice, Inbred BALB C', \"Support, Non-U.S. Gov't\"], 'RN': ['0 (Antigens, CD)', '0 (B7-2 protein)', '0 (Histocompatibility Antigens Class II)', '0 (Interleukin-1)', '0 (Membrane Glycoproteins)', '10238-21-8 (Glyburide)'], 'FAU': ['Ponte-Sucre, A', 'Figarella, K', 'Moll, H']}}, {'_index': 'genomics-bool', '_type': '_doc', '_id': '639', '_score': 1.0, '_source': {'AB': 'Osteoblast differentiation is a multistep process that involves critical spatial and temporal regulation of cellular processes marked by the presence of a large number of differentially expressed molecules. To identify key functional molecules, we used differential messenger RNA (mRNA) display and compared RNA populations isolated from the defined transition phases (proliferation, matrix formation, and mineralization) of the MC3T3-E1 osteoblast-like cell line. Using this approach, a complementary DNA (cDNA) fragment was isolated and identified as neuroleukin (NLK), a multifunctional cytokine also known as autocrine motility factor (AMF), phosphoglucose isomerase (PGI; phosphohexose isomerase [PHI]), and maturation factor (MF). Northern analysis showed NLK temporal expression during MC3T3-E1 cell differentiation with a 3.5-fold increase during matrix formation and mineralization. Immunocytochemical studies revealed the presence of NLK in MC3T3-E1 cells as well as in the surrounding matrix, consistent with a secreted molecule. In contrast, the NLK receptor protein was detected primarily on the cell membrane. In subsequent studies, a high level of NLK expression was identified in osteoblasts and superficial articular chondrocytes in bone of 1-, 4-, and 8-month-old normal mice, as well as in fibroblasts, proliferating chondrocytes, and osteoblasts within a fracture callus. However, NLK was not evident in hypertrophic chondrocytes or osteocytes. In addition, treatment of MC3T3 cells with 6-phosphogluconic acid (6PGA; a NLK inhibitor) resulted in diminishing alkaline phosphatase (ALP) activity and mineralization in MC3T3-E1 cells, especially during the matrix formation stage of differentiating cells. Taken together, these data show specific expression of NLK in discrete populations of bone and cartilage cells and suggest a possible role for this secreted protein in bone development and regeneration.', 'AD': 'Department of Biomedical Engineering, State University of New York at Stony Brook, 11794-2580, USA.', 'CY': 'United States', 'DA': '20011107', 'DCOM': '20020422', 'DP': '2001 Nov', 'EDAT': '2001/11/08 10:00', 'IP': '11', 'IS': '0884-0431', 'JID': '8610640', 'LA': 'eng', 'LR': '20020610', 'MHDA': '2002/04/23 10:01', 'PG': '1994-2004', 'PMID': '11697795', 'PST': 'ppublish', 'PT': 'Journal Article', 'SB': 'S', 'SO': 'J Bone Miner Res 2001 Nov;16(11):1994-2004.', 'TA': 'J Bone Miner Res', 'TI': 'Differential expression of neuroleukin in osseous tissues and its involvement in mineralization during osteoblast differentiation.', 'UI': '21554149', 'VI': '16', 'MH': ['3T3 Cells', 'Animal', 'Bone Development/genetics/physiology', 'Cell Differentiation/drug effects', 'Fracture Healing/genetics/physiology', 'Gene Expression', 'Gluconates/pharmacology', 'Immunohistochemistry', 'Mice', 'Minerals/metabolism', 'Neuroleukin/antagonists & inhibitors/*genetics', 'Osteoblasts/*cytology/drug effects/*metabolism', 'RNA, Messenger/genetics/metabolism', 'Receptors, Growth Factor/metabolism', \"Support, Non-U.S. Gov't\", \"Support, U.S. Gov't, Non-P.H.S.\"], 'RN': ['0 (Gluconates)', '0 (Minerals)', '0 (Neuroleukin)', '0 (RNA, Messenger)', '0 (Receptors, Growth Factor)', '921-62-0 (6-phosphogluconate)'], 'FAU': ['Zhi, J', 'Sommerfeldt, D W', 'Rubin, C T', 'Hadjiargyrou, M']}}, {'_index': 'genomics-bool', '_type': '_doc', '_id': '713', '_score': 1.0, '_source': {'AB': 'CD38 identifies a surface molecule with multi-functional activity. Its prognostic importance in B-cell chronic lymphocytic leukemia (B-CLL) is currently under investigation in view of the fact that two different groups have recently indicated that CD38 expression could be an independent prognostic marker in B-CLL. We analyzed the clinico-biological features of 61 immunologically typical (CD5+CD23+) B-CLL patients stratified according to the CD38 expression. Twenty-two (36%) patients expressed CD38 in more than 30% of CD19-positive cells and were considered as CD38-positive B-CLL. Atypical morphology (p 0.02), peripheral blood lymphocytosis (p 0.01) and diffuse histopathologic bone marrow pattern (p 0.003) were findings found to be closely associated with CD38 expression. On the other hand, A and B Binet stages (p 0.02) and interstitial bone marrow involvement (p 0.005) were more represented in the CD38-negative B-CLL group. Trisomy 12 was detected more frequently in the CD38-positive B-CLL group, while 13q14 deletions mainly occurred in CD38-negative group (p 0.005). Finally, median survival of CD38-positive B-CLL patients was 90 months, while it was not reached at 180 months in CD38-negative patients. Taken together, our data strongly suggest that the evaluation of CD38 expression may identify two groups patients with B-CLL greatly differing in their clinico-biological features.', 'AD': 'Division of Hematology, IRCCS Casa Sollievo della Sofferenza Hospital, 71013 San Giovanni Rotondo, Italy. ematologia@operapadrepio.it', 'CY': 'Switzerland', 'DA': '20011108', 'DCOM': '20020516', 'DP': '2001 Jun', 'EDAT': '2001/11/09 10:00', 'IP': '1-2', 'IS': '1042-8194', 'JID': '9007422', 'LA': 'eng', 'LR': '20021213', 'MHDA': '2002/05/17 10:01', 'PG': '109-14', 'PMID': '11699197', 'PST': 'ppublish', 'PT': 'Journal Article', 'SB': 'IM', 'SO': 'Leuk Lymphoma 2001 Jun;42(1-2):109-14.', 'TA': 'Leuk Lymphoma', 'TI': 'CD38 expression correlates with adverse biological features and predicts poor clinical outcome in B-cell chronic lymphocytic leukemia.', 'UI': '21556526', 'VI': '42', 'MH': ['ADP-ribosyl Cyclase', 'Adult', 'Aged', 'Antigens, Differentiation/*biosynthesis', 'Antigens, Neoplasm/*biosynthesis', 'Biological Markers/analysis', 'Cohort Studies', 'Cytogenetic Analysis', 'Human', 'Leukemia, B-Cell, Chronic/diagnosis/*immunology/mortality', 'Middle Age', 'NAD+ Nucleosidase/*biosynthesis', 'Prognosis', 'Survival Analysis', 'Treatment Outcome'], 'RN': ['0 (Antigens, Differentiation)', '0 (Antigens, Neoplasm)', '0 (Biological Markers)', 'EC 3.2.2.5 (ADP-ribosyl Cyclase)', 'EC 3.2.2.5 (CD38 antigen)', 'EC 3.2.2.5 (NAD+ Nucleosidase)'], 'FAU': [\"D'Arena, G\", 'Musto, P', 'Cascavilla, N', \"Dell'Olio, M\", 'Di Renzo, N', 'Perla, G', 'Savino, L', 'Carotenuto, M']}}, {'_index': 'genomics-bool', '_type': '_doc', '_id': '737', '_score': 1.0, '_source': {'AB': 'The emigration of lymphocytes from blood into lymph nodes is regulated by the expression of the adhesion molecule, L-selectin on the lymphocyte surface which arrests the rolling of the cell on the vessel wall and allows firmer adhesive interactions to develop. The expression of L-selectin on B-CLL lymphocytes is less than half that on normal lymphocytes and this difference correlates with an impaired capacity of B-CLL lymphocytes to migrate beneath a monolayer of human umbilical vein endothelial cells. Both the B-cell and T-cell lymphocytes from normal subjects and B-CLL patients show down-regulation of L-selectin and CD23 after transendothelial migration. The reduced expression of L-selectin on B-CLL lymphocytes leads to a relative \"trapping\" of these cells in the vascular space and is one factor contributing to the elevation of peripheral lymphocyte count.', 'AD': 'Sydney University, Department of Medicine, Nepean Hospital, Penrith, NSW 2750, Australia.', 'CY': 'Switzerland', 'DA': '20011108', 'DCOM': '20020516', 'DP': '2001 Jun', 'EDAT': '2001/11/09 10:00', 'IP': '1-2', 'IS': '1042-8194', 'JID': '9007422', 'LA': 'eng', 'MHDA': '2002/05/17 10:01', 'PG': '5-12', 'PMID': '11699221', 'PST': 'ppublish', 'PT': 'Review, Tutorial', 'RF': '34', 'SB': 'IM', 'SO': 'Leuk Lymphoma 2001 Jun;42(1-2):5-12.', 'TA': 'Leuk Lymphoma', 'TI': 'Impaired transendothelial migration of B-CLL lymphocytes: a defect linked to low L-selectin expression.', 'UI': '21556515', 'VI': '42', 'MH': ['B-Lymphocytes/pathology', 'Chemotaxis, Leukocyte', 'Down-Regulation', 'Endothelium, Vascular/*physiopathology', 'Human', 'L-Selectin/biosynthesis/physiology', 'Leukemia, B-Cell, Chronic/*pathology/physiopathology'], 'RN': ['126880-86-2 (L-Selectin)'], 'FAU': ['Gu, B', 'Dao, L P', 'Wiley, J']}}, {'_index': 'genomics-bool', '_type': '_doc', '_id': '858', '_score': 1.0, '_source': {'AB': 'Monolayers of seven fractions of natural lipids (phosphatidyl inositol, sulfoquinovosyl diacylglycerol, phosphatidylcholine, digalactosyl diacylglycerol, phosphatidyl glycerol, phosphatidylethanolamine, monogalactosyl diacylglycerol), isolated from the photoautotrophic cell culture of the moss Marchantia polymorpha grown under normal and light-stress conditions, have been prepared for the first time. We have shown that the high-intensity light affects the area occupied by the lipid molecule. In the case of digalactosyl diacylglycerol and phosphatidyl glycerol fractions, after the light stress the area significantly increased from 0.50 to 0.80 nm2 and from 0.47 to 0.63 nm2, respectively, and in the case of the sulfoquinovosyl diacylglycerol fraction, the area decreased from 0.40 to 0.32 nm2. These results are in agreement with our previous data on the redistribution of the double bonds in the aliphatic chains of these lipids and can be used to characterize the state of the lipid bilayer of the thylakoid membranes.', 'AD': 'Shemyakin and Ovchinnikov Institute of Bioorganic Chemistry, Russian Academy of Sciences, Moscow.', 'CY': 'Switzerland', 'DA': '20011108', 'DCOM': '20020411', 'DP': '2001 Jul', 'EDAT': '2001/11/09 10:00', 'IP': '5', 'IS': '1023-6597', 'JID': '9517472', 'LA': 'eng', 'MHDA': '2002/04/12 10:01', 'PG': '579-85', 'PMID': '11699862', 'PST': 'ppublish', 'PT': 'Journal Article', 'SB': 'IM', 'SO': 'Membr Cell Biol 2001 Jul;14(5):579-85.', 'TA': 'Membr Cell Biol', 'TI': 'A study of moss (Marchantia polymorpha) thylakoid membrane lipids in monolayers.', 'UI': '21556221', 'VI': '14', 'MH': ['Cells, Cultured/chemistry/radiation effects', 'Chromatography, Thin Layer', 'Diglycerides/chemistry/isolation & purification', 'Glycolipids/chemistry/isolation & purification', 'Light', 'Membrane Lipids/*chemistry/isolation & purification', 'Mosses/chemistry/radiation effects', 'Phosphatidylcholines/chemistry/isolation & purification', 'Phosphatidylethanolamines/chemistry/isolation & purification', 'Phosphatidylglycerols/chemistry/isolation & purification', 'Phosphatidylinositols/chemistry/isolation & purification', 'Plants/*chemistry/radiation effects', \"Support, Non-U.S. Gov't\", 'Thylakoids/*chemistry/radiation effects'], 'RN': ['0 (Diglycerides)', '0 (Glycolipids)', '0 (Membrane Lipids)', '0 (Phosphatidylcholines)', '0 (Phosphatidylethanolamines)', '0 (Phosphatidylglycerols)', '0 (Phosphatidylinositols)', '0 (digalactosyldiglycerides)', '0 (monogalactosyldiglycerides)', '0 (sulfoquinovosyl diglyceride)'], 'FAU': ['Volchenkova, T A', 'Kalabina, N A', 'Schaefer, C', 'Zubov, V P']}}, {'_index': 'genomics-bool', '_type': '_doc', '_id': '1206', '_score': 1.0, '_source': {'AB': 'Photodynamic therapy (PDT) is the treatment of tumors or dysplasic tissue with drugs that produce cytotoxic metabolites when exposed to light. Aminolevulinic acid HCl (5-aminolevulinic acid HCl; ALA) is a prodrug that is metabolized intracellularly to form the photosensitizing molecule protoporphyrin (PpIX). When PpIX is activated by light, cytotoxic reactive oxygen species and free radicals are generated. ALA can diffuse through skin and preferentially localizes in tumors and dysplasic tissue; subsequent exposure of PpIX-loaded tumor cells to light can destroy the tumor. After application of a 20% solution of ALA to actinic keratosis lesions of the head, PpIX (as measured by skin fluorescence) peaked 11 hours after treatment and the mean clearance half-life was 30 hours. In phase II trials 10 J/cm2 of blue light (wavelength = 417 nm) delivered at 10 mW/cm2 for 1000 seconds was found to provide maximal therapeutic effect on lesions of the head after treatment with 20% ALA. In phase III trials of ALA PDT in 241 patients with lesions of the head 72% of patients had a complete response to treatment at 12 weeks versus 20% of those treated with vehicle and light alone. Some of these patients had been re-treated at 8 weeks. In these trials 12% of ALA-treated patients and 37.5% of those receiving vehicle whose lesions had cleared at 8 weeks had relapsed at 12 weeks. When the total number of lesions were considered the recurrence rate was 5 and 27.9% for ALA', 'AD': 'Adis International Limited, Auckland, New Zealand. demail@adis.co.nz', 'CY': 'New Zealand', 'DA': '20011112', 'DCOM': '20020716', 'DP': '2000 Mar-Apr', 'EDAT': '2001/11/13 10:00', 'IP': '2', 'IS': '1175-0561', 'JID': '100895290', 'LA': 'eng', 'MHDA': '2002/07/18 10:01', 'PG': '133-9; discussion 140-1', 'PMID': '11702313', 'PST': 'ppublish', 'PT': 'Review, Tutorial', 'RF': '42', 'SB': 'IM', 'SO': 'Am J Clin Dermatol 2000 Mar-Apr;1(2):133-9; discussion 140-1.', 'TA': 'Am J Clin Dermatol', 'TI': 'Topical aminolevulinic acid HCl photodynamic therapy.', 'UI': '21559338', 'VI': '1', 'MH': ['Administration, Topical', 'Aminolevulinic Acid/*administration & dosage/adverse effects', 'Clinical Trials, Phase II', 'Clinical Trials, Phase III', 'Human', '*Photochemotherapy', 'Photosensitizing Agents/*administration & dosage/adverse effects'], 'RN': ['0 (Photosensitizing Agents)', '106-60-5 (Aminolevulinic Acid)'], 'FAU': ['Ormrod, D', 'Jarvis, B']}}, {'_index': 'genomics-bool', '_type': '_doc', '_id': '1684', '_score': 1.0, '_source': {'AB': 'We describe an approach for the rapid mapping of epitopes within a malaria antigen using a combination of phage display techniques. Phage display of antigen fragments identifies the location of the epitopes, then random peptide libraries displayed on phage are employed to identify accurately amino acids involved in the epitope. Finally, phage display of mutant fragments confirms the role of each residue in the epitope. This approach was applied to the apical membrane antigen-1 (AMA1), which is a leading candidate for inclusion in a vaccine directed against the asexual blood stages of Plasmodium falciparum. As part of the effort both to understand the function of AMA1 in the parasite life cycle and to define the specificity of protective immune responses, a panel of monoclonal antibodies (MAbs) was generated to obtain binding reagents to the various domains within the molecule. There is a pressing need to determine rapidly the regions recognized by these antibodies and the structural requirements required within AMA1 for high affinity binding of the MAbs. Using phage displaying random AMA1 fragments, it was shown that MAb5G8 recognizes a short linear epitope within the pro-domain of AMA1 whereas the epitope recognized by MAb 1F9 is reduction sensitive and resides within a disulphide-bonded 57 amino acid sub-domain of domain-1. Phage displaying random peptide libraries and mutant AMA1 fragments were employed for fine mapping of the MAb5G8 core epitope to a three-residue sequence in the AMA1 prodomain.', 'AD': 'Department of Biochemistry, La Trobe University, Bundoora, 3083, Victoria, Australia.', 'CY': 'England', 'DA': '20011114', 'DCOM': '20020402', 'DP': '2001 Sep', 'EDAT': '2001/11/15 10:00', 'IP': '9', 'IS': '0269-2139', 'JID': '8801484', 'LA': 'eng', 'MHDA': '2002/04/03 10:01', 'PG': '691-8', 'PMID': '11707616', 'PST': 'ppublish', 'PT': 'Journal Article', 'SB': 'IM', 'SO': 'Protein Eng 2001 Sep;14(9):691-8.', 'TA': 'Protein Eng', 'TI': 'Rapid and precise epitope mapping of monoclonal antibodies against Plasmodium falciparum AMA1 by combined phage display of fragments and random peptides.', 'UI': '21564501', 'VI': '14', 'MH': ['Amino Acid Sequence', 'Animal', 'Antibodies, Monoclonal/genetics/*immunology', 'Antibody Specificity', 'Antigens, Protozoan/chemistry/genetics/*immunology', 'Bacteriophages/genetics', 'Disulfides/chemistry', 'Epitope Mapping/*methods', 'Epitopes/immunology', 'Erythrocytes/parasitology', 'Membrane Proteins/chemistry/*immunology', 'Molecular Sequence Data', 'Mutation', 'Peptide Library', 'Peptides/genetics/immunology', 'Plasmodium falciparum/*immunology', 'Protein Binding', 'Protein Structure, Tertiary', 'Protozoan Proteins/chemistry/*immunology', 'Sequence Alignment', \"Support, Non-U.S. Gov't\"], 'RN': ['0 (Antibodies, Monoclonal)', '0 (Antigens, Protozoan)', '0 (Disulfides)', '0 (Epitopes)', '0 (Membrane Proteins)', '0 (Peptide Library)', '0 (Peptides)', '0 (Protozoan Proteins)', '0 (apical membrane antigen I)'], 'FAU': ['Coley, A M', 'Campanale, N V', 'Casey, J L', 'Hodder, A N', 'Crewther, P E', 'Anders, R F', 'Tilley, L M', 'Foley, M']}}, {'_index': 'genomics-bool', '_type': '_doc', '_id': '2029', '_score': 1.0, '_source': {'AB': 'Inflammatory cells are thought to be instrumental in the pathophysiology of pulmonary diseases, and control of their recruitment and activation in the lung would appear to be an attractive strategy for therapeutic intervention. Interleukin-8 and related CXC chemokines are involved in the function of neutrophils and T cells, and have been implicated in several lung diseases. Small-molecule antagonists of the interleukin-8 receptors have been identified, which may help elucidate the role of interleukin-8 and related chemokines in the pathophysiology of lung diseases.', 'AD': 'Respiratory, Inflammation and Respiratory Pathogens Center for Excellence in Drug Discovery, GlaxoSmithKline, King of Prussia, PA 19406, USA. douglas_w_hay@sbphrd.com', 'CY': 'England', 'DA': '20011119', 'DCOM': '20020408', 'DP': '2001 Jun', 'EDAT': '2001/11/20 10:00', 'IP': '3', 'IS': '1471-4892', 'JID': '100966133', 'LA': 'eng', 'MHDA': '2002/04/09 10:01', 'PG': '242-7', 'PMID': '11712746', 'PST': 'ppublish', 'PT': 'Review, Tutorial', 'RF': '57', 'SB': 'IM', 'SO': 'Curr Opin Pharmacol 2001 Jun;1(3):242-7.', 'TA': 'Curr Opin Pharmacol', 'TI': 'Interleukin-8 receptor antagonists in pulmonary diseases.', 'UI': '21569164', 'VI': '1', 'MH': ['Animal', 'Human', 'Interleukin-8/metabolism/*physiology', 'Lung Diseases/*drug therapy', 'Receptors, Interleukin-8A/*antagonists & inhibitors/physiology'], 'RN': ['0 (Interleukin-8)', '0 (Receptors, Interleukin-8A)'], 'FAU': ['Hay, D W', 'Sarau, H M']}}, {'_index': 'genomics-bool', '_type': '_doc', '_id': '2046', '_score': 1.0, '_source': {'AB': 'PROBLEM: It has been suggested that specific mechanisms commonly used by different cellular systems to evade immunologic recognition are involved in the development of endometriosis. To gain insight into this aspect, we looked at the relationship between two of these mechanisms in endometrial stroma and the melanoma system for which the ability to create an environment of immune privilege has been well established. METHOD OF STUDY: Media conditioned by endometrial stromal cultures and malignant melanoma A375 were examined to test their effects on peripheral blood mononuclear cell-mediated cytotoxicity directed against K562 target. Moreover, these media were tested for the concentration of the soluble form of intercellular adhesion molecule-1 (sICAM-1), which has been suggested as a marker for spreading potential. RESULTS: Media conditioned by endometrial stromal cultures exerted a significant suppressive effect on cell cytotoxicity when compared with those derived from malignant melanoma Moreover, the constitutive release of sICAM-1 was significantly higher in supernatants from endometrial stromal than in melanoma cells. CONCLUSIONS: These results indicate that two specific properties suggested to be involved in the ability of tumor cells to evade the immune system are more pronounced in the endometrium than in a malignant melanoma. Since the properties evaluated have been previously demonstrated to be even more notable in endometrial samples derived from endometriosis patients, a role of these mechanisms in the development of the disease may be hypothesized.', 'AD': 'Istituto Scientifico Centro Auxologico Italiano, Milano, Italy. paola.vigano@unimi.it', 'CY': 'Denmark', 'DA': '20011119', 'DCOM': '20020404', 'DP': '2001 Nov', 'EDAT': '2001/11/20 10:00', 'IP': '5', 'IS': '1046-7408', 'JID': '8912860', 'LA': 'eng', 'MHDA': '2002/04/18 10:01', 'PG': '342-8', 'PMID': '11712763', 'PST': 'ppublish', 'PT': 'Journal Article', 'SB': 'IM', 'SO': 'Am J Reprod Immunol 2001 Nov;46(5):342-8.', 'TA': 'Am J Reprod Immunol', 'TI': 'Suppression of natural killer cell function and production of soluble ICAM-1: endometrial stroma versus melanoma.', 'UI': '21569181', 'VI': '46', 'MH': ['Comparative Study', 'Cytotoxicity, Immunologic', 'Endometriosis/etiology', 'Endometrium/*immunology/metabolism', 'Female', 'Human', '*Immune Tolerance', 'Intercellular Adhesion Molecule-1/*biosynthesis', 'Interleukin-1/pharmacology', 'Killer Cells, Natural/*immunology', 'Melanoma/etiology/*immunology/metabolism', 'Stromal Cells/metabolism', 'Tumor Cells, Cultured'], 'RN': ['0 (Interleukin-1)', '126547-89-5 (Intercellular Adhesion Molecule-1)'], 'FAU': ['Vigano, P', 'Somigliana, E', 'Di Blasio, A M', 'Cozzolino, S', 'Candiani, M', 'Vignali, M']}}, {'_index': 'genomics-bool', '_type': '_doc', '_id': '2420', '_score': 1.0, '_source': {'AB': \"In this article we describe detailed pathological and molecular genetics studies in a consanguineous kindred with Pendred's syndrome. The index patient was a 53-year-old female patient with congenital deafness and goiter. Her parents were first-degree cousins. She had a large goiter (150 g) that had been present since childhood. One of her sisters and a niece are also deaf and have goiter as well. The presence of Pendred's syndrome was confirmed by a positive perchlorate test and the demonstration of a Mondini malformation. Thyroid function tests (under levothyroxine [LT4] therapy) were in the euthyroid range with a thyrotropin [TSH] level of 2.8 microU/mL (0.2-3.2), a serum total thyroxine (T4) of 90 nmol/L (54-142), and a serum total triiodothyronine (T3) of 2.7 nmol/L (0.8-2.4). Total thyroidectomy was performed, and the mass in the right lobe was found to have invaded adjacent tissues. The histopathological findings were consistent with a follicular carcinoma with areas of anaplastic transformation and lung metastasis. The patient was treated twice with 100 mCi 131iodine (3,700 MBq) and received suppressive doses of LT4. Postoperatively, the serum thyroglobulin (Tg) levels remained markedly elevated (2,352 to 41,336 ng/mL). The patient died of a sudden severe episode of hemoptysis. Sequence analysis of the PDS gene performed with DNA from the two relatives with Pendred's syndrome revealed the presence of a deletion of thymidine 279 in exon 3, a point mutation that results in a frameshift and a premature stop codon at codon 96 in the pendrin molecule. We concluded that prolonged TSH stimulation because of iodine deficiency or dyshormonogenesis in combination with mutations of oncogenes and/or tumor suppressor genes, may result in the development of follicular thyroid carcinomas that undergo transformation into anaplastic cancers. It is likely that these pathogenetic mechanisms have been involved in the development of aggressive metastatic thyroid cancer in this unusual patient with Pendred's syndrome.\", 'AD': 'Thyroid Unit, Hospital das Clinicas FMUSP, Sao Paulo, Brazil.', 'CY': 'United States', 'DA': '20011121', 'DCOM': '20020522', 'DP': '2001 Oct', 'EDAT': '2001/11/22 10:00', 'IP': '10', 'IS': '1050-7256', 'JID': '9104317', 'LA': 'eng', 'MHDA': '2002/05/25 10:01', 'PG': '981-8', 'PMID': '11716048', 'PST': 'ppublish', 'PT': 'Journal Article', 'SB': 'IM', 'SO': 'Thyroid 2001 Oct;11(10):981-8.', 'TA': 'Thyroid', 'TI': \"Aggressive metastatic follicular thyroid carcinoma with anaplastic transformation arising from a long-standing goiter in a patient with Pendred's syndrome.\", 'UI': '21572133', 'VI': '11', 'MH': ['Adult', 'Amino Acid Sequence', 'Anaplasia', 'Base Sequence', 'Carrier Proteins/genetics', 'Case Report', 'Consanguinity', 'DNA/genetics', 'DNA Mutational Analysis', 'Deafness/*complications/congenital/*genetics', 'Female', 'Goiter/*complications/*genetics', 'Human', 'Lung Neoplasms/secondary', 'Male', 'Middle Age', 'Mutation', 'Pedigree', \"Support, Non-U.S. Gov't\", 'Syndrome', 'Thyroid Neoplasms/*complications/genetics/pathology'], 'RN': ['0 (Carrier Proteins)', '0 (sulfate transporter)', '9007-49-2 (DNA)'], 'FAU': ['Camargo, R', 'Limbert, E', 'Gillam, M', 'Henriques, M M', 'Fernandes, C', 'Catarino, A L', 'Soares, J', 'Alves, V A', 'Kopp, P', 'Medeiros-Neto, G']}}]}})"
      ]
     },
     "execution_count": 50,
     "metadata": {},
     "output_type": "execute_result"
    }
   ],
   "source": [
    "query = \"molecule\"\n",
    "search_type = \"dfs_query_then_fetch\" # this will use exact document frequencies even for multiple shards\n",
    "body = {\n",
    "  \"query\": {\n",
    "    \"match\" : { \"title-abstract\" : query }\n",
    "  },\n",
    "  \"size\": 10\n",
    "}\n",
    "es.search(index=\"genomics-bool\", search_type=search_type, body=body)"
   ]
  },
  {
   "cell_type": "markdown",
   "metadata": {},
   "source": [
    "## Exercise 04.A: _new run and evaluation_\n",
    "Create a new run file (e.g. `boolean.run`), compute the retrieval performance with the function `print_trec_eval()` and compare the results with the baseline run file `baseline.run`."
   ]
  },
  {
   "cell_type": "code",
   "execution_count": null,
   "metadata": {},
   "outputs": [],
   "source": [
    "#THIS IS GRADED!\n",
    "\n",
    "# write your code here\n",
    "# BEGIN ANSWER\n",
    "# END ANSWER"
   ]
  },
  {
   "cell_type": "markdown",
   "metadata": {},
   "source": [
    "## Exercise 04.B: _Language models_\n",
    "\n",
    "Custom similarities can be configured by tuning the parameters of the built-in similarities. Read more about these (expert) options in the [similarity module](https://www.elastic.co/guide/en/elasticsearch/reference/6.2/index-modules-similarity.html).\n",
    "\n",
    "> Tip: the example similarity settings have to be used in a `\"settings\"` object.\n",
    "> Check your settings and mappings with: `es.indices.get(index='NAME-OF-INDEX')`.\n",
    "\n",
    "__1. Make a run that uses Language Models with [Jelinek-Mercer smoothing](http://lucene.apache.org/core/5_2_1/core/org/apache/lucene/search/similarities/LMJelinekMercerSimilarity.html) (linear interpolation smoothing) on the field `\"all\"` that indexes the fields `\"TI\"` and `\"AB\"`. Use the parameter `lambda=0.2`.__"
   ]
  },
  {
   "cell_type": "code",
   "execution_count": null,
   "metadata": {},
   "outputs": [],
   "source": [
    "#THIS IS GRADED!\n",
    "\n",
    "lmjelinekmercer = {\n",
    "  # BEGIN ANSWER\n",
    "  # END ANSWER\n",
    "}"
   ]
  },
  {
   "cell_type": "code",
   "execution_count": null,
   "metadata": {},
   "outputs": [],
   "source": [
    "index_documents(es, 'data01/FIR-s05-medline.json', 'genomics-jm', body=lmjelinekmercer)\n",
    "make_trec_run(es, 'data01/FIR-s05-training-queries-simple.txt', 'lmjelinekmercer.run', 'genomics-jm')"
   ]
  },
  {
   "cell_type": "markdown",
   "metadata": {},
   "source": [
    "__2. Make a run that uses Language Models with [Dirichelet smoothing](https://www.elastic.co/guide/en/elasticsearch/reference/current/index-modules-similarity.html) to index the fields `\"TI\"` and `\"AB\"`. Use the parameter `mu=2000`.__"
   ]
  },
  {
   "cell_type": "code",
   "execution_count": null,
   "metadata": {},
   "outputs": [],
   "source": [
    "#THIS IS GRADED!\n",
    "\n",
    "dirichlet = {\n",
    "  # BEGIN ANSWER\n",
    "  # END ANSWER\n",
    "}"
   ]
  },
  {
   "cell_type": "code",
   "execution_count": null,
   "metadata": {},
   "outputs": [],
   "source": [
    "index_documents(es, 'data01/FIR-s05-medline.json', 'genomics-dirichlet', body=dirichlet)\n",
    "make_trec_run(es, 'data01/FIR-s05-training-queries-simple.txt', 'dirichlet.run', 'genomics-dirichlet')"
   ]
  },
  {
   "cell_type": "markdown",
   "metadata": {},
   "source": [
    "## Exercise 04.C: _Model comparison_\n",
    "\n",
    "\n",
    "__1. Compute the performance results of the `lmjelinekmercer.run` and `dirichelet.run`. Compare them with those of the `baseline.run` and `boolean.run`. Evaluate the runs using the `print_trec_eval` function. Performing statistical tests may help strengthen your claims.__"
   ]
  },
  {
   "cell_type": "code",
   "execution_count": null,
   "metadata": {},
   "outputs": [],
   "source": [
    "#THIS IS GRADED!\n",
    "\n",
    "# your comments here\n",
    "# BEGIN ANSWER\n",
    "# END ANSWER"
   ]
  },
  {
   "cell_type": "code",
   "execution_count": null,
   "metadata": {},
   "outputs": [],
   "source": [
    "print('Top20 retrieved documents baseline.run')\n",
    "! head -10 baseline.run\n",
    "\n",
    "print('\\nTop20 retrieved documents boolean.run')\n",
    "! head -10 boolean.run\n",
    "\n",
    "print('\\nTop20 retrieved documents lmjelinekmercer.run')\n",
    "! head -10 lmjelinekmercer.run\n",
    "\n",
    "print('\\nTop20 retrieved documents dirichelet.run')\n",
    "! head -10 dirichelet.run"
   ]
  },
  {
   "cell_type": "markdown",
   "metadata": {},
   "source": [
    "\n",
    "\n",
    "__2. Provide below your comments and interpretations of the results. Why, in your opinion, one model of search is better than the others?__"
   ]
  },
  {
   "cell_type": "code",
   "execution_count": null,
   "metadata": {},
   "outputs": [],
   "source": [
    "# answer as a comment:\n",
    "# \n",
    "\n"
   ]
  },
  {
   "cell_type": "markdown",
   "metadata": {},
   "source": [
    "## Example: _ElasticSearch Analyzers for tokenization_\n",
    "\n",
    "The amount and quality of the tokens used to construct the inverted index are of great importance. In ElasticSearch, mappings and settings also allow specifying what [Analyzer](https://www.elastic.co/guide/en/elasticsearch/reference/current/analysis.html) is used to tokenize your documents and queries. In the mappings below, use the _Dutch_ analyzer for the field `\"all\"`):\n",
    "\n",
    "> Usually, the same analyzer should be applied to documents and queries, but \n",
    "> Elasticsearch allows you to specify a `\"search_analyzer\"` that is used on \n",
    "> your queries (which we do not need to use in the assignment)."
   ]
  },
  {
   "cell_type": "code",
   "execution_count": null,
   "metadata": {},
   "outputs": [],
   "source": [
    "analyzer_test = {\n",
    "  \"mappings\": {\n",
    "      \"properties\": {\n",
    "        \"all\": {\n",
    "          \"type\": \"text\",\n",
    "          \"analyzer\": \"dutch\"\n",
    "        }\n",
    "      }\n",
    "  }\n",
    "}\n",
    "\n",
    "# create the index, but don't index any documents:\n",
    "create_index(es, 'test-tokens', body=analyzer_test)"
   ]
  },
  {
   "cell_type": "markdown",
   "metadata": {},
   "source": [
    "The analyzer defined for the `\"all\"` field can be tested [as follows](https://elasticsearch-py.readthedocs.io/en/master/api.html#indices). Translated to English the text says: _\"This is a Dutch sentence\"_. \n",
    "\n",
    "> The following script identifies the tokens (based on the use of the dutch tokenizer): try with different tokenizers and different sentences to see how the tokens are created."
   ]
  },
  {
   "cell_type": "code",
   "execution_count": null,
   "metadata": {},
   "outputs": [],
   "source": [
    "from pprint import pprint # pretty print\n",
    "\n",
    "body = { \"field\": \"all\", \"text\": \"dit zijn nederlandse zinnen\"}\n",
    "tokens = es.indices.analyze(index='test-tokens', body=body)\n",
    "pprint(tokens)"
   ]
  },
  {
   "cell_type": "markdown",
   "metadata": {},
   "source": [
    "***\n",
    "***\n",
    "***\n",
    "***\n",
    "***\n",
    "***"
   ]
  },
  {
   "cell_type": "markdown",
   "metadata": {},
   "source": [
    "# Part 04: Index improvements: Tokenization\n",
    "<span style=\"background:red; color: white;\">__You are advised to work on this part after Lecture 03 (Conceptual Indexing)__</span>\n",
    "\n",
    "\n",
    "\n",
    "## Background\n",
    "The following part of the assignment requires some self-study of the ElasticSearch tools to support the improvemnet of the indexing. Please read the:\n",
    "* [Index Settings and Mappings](https://www.elastic.co/guide/en/elasticsearch/reference/6.2/indices-create-index.html).\n",
    "* Elasticsearch [Analyzers](https://www.elastic.co/guide/en/elasticsearch/reference/6.2/analysis.html) contain many options for improving your search engine.\n",
    "\n",
    "> You are suggested to use the [Python Elasticsearch Client](https://elasticsearch-py.readthedocs.io) library documentation."
   ]
  },
  {
   "cell_type": "markdown",
   "metadata": {},
   "source": [
    "##  Exercise 03.A: _chat language analyzer_\n",
    "\n",
    "Read the documentation for [Custom Analyzer](https://www.elastic.co/guide/en/elasticsearch/reference/6.2/analysis-custom-analyzer.html). \n",
    "Make a custom analyzer for _English chat language_. The analyzer should do the following:\n",
    "* change common abbreviations to the full forms: \n",
    "  * _b4_ to _before_, \n",
    "  * _abt_ to _about_, \n",
    "  * _chk_ to _check_, \n",
    "  * _dm_ to _direct message_,\n",
    "  * _f2f_ to _face-to-face_\n",
    "* use the _standard_ tokenizer;\n",
    "* put everything to lower-case;\n",
    "* filter English stopwords."
   ]
  },
  {
   "cell_type": "code",
   "execution_count": 55,
   "metadata": {},
   "outputs": [
    {
     "name": "stderr",
     "output_type": "stream",
     "text": [
      "/var/folders/1y/f8n3xy297gjbt471z8k3jv0h0000gn/T/ipykernel_55545/1573036711.py:22: DeprecationWarning: Passing transport options in the API method is deprecated. Use 'Elasticsearch.options()' instead.\n",
      "  es.indices.delete(index=index_name, ignore=[400, 404])\n",
      "/var/folders/1y/f8n3xy297gjbt471z8k3jv0h0000gn/T/ipykernel_55545/1573036711.py:22: ElasticsearchWarning: Elasticsearch built-in security features are not enabled. Without authentication, your cluster could be accessible to anyone. See https://www.elastic.co/guide/en/elasticsearch/reference/7.17/security-minimal-setup.html to enable security.\n",
      "  es.indices.delete(index=index_name, ignore=[400, 404])\n"
     ]
    },
    {
     "name": "stdout",
     "output_type": "stream",
     "text": [
      "ObjectApiResponse({'tokens': [{'token': 'done', 'start_offset': 0, 'end_offset': 4, 'type': '<ALPHANUM>', 'position': 0}, {'token': 'it', 'start_offset': 5, 'end_offset': 7, 'type': '<ALPHANUM>', 'position': 1}, {'token': 'b4', 'start_offset': 8, 'end_offset': 10, 'type': '<ALPHANUM>', 'position': 2}, {'token': 'what', 'start_offset': 12, 'end_offset': 16, 'type': '<ALPHANUM>', 'position': 3}, {'token': 'abt', 'start_offset': 17, 'end_offset': 20, 'type': '<ALPHANUM>', 'position': 4}, {'token': 'dm', 'start_offset': 21, 'end_offset': 23, 'type': '<ALPHANUM>', 'position': 5}, {'token': 'me', 'start_offset': 24, 'end_offset': 26, 'type': '<ALPHANUM>', 'position': 6}]})\n"
     ]
    },
    {
     "name": "stderr",
     "output_type": "stream",
     "text": [
      "/var/folders/1y/f8n3xy297gjbt471z8k3jv0h0000gn/T/ipykernel_55545/1573036711.py:24: ElasticsearchWarning: Elasticsearch built-in security features are not enabled. Without authentication, your cluster could be accessible to anyone. See https://www.elastic.co/guide/en/elasticsearch/reference/7.17/security-minimal-setup.html to enable security.\n",
      "  es.indices.create(index=index_name, body=body)\n",
      "/var/folders/1y/f8n3xy297gjbt471z8k3jv0h0000gn/T/ipykernel_55545/1651109484.py:42: ElasticsearchWarning: Elasticsearch built-in security features are not enabled. Without authentication, your cluster could be accessible to anyone. See https://www.elastic.co/guide/en/elasticsearch/reference/7.17/security-minimal-setup.html to enable security.\n",
      "  tokens = es.indices.analyze(index='genomics', body=body)\n"
     ]
    }
   ],
   "source": [
    "#THIS IS GRADED!\n",
    "\n",
    "import pprint\n",
    "\n",
    "tweet_analyzer = {\n",
    "    \"settings\": {\n",
    "        \"analysis\": {\n",
    "            \"filter\": {\n",
    "                \"chat_synonyms\": {\n",
    "                    \"type\": \"synonym\",\n",
    "                    \"synonyms\": [\n",
    "                        \"b4 => before\",\n",
    "                        \"abt => about\",\n",
    "                        \"chk => check\",\n",
    "                        \"dm => direct message\",\n",
    "                        \"f2f => face-to-face\"\n",
    "                    ]\n",
    "                },\n",
    "                \"english_stop\": {\n",
    "                    \"type\": \"stop\",\n",
    "                    \"stopwords\": \"_english_\"  # Built-in English stopword list\n",
    "                }\n",
    "            },\n",
    "            \"analyzer\": {\n",
    "                \"custom_chat_analyzer\": {\n",
    "                    \"type\": \"custom\",\n",
    "                    \"tokenizer\": \"standard\",\n",
    "                    \"filter\": [\n",
    "                        \"lowercase\",  # Convert all text to lowercase\n",
    "                        \"chat_synonyms\",  # Replace abbreviations with full forms\n",
    "                        \"english_stop\"  # Remove English stopwords\n",
    "                    ]\n",
    "                }\n",
    "            }\n",
    "        }\n",
    "    }\n",
    "}\n",
    "\n",
    "# create the index, but don't index any documents:\n",
    "create_index(es, 'genomics', body=tweet_analyzer)\n",
    "body = { \"field\": \"all\", \"text\": \"done it b4! what abt dm me?\"}\n",
    "tokens = es.indices.analyze(index='genomics', body=body)\n",
    "pprint.pprint(tokens)"
   ]
  },
  {
   "cell_type": "markdown",
   "metadata": {},
   "source": [
    "## Exercise 03.B: Stemmers\n",
    "\n",
    "Referring at Exercise 02.A, we have seen that queries like `molecule` and `molecular` retrieve different sets of documents. Lemmatizer and stemmers can help the indexing and search of 'similar' terms, and retrieve more consistent sets of documents.\n",
    "\n",
    "__Use the ElasticSearch [Stemming](https://www.elastic.co/guide/en/elasticsearch/reference/current/stemming.html) to index the document collection. Then retrieve documents with the queries `molecule` and `molecular` and comment on the eventual differences with the previous query results.__\n"
   ]
  },
  {
   "cell_type": "code",
   "execution_count": null,
   "metadata": {},
   "outputs": [],
   "source": [
    "#THIS IS GRADED!\n",
    "\n",
    "body = {\n",
    "  # BEGIN ANSWER\n",
    "  # END ANSWER\n",
    "}\n",
    "\n",
    "body = {\n",
    "  # BEGIN ANSWER\n",
    "  # END ANSWER\n",
    "}"
   ]
  },
  {
   "cell_type": "code",
   "execution_count": null,
   "metadata": {},
   "outputs": [],
   "source": [
    "# Connect to the ElasticSearch server\n",
    "es = elasticsearch.Elasticsearch(host='localhost')  # in case you use Docker, the host is 'elasticsearch'\n",
    "\n",
    "# Index the collection into the index called 'genomics-stem'\n",
    "index_documents(es, 'data01/FIR-s05-medline.json', 'genomics-stem', body)"
   ]
  },
  {
   "cell_type": "markdown",
   "metadata": {},
   "source": [
    "__Retrieve documents with the queries `molecule` and `molecular` and comment on the eventual differences with the previous query results.__"
   ]
  },
  {
   "cell_type": "code",
   "execution_count": null,
   "metadata": {},
   "outputs": [],
   "source": [
    "#THIS IS GRADED!\n",
    "# BEGIN ANSWER\n",
    "# END ANSWER"
   ]
  },
  {
   "cell_type": "code",
   "execution_count": null,
   "metadata": {},
   "outputs": [],
   "source": [
    "# Comment here about the eventual different results you get \n",
    "# -> words that are stemmed, like molecule and molecules, should improve the retrieval results (in terms of amount of retrieved dos)\n",
    "# -> words that are not stemmed, like 'molecular' should not see much differernt results\n",
    "\n",
    "# the point of the exercise is not to have the same results with molecule and molecular, but \n",
    "# what the stemmer does, and reason after that."
   ]
  },
  {
   "cell_type": "markdown",
   "metadata": {},
   "source": [
    "# BONUS PART: _Implement your own similarity measure_ \n",
    "\n",
    "We have only seen the results of using the analyzer to queries. The analyzer results from the _documents_ are available using the `termvectors()` function, as follows for document `id=3`: (Additionally, we can get overall field statistics, such as the number of documents)\n",
    "\n",
    "> First, index the collection again. While waiting, have a coffee or tea :) \n",
    "\n",
    "> `id=3` refers to the internal document identifiers, so not to the Pubmed identifier.\n",
    "\n",
    "_The bonus exercise is not mandatory. It can compensate for missing other exercises._"
   ]
  },
  {
   "cell_type": "code",
   "execution_count": null,
   "metadata": {},
   "outputs": [],
   "source": [
    "import elasticsearch\n",
    "es = elasticsearch.Elasticsearch(host='localhost')\n",
    "\n",
    "# index_documents(es, 'data/FIR-05-medline.json', 'genomics-base')\n",
    "\n",
    "es.termvectors(index=\"genomics-base\", id=\"3\", fields=\"TI\", \n",
    "               term_statistics=True, field_statistics=True, offsets=False)"
   ]
  },
  {
   "cell_type": "markdown",
   "metadata": {},
   "source": [
    "### Implement the BM25 similarity\n",
    "\n",
    "Complete the function `bm25_similarity()` below by implementing the BM25 similarity as described by in Section 11.4.3 of [Manning, Raghavan and Schuetze, Chapter 11](https://nlp.stanford.edu/IR-book/pdf/11prob.pdf). Are you able to replicate the score of ElasitcSearch (9.55)? If not, are you using a different variant of the BM25 model? Provide your comments in plain text."
   ]
  },
  {
   "cell_type": "code",
   "execution_count": null,
   "metadata": {},
   "outputs": [],
   "source": [
    "#THIS IS GRADED!\n",
    "\n",
    "import math\n",
    "\n",
    "# math.log(x) computes the logarithm of x\n",
    "\n",
    "def bm25_similarity (query, doc_id):\n",
    "\n",
    "    # Get the query tokens (see above)\n",
    "    query_tokens = es.indices.analyze(index='genomics-base', body={\"field\":\"TI\", \"text\": query})\n",
    "    tokens = query_tokens['tokens']\n",
    "\n",
    "    # Get the term vector for doc_id and the field statistics\n",
    "    term_vector = es.termvectors(index=\"genomics-base\", id=doc_id, fields=\"TI\", \n",
    "                  term_statistics=True, field_statistics=True, offsets=False)\n",
    "    vector = term_vector['term_vectors']['TI']['terms']\n",
    "    f_stats = term_vector['term_vectors']['TI']['field_statistics']\n",
    "\n",
    "    # The answer should sum over 'tokens', check if the tokens exists in the 'vector',\n",
    "    # and if so, add the appropriate value to 'similarity'.\n",
    "    # Tip: add print statements to your code to see what each variable contains.\n",
    "    \n",
    "    similarity = 0\n",
    "\n",
    "    # BEGIN ANSWER\n",
    "    # END ANSWER\n",
    "    return similarity\n",
    "\n",
    "bm25_similarity(\"structure refinement\", 3)"
   ]
  },
  {
   "cell_type": "code",
   "execution_count": null,
   "metadata": {},
   "outputs": [],
   "source": [
    "# eventual comments here"
   ]
  },
  {
   "cell_type": "markdown",
   "metadata": {},
   "source": [
    "See below the 'reference score' computed by ElasticSearch:"
   ]
  },
  {
   "cell_type": "code",
   "execution_count": null,
   "metadata": {},
   "outputs": [],
   "source": [
    "body = {\n",
    "  \"query\": {\n",
    "    \"match\" : { \"TI\" : \"structure refinement\" }\n",
    "  }\n",
    "}\n",
    "explain = es.explain(index=\"genomics-base\", id=\"3\", body=body)\n",
    "print (explain['explanation']['value'])  # BM25 score computed by ElasticSearch"
   ]
  }
 ],
 "metadata": {
  "kernelspec": {
   "display_name": "Python 3 (ipykernel)",
   "language": "python",
   "name": "python3"
  },
  "language_info": {
   "codemirror_mode": {
    "name": "ipython",
    "version": 3
   },
   "file_extension": ".py",
   "mimetype": "text/x-python",
   "name": "python",
   "nbconvert_exporter": "python",
   "pygments_lexer": "ipython3",
   "version": "3.12.6"
  }
 },
 "nbformat": 4,
 "nbformat_minor": 2
}
