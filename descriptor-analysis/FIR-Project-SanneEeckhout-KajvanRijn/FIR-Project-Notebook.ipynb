{
 "cells": [
  {
   "cell_type": "markdown",
   "metadata": {},
   "source": [
    "This notebook provides an in-depth comparison between classical keypoint-based descriptors and holistic deep learning-based descriptors for image retrieval tasks. The analysis aims to evaluate the trade-offs in performance, efficiency, and accuracy across these two types of feature extraction approaches.\n",
    "\n",
    "Authors: Sanne Eeckhout & Kaj van Rijn\n",
    "\n",
    "Course: Foundations of Image Retrieval\n",
    "\n",
    "Date: November 2024"
   ]
  },
  {
   "cell_type": "markdown",
   "metadata": {},
   "source": [
    "## Load Libraries"
   ]
  },
  {
   "cell_type": "code",
   "execution_count": 142,
   "metadata": {},
   "outputs": [],
   "source": [
    "import json\n",
    "import h5py\n",
    "import numpy as np\n",
    "from tqdm import tqdm\n",
    "from sklearn.cluster import KMeans\n",
    "from skimage import feature\n",
    "from skimage.color import rgb2gray\n",
    "import os\n",
    "import cv2\n",
    "import matplotlib.pyplot as plt\n",
    "import pandas as pd\n",
    "import plotly.express as px\n",
    "from sklearn.metrics import precision_recall_curve\n",
    "import json\n",
    "import torch\n",
    "import torch.nn as nn\n",
    "from torchvision import models, transforms\n",
    "import pandas as pd\n",
    "import plotly.express as px\n",
    "import kaleido\n",
    "import time\n"
   ]
  },
  {
   "cell_type": "markdown",
   "metadata": {},
   "source": [
    "## Experimental Setup"
   ]
  },
  {
   "cell_type": "code",
   "execution_count": 88,
   "metadata": {},
   "outputs": [
    {
     "name": "stderr",
     "output_type": "stream",
     "text": [
      "Loading images: 100%|██████████| 1000/1000 [00:00<00:00, 1562.10it/s]\n",
      "Loading images: 100%|██████████| 500/500 [00:00<00:00, 1554.60it/s]\n"
     ]
    }
   ],
   "source": [
    "\n",
    "\n",
    "# Function to load images based on paths and directory\n",
    "def load_images_from_paths(image_paths, image_directory):\n",
    "    images = []\n",
    "    for filename in tqdm(image_paths, desc=\"Loading images\"):\n",
    "        img_path = os.path.join(image_directory, filename)\n",
    "        image = cv2.imread(img_path, cv2.IMREAD_GRAYSCALE)\n",
    "        if image is not None:\n",
    "            images.append(image)\n",
    "    return images\n",
    "\n",
    "# Initialize keypoint detectors from both skimage and OpenCV\n",
    "def initialize_detectors():\n",
    "    # skimage descriptors\n",
    "    sift = feature.SIFT()  # SIFT detector\n",
    "    orb = feature.ORB(n_keypoints=50)  # ORB detector\n",
    "    brief = feature.BRIEF()  # BRIEF descriptor\n",
    "    # daisy = feature.daisy()  # DAISY descriptor\n",
    "\n",
    "    # OpenCV descriptors\n",
    "    akaze = cv2.AKAZE_create()  # AKAZE\n",
    "    brisk = cv2.BRISK_create()  # BRISK\n",
    "    # surf = cv2.xfeatures2d.SURF_create()  # SURF (requires opencv-contrib)\n",
    "    return {\n",
    "        # \"SURF\": surf,\n",
    "        \"ORB\": orb,\n",
    "        \"SIFT\": sift,\n",
    "        # \"DAISY\": daisy,\n",
    "        # \"BRIEF\": brief,\n",
    "        \"Harris + BRIEF\": brief,\n",
    "        \"AKAZE\": akaze,\n",
    "        \"BRISK\": brisk,\n",
    "        # \n",
    "    }\n",
    "\n",
    "# Function to extract descriptors using skimage or OpenCV\n",
    "def extract_descriptors(image, detector, method_name):\n",
    "    if method_name in [\"SIFT\", \"ORB\", \"DAISY\"]:\n",
    "        detector.detect_and_extract(image)\n",
    "        keypoints = detector.keypoints\n",
    "        descriptors = detector.descriptors\n",
    "    elif method_name == \"Harris + BRIEF\":\n",
    "        # Detect Harris corners for BRIEF\n",
    "        keypoints = feature.corner_peaks(feature.corner_harris(image), min_distance=5)\n",
    "        detector.extract(image, keypoints)\n",
    "        keypoints, descriptors = keypoints, detector.descriptors\n",
    "    else:  # OpenCV descriptors\n",
    "        keypoints, descriptors = detector.detectAndCompute(image, None)\n",
    "    return keypoints, descriptors\n",
    "\n",
    "# Bag of words function\n",
    "def bag_of_words(centroids, img_descriptors):\n",
    "    bow_vector = np.zeros(len(centroids))\n",
    "    for descriptor in img_descriptors:\n",
    "        distances = np.linalg.norm(centroids - descriptor, axis=1)\n",
    "        closest_centroid = np.argmin(distances)\n",
    "        bow_vector[closest_centroid] += 1\n",
    "    return bow_vector\n",
    "\n",
    "# Retrieve images function\n",
    "def retrieve_images(map_bow_vectors, query_bow):\n",
    "    # similarities = np.dot(map_bow_vectors, query_bow)\n",
    "    # return np.argsort(-similarities)  # Return indices sorted by similarity (descending)\n",
    "    n_map_bow_vectors = map_bow_vectors.shape[0]\n",
    "    bow_distances = np.zeros(n_map_bow_vectors)\n",
    "    most_similar = None  # use this to \n",
    "    \n",
    "    # Compute the Euclidean distance between query_bow and each map BoW vector\n",
    "    for i in range(n_map_bow_vectors):\n",
    "        bow_distances[i] = np.linalg.norm(map_bow_vectors[i] - query_bow)\n",
    "    \n",
    "    # Get indices of map images sorted by smallest distance (most similar first)\n",
    "    most_similar = np.argsort(bow_distances)\n",
    "    \n",
    "    return most_similar\n",
    "\n",
    "\n",
    "\n",
    "\n",
    "# Experiment function\n",
    "# def run_experiment_with_dataset():\n",
    "# Load images\n",
    "with open(\"data02/database/database_lite.json\", \"r\") as f:\n",
    "    m_idx = json.load(f)\n",
    "    m_imgs = np.array(m_idx[\"im_paths\"])\n",
    "    m_loc = np.array(m_idx[\"loc\"])\n",
    "\n",
    "with open(\"data02/query/query_lite.json\", \"r\") as f:\n",
    "    q_idx = json.load(f)\n",
    "    q_imgs = np.array(q_idx[\"im_paths\"])\n",
    "    q_loc = np.array(q_idx[\"loc\"])\n",
    "\n",
    "with h5py.File(\"data02/london_lite_gt.h5\", \"r\") as f:\n",
    "    fovs = f[\"fov\"][:]\n",
    "    sim = f[\"sim\"][:].astype(np.uint8)\n",
    "\n",
    "database_images = load_images_from_paths(m_imgs, \"data02/\")\n",
    "query_images = load_images_from_paths(q_imgs, \"data02/\")\n",
    "\n",
    "detectors = initialize_detectors()\n"
   ]
  },
  {
   "cell_type": "code",
   "execution_count": 60,
   "metadata": {},
   "outputs": [],
   "source": [
    "\n",
    "# Efficiently load retrieved images once\n",
    "def load_retrieved_images(file_path):\n",
    "    with open(file_path, \"r\") as file:\n",
    "        return [eval(line.strip()) for line in file]\n",
    "\n",
    "# Precision at k\n",
    "def precision_at_k(relevant, retrieved, k):\n",
    "    relevant_retrieved = [1 if r in relevant else 0 for r in retrieved[:k]]\n",
    "    return sum(relevant_retrieved) / k\n",
    "\n",
    "# Mean average precision (mAP)\n",
    "def mean_average_precision(relevant, retrieved, k_list, precision_scores):\n",
    "    \"\"\"\n",
    "    Calculate mean average precision (mAP) and print precision at k for ks in k_list.\n",
    "\n",
    "    Parameters:\n",
    "        relevant (list): List of relevant images (ground truth).\n",
    "        retrieved (list): List of retrieved images in ranked order.\n",
    "        k_list (list of int): List of k values for precision calculation (e.g., [1, 5, 10]).\n",
    "\n",
    "    Returns:\n",
    "        float: Mean Average Precision (mAP).\n",
    "    \"\"\"\n",
    "    precisions = []\n",
    "    \n",
    "    # Calculate precision for each rank and store in precisions if relevant\n",
    "    for k in range(1, len(retrieved) + 1):\n",
    "        if retrieved[k - 1] in relevant:\n",
    "            precision_at_k_value = precision_at_k(relevant, retrieved, k)\n",
    "            precisions.append(precision_at_k_value)\n",
    "            \n",
    "            if k in k_list:\n",
    "                # print(f\"Precision@{k}: {precision_at_k_value:.4f}\")\n",
    "                precision_scores[k].append(precision_at_k_value)\n",
    "    \n",
    "    return np.mean(precisions) if precisions else 0, precision_scores\n",
    "\n",
    "def mAP(name_detector, k_list):\n",
    "    \"\"\"\n",
    "    Calculate mean Average Precision (mAP) for different k values.\n",
    "    \n",
    "    Parameters:\n",
    "        name_detector (str): The name of the detector.\n",
    "        query_images (list): List of query images.\n",
    "        sim (numpy array): Similarity matrix.\n",
    "        k_list (list of int): List of k values for precision calculation (e.g., [5] or [5, 10]).\n",
    "    \n",
    "    Returns:\n",
    "        dict: A dictionary with k values as keys and lists of precision scores for each query as values.\n",
    "    \"\"\"\n",
    "    print(f\"\\nUsing {name_detector} detector...\")\n",
    "\n",
    "    # Load all retrieved images once\n",
    "    retrieved_images_all = load_retrieved_images(f\"data/results_{name_detector}.txt\")\n",
    "\n",
    "    # Initialize precision scores dictionary for each k value\n",
    "    precision_scores = {k: [] for k in k_list}\n",
    "    map_scores = []\n",
    "\n",
    "    for query_idx in tqdm(range(len(query_images)), desc=f\"Calculating Precisions\"):\n",
    "        img = query_images[query_idx]\n",
    "        relevant_images = np.where(sim[query_idx, :] == 1)[0]  # Get relevant images for this query\n",
    "        retrieved_images = retrieved_images_all[query_idx]  # Get retrieved images for this query\n",
    "\n",
    "        # Calculate mean average precision (mAP) for the query\n",
    "        map_score, precision_scores = mean_average_precision(relevant_images, retrieved_images, k_list, precision_scores)\n",
    "        # print(map_score)\n",
    "\n",
    "        map_scores.append(map_score)\n",
    "\n",
    "        # Optionally calculate precision at k for each k in k_list\n",
    "        # for k in k_list:\n",
    "        #     precision_k = precision_at_k(relevant_images, retrieved_images, k)\n",
    "        #     precision_scores[k].append(precision_k)\n",
    "\n",
    "    with open(f\"data/mapscores_{name_detector}.json\", \"w\") as file:\n",
    "        json.dump(map_scores, file)\n",
    "\n",
    "    # Calculate the mean precision for each k and the mean map score\n",
    "    mean_precision_scores = {k: np.mean(precision_scores[k]) for k in k_list}\n",
    "\n",
    "    for k, mean_precision in mean_precision_scores.items():\n",
    "        print(f\"Precision@{k}: {mean_precision:.4f}\")\n",
    "    mean_map = np.mean(map_scores)\n",
    "    \n",
    "    print(f\"\\n{name_detector} Mean Average Precision (mAP) over all queries: {mean_map:.4f}\")\n",
    "    # print(\"mapscore\", map_scores)\n",
    "    return map_scores"
   ]
  },
  {
   "cell_type": "code",
   "execution_count": 52,
   "metadata": {},
   "outputs": [],
   "source": [
    "def load_map_scores(file_path):\n",
    "    \"\"\"Load map_scores from a file.\"\"\"\n",
    "    with open(file_path, \"r\") as file:\n",
    "        line = file.readline().strip()\n",
    "        # Convert the string representation of the list back to an actual list\n",
    "        map_scores = eval(line)\n",
    "    return map_scores\n",
    "\n",
    "def load_map_scores_json(file_path):\n",
    "    with open(file_path, \"r\") as file:\n",
    "        map_scores = json.load(file)\n",
    "    return map_scores"
   ]
  },
  {
   "cell_type": "markdown",
   "metadata": {},
   "source": [
    "### Keypoint Descriptors"
   ]
  },
  {
   "cell_type": "code",
   "execution_count": 89,
   "metadata": {},
   "outputs": [
    {
     "name": "stdout",
     "output_type": "stream",
     "text": [
      "\n",
      "Using ORB detector...\n"
     ]
    },
    {
     "name": "stderr",
     "output_type": "stream",
     "text": [
      "Extracting ORB descriptors: 100%|██████████| 1000/1000 [02:16<00:00,  7.31it/s]\n"
     ]
    },
    {
     "name": "stdout",
     "output_type": "stream",
     "text": [
      "Time taken to extract descriptors for ORB: 136.8114 seconds\n"
     ]
    },
    {
     "name": "stderr",
     "output_type": "stream",
     "text": [
      "Retrieving images from Query List: 100%|██████████| 500/500 [01:15<00:00,  6.60it/s]\n"
     ]
    },
    {
     "name": "stdout",
     "output_type": "stream",
     "text": [
      "Time taken for retrieval with ORB: 75.7888 seconds\n",
      "\n",
      "Using SIFT detector...\n"
     ]
    },
    {
     "name": "stderr",
     "output_type": "stream",
     "text": [
      "Extracting SIFT descriptors: 100%|██████████| 1000/1000 [05:34<00:00,  2.99it/s]\n"
     ]
    },
    {
     "name": "stdout",
     "output_type": "stream",
     "text": [
      "Time taken to extract descriptors for SIFT: 334.9752 seconds\n"
     ]
    },
    {
     "name": "stderr",
     "output_type": "stream",
     "text": [
      "Retrieving images from Query List: 100%|██████████| 500/500 [03:03<00:00,  2.73it/s]\n"
     ]
    },
    {
     "name": "stdout",
     "output_type": "stream",
     "text": [
      "Time taken for retrieval with SIFT: 183.1241 seconds\n",
      "\n",
      "Using Harris + BRIEF detector...\n"
     ]
    },
    {
     "name": "stderr",
     "output_type": "stream",
     "text": [
      "Extracting Harris + BRIEF descriptors: 100%|██████████| 1000/1000 [00:41<00:00, 23.91it/s]\n"
     ]
    },
    {
     "name": "stdout",
     "output_type": "stream",
     "text": [
      "Time taken to extract descriptors for Harris + BRIEF: 41.8193 seconds\n"
     ]
    },
    {
     "name": "stderr",
     "output_type": "stream",
     "text": [
      "Retrieving images from Query List: 100%|██████████| 500/500 [00:35<00:00, 14.27it/s]\n"
     ]
    },
    {
     "name": "stdout",
     "output_type": "stream",
     "text": [
      "Time taken for retrieval with Harris + BRIEF: 35.0477 seconds\n",
      "\n",
      "Using AKAZE detector...\n"
     ]
    },
    {
     "name": "stderr",
     "output_type": "stream",
     "text": [
      "Extracting AKAZE descriptors: 100%|██████████| 1000/1000 [00:09<00:00, 108.97it/s]\n"
     ]
    },
    {
     "name": "stdout",
     "output_type": "stream",
     "text": [
      "Time taken to extract descriptors for AKAZE: 9.1785 seconds\n"
     ]
    },
    {
     "name": "stderr",
     "output_type": "stream",
     "text": [
      "Retrieving images from Query List: 100%|██████████| 500/500 [00:07<00:00, 67.86it/s]\n"
     ]
    },
    {
     "name": "stdout",
     "output_type": "stream",
     "text": [
      "Time taken for retrieval with AKAZE: 7.3698 seconds\n",
      "\n",
      "Using BRISK detector...\n"
     ]
    },
    {
     "name": "stderr",
     "output_type": "stream",
     "text": [
      "Extracting BRISK descriptors: 100%|██████████| 1000/1000 [00:41<00:00, 23.96it/s]\n"
     ]
    },
    {
     "name": "stdout",
     "output_type": "stream",
     "text": [
      "Time taken to extract descriptors for BRISK: 41.7359 seconds\n"
     ]
    },
    {
     "name": "stderr",
     "output_type": "stream",
     "text": [
      "Retrieving images from Query List: 100%|██████████| 500/500 [00:28<00:00, 17.64it/s]"
     ]
    },
    {
     "name": "stdout",
     "output_type": "stream",
     "text": [
      "Time taken for retrieval with BRISK: 28.3386 seconds\n"
     ]
    },
    {
     "name": "stderr",
     "output_type": "stream",
     "text": [
      "\n"
     ]
    }
   ],
   "source": [
    "detectors=initialize_detectors()\n",
    "\n",
    "# Iterate through each descriptor\n",
    "for name, detector in detectors.items():\n",
    "    print(f\"\\nUsing {name} detector...\")\n",
    "\n",
    "    descriptors_list = []\n",
    "    average_precisions = []\n",
    "\n",
    "    # Start tracking time for the descriptor extraction process\n",
    "    start_time = time.time()\n",
    "\n",
    "    for image in tqdm(database_images, desc=f\"Extracting {name} descriptors\"):\n",
    "        _, descriptors = extract_descriptors(image, detector, name)\n",
    "        if descriptors is not None:\n",
    "            descriptors_list.append(descriptors)\n",
    "\n",
    "    # Track time for descriptor extraction\n",
    "    extraction_time = time.time() - start_time\n",
    "    print(f\"Time taken to extract descriptors for {name}: {extraction_time:.4f} seconds\")\n",
    "\n",
    "    all_retrieved = []\n",
    "\n",
    "    if descriptors_list:\n",
    "        # Perform k-means clustering to find the centroids\n",
    "        all_descriptors = np.vstack(descriptors_list)\n",
    "        kmeans = KMeans(n_clusters=32, random_state=42).fit(all_descriptors)\n",
    "        centroids = kmeans.cluster_centers_\n",
    "        map_bow_vectors = np.array([bag_of_words(centroids, desc) for desc in descriptors_list])\n",
    "\n",
    "        # Start tracking time for image retrieval\n",
    "        retrieval_start_time = time.time()\n",
    "\n",
    "        for query_idx in tqdm(range(len(query_images)), desc=f\"Retrieving images from Query List\"):\n",
    "            img = query_images[query_idx]\n",
    "            _, query_descriptors = extract_descriptors(img, detector, name)\n",
    "\n",
    "            if query_descriptors is not None:\n",
    "                query_bow = bag_of_words(centroids, query_descriptors)\n",
    "                relevant_images = np.where(sim[query_idx, :] == 1)[0]\n",
    "                retrieved_images = retrieve_images(map_bow_vectors, query_bow)\n",
    "                \n",
    "                # Save the retrieved images for later evaluation\n",
    "                with open(f\"temp/results_{name}.txt\", \"a\") as file:\n",
    "                    file.write(f\"{retrieved_images.tolist()}\\n\")\n",
    "        \n",
    "        # Track time for image retrieval\n",
    "        retrieval_time = time.time() - retrieval_start_time\n",
    "        print(f\"Time taken for retrieval with {name}: {retrieval_time:.4f} seconds\")\n",
    "\n",
    "    # You can also calculate and print the average precision here if needed\n",
    "    # print(f\"Mean Average Precision (mAP) over all queries: {np.mean(average_precisions):.4f}\") \n"
   ]
  },
  {
   "cell_type": "code",
   "execution_count": 68,
   "metadata": {},
   "outputs": [
    {
     "name": "stdout",
     "output_type": "stream",
     "text": [
      "\n",
      "Using ORB detector...\n"
     ]
    },
    {
     "name": "stderr",
     "output_type": "stream",
     "text": [
      "Calculating Precisions: 100%|██████████| 500/500 [00:05<00:00, 91.04it/s] \n"
     ]
    },
    {
     "name": "stdout",
     "output_type": "stream",
     "text": [
      "Precision@1: 1.0000\n",
      "Precision@5: 0.2000\n",
      "Precision@10: 0.1200\n",
      "Precision@20: 0.0583\n",
      "\n",
      "ORB Mean Average Precision (mAP) over all queries: 0.0170\n",
      "\n",
      "Using SIFT detector...\n"
     ]
    },
    {
     "name": "stderr",
     "output_type": "stream",
     "text": [
      "Calculating Precisions: 100%|██████████| 500/500 [00:04<00:00, 102.77it/s]\n"
     ]
    },
    {
     "name": "stdout",
     "output_type": "stream",
     "text": [
      "Precision@1: 1.0000\n",
      "Precision@5: 0.2800\n",
      "Precision@10: 0.1750\n",
      "Precision@20: 0.0889\n",
      "\n",
      "SIFT Mean Average Precision (mAP) over all queries: 0.0485\n",
      "\n",
      "Using Harris + BRIEF detector...\n"
     ]
    },
    {
     "name": "stderr",
     "output_type": "stream",
     "text": [
      "Calculating Precisions: 100%|██████████| 500/500 [00:04<00:00, 111.80it/s]\n"
     ]
    },
    {
     "name": "stdout",
     "output_type": "stream",
     "text": [
      "Precision@1: 1.0000\n",
      "Precision@5: 0.2769\n",
      "Precision@10: 0.1667\n",
      "Precision@20: 0.0909\n",
      "\n",
      "Harris + BRIEF Mean Average Precision (mAP) over all queries: 0.0407\n",
      "\n",
      "Using AKAZE detector...\n"
     ]
    },
    {
     "name": "stderr",
     "output_type": "stream",
     "text": [
      "Calculating Precisions: 100%|██████████| 500/500 [00:05<00:00, 92.41it/s] \n"
     ]
    },
    {
     "name": "stdout",
     "output_type": "stream",
     "text": [
      "Precision@1: 1.0000\n",
      "Precision@5: 0.2000\n",
      "Precision@10: 0.1200\n",
      "Precision@20: 0.0938\n",
      "\n",
      "AKAZE Mean Average Precision (mAP) over all queries: 0.0285\n",
      "\n",
      "Using BRISK detector...\n"
     ]
    },
    {
     "name": "stderr",
     "output_type": "stream",
     "text": [
      "Calculating Precisions: 100%|██████████| 500/500 [00:05<00:00, 90.54it/s] "
     ]
    },
    {
     "name": "stdout",
     "output_type": "stream",
     "text": [
      "Precision@1: 1.0000\n",
      "Precision@5: 0.2571\n",
      "Precision@10: 0.1857\n",
      "Precision@20: 0.1000\n",
      "\n",
      "BRISK Mean Average Precision (mAP) over all queries: 0.0308\n"
     ]
    },
    {
     "name": "stderr",
     "output_type": "stream",
     "text": [
      "\n"
     ]
    }
   ],
   "source": [
    "for name, detector in detectors.items():\n",
    "    scores = mAP(name, [1,5,10,20])"
   ]
  },
  {
   "cell_type": "markdown",
   "metadata": {},
   "source": [
    "### Holistic Descriptors"
   ]
  },
  {
   "cell_type": "code",
   "execution_count": 99,
   "metadata": {},
   "outputs": [],
   "source": [
    "def initialize_cnn_model(model_name=\"resnet50\"):\n",
    "    if model_name == \"ResNet50\":\n",
    "        model = models.resnet50(pretrained=True)\n",
    "    elif model_name == \"VGG16\":\n",
    "        model = models.vgg16(pretrained=True)\n",
    "    elif model_name == \"MobileNet_V2\":\n",
    "        model = models.mobilenet_v2(pretrained=True)\n",
    "    elif model_name == \"EfficientNet_B0\":\n",
    "        model = models.efficientnet_b0(pretrained=True)\n",
    "    else:\n",
    "        raise ValueError(\"Model name not recognized. Choose 'resnet50', 'vgg16', 'mobilenet_v2', or 'efficientnet_b0'.\")\n",
    "\n",
    "    # Remove the classification layer\n",
    "    model = nn.Sequential(*list(model.children())[:-1])\n",
    "    model.eval()\n",
    "    return model\n",
    "\n",
    "# Function to extract descriptors using a CNN model\n",
    "def extract_cnn_descriptors(image, model, transform):\n",
    "    image = cv2.cvtColor(image, cv2.COLOR_GRAY2RGB)\n",
    "    image = cv2.resize(image, (224, 224))\n",
    "    image_tensor = transform(image).unsqueeze(0)  # Add batch dimension\n",
    "    with torch.no_grad():\n",
    "        features = model(image_tensor).flatten()\n",
    "    return features.cpu().numpy()\n",
    "\n",
    "# Retrieval and evaluation functions\n",
    "def retrieve_images(map_vectors, query_vector):\n",
    "    similarities = np.dot(map_vectors, query_vector)\n",
    "    return np.argsort(-similarities)  # Descending order by similarity\n",
    "\n",
    "# Run experiment\n",
    "def run_cnn_experiment(database_images, query_images, model_name, sim):\n",
    "\n",
    "    # Start tracking time for the descriptor extraction process\n",
    "    start_time = time.time()\n",
    "\n",
    "    # Initialize CNN model and transforms\n",
    "    cnn_model = initialize_cnn_model(model_name=model_name)\n",
    "    transform = transforms.Compose([\n",
    "        transforms.ToPILImage(),\n",
    "        transforms.Resize((224, 224)),\n",
    "        transforms.ToTensor(),\n",
    "        transforms.Normalize(mean=[0.485, 0.456, 0.406], std=[0.229, 0.224, 0.225])\n",
    "    ])\n",
    "\n",
    "    # Extract CNN descriptors for database images\n",
    "    cnn_features_list = []\n",
    "    for image in tqdm(database_images, desc=\"Extracting CNN descriptors\"):\n",
    "        features = extract_cnn_descriptors(image, cnn_model, transform)\n",
    "        cnn_features_list.append(features)\n",
    "\n",
    "    # Track time for descriptor extraction\n",
    "    extraction_time = time.time() - start_time\n",
    "    print(f\"Time taken to extract descriptors for {model_name}: {extraction_time:.4f} seconds\")\n",
    "\n",
    "    map_vectors = np.vstack(cnn_features_list)  # Combine features into a matrix\n",
    "    average_precisions = []\n",
    "\n",
    "    # File to store retrieved images for each query\n",
    "    results_file_path = f\"temp/results_{model_name}.txt\"\n",
    "    with open(results_file_path, \"w\") as file:\n",
    "        # Start tracking time for image retrieval\n",
    "        retrieval_start_time = time.time()\n",
    "\n",
    "        for query_idx in tqdm(range(len(query_images)), desc=f\"Retrieving images from Query List\"):\n",
    "            img = query_images[query_idx]\n",
    "            query_features = extract_cnn_descriptors(img, cnn_model, transform)\n",
    "            retrieved_images = retrieve_images(map_vectors, query_features)\n",
    "            # relevant_images = np.where(sim[query_idx, :] == 1)[0]\n",
    "\n",
    "            # Save retrieved images to file\n",
    "            file.write(f\"{retrieved_images.tolist()}\\n\")\n",
    "        \n",
    "        # Track time for image retrieval\n",
    "        retrieval_time = time.time() - retrieval_start_time\n",
    "        print(f\"Time taken for retrieval with {model_name}: {retrieval_time:.4f} seconds\")\n"
   ]
  },
  {
   "cell_type": "markdown",
   "metadata": {},
   "source": [
    "#### ResNet50"
   ]
  },
  {
   "cell_type": "code",
   "execution_count": 97,
   "metadata": {},
   "outputs": [
    {
     "name": "stderr",
     "output_type": "stream",
     "text": [
      "Extracting CNN descriptors: 100%|██████████| 1000/1000 [00:49<00:00, 20.26it/s]\n"
     ]
    },
    {
     "name": "stdout",
     "output_type": "stream",
     "text": [
      "Time taken to extract descriptors for ResNet50: 49.9926 seconds\n"
     ]
    },
    {
     "name": "stderr",
     "output_type": "stream",
     "text": [
      "Retrieving images from Query List: 100%|██████████| 500/500 [00:24<00:00, 20.51it/s]"
     ]
    },
    {
     "name": "stdout",
     "output_type": "stream",
     "text": [
      "Time taken for retrieval with ResNet50: 24.3794 seconds\n"
     ]
    },
    {
     "name": "stderr",
     "output_type": "stream",
     "text": [
      "\n"
     ]
    }
   ],
   "source": [
    "run_cnn_experiment(database_images, query_images, model_name=\"ResNet50\", sim=sim)"
   ]
  },
  {
   "cell_type": "code",
   "execution_count": 61,
   "metadata": {},
   "outputs": [
    {
     "name": "stdout",
     "output_type": "stream",
     "text": [
      "\n",
      "Using ResNet50 detector...\n"
     ]
    },
    {
     "name": "stderr",
     "output_type": "stream",
     "text": [
      "Calculating Precisions: 100%|██████████| 500/500 [00:04<00:00, 107.09it/s]"
     ]
    },
    {
     "name": "stdout",
     "output_type": "stream",
     "text": [
      "Precision@1: 1.0000\n",
      "Precision@5: 0.4167\n",
      "Precision@10: 0.1500\n",
      "Precision@20: 0.0875\n",
      "\n",
      "ResNet50 Mean Average Precision (mAP) over all queries: 0.0402\n"
     ]
    },
    {
     "name": "stderr",
     "output_type": "stream",
     "text": [
      "\n"
     ]
    }
   ],
   "source": [
    "map_scores_resnet = mAP(\"ResNet50\", [1,5,10,20])"
   ]
  },
  {
   "cell_type": "markdown",
   "metadata": {},
   "source": [
    "#### MobileNet"
   ]
  },
  {
   "cell_type": "code",
   "execution_count": 98,
   "metadata": {},
   "outputs": [
    {
     "name": "stderr",
     "output_type": "stream",
     "text": [
      "Extracting CNN descriptors: 100%|██████████| 1000/1000 [00:50<00:00, 19.71it/s]\n"
     ]
    },
    {
     "name": "stdout",
     "output_type": "stream",
     "text": [
      "Time taken to extract descriptors for MobileNet_V2: 50.8576 seconds\n"
     ]
    },
    {
     "name": "stderr",
     "output_type": "stream",
     "text": [
      "Retrieving images from Query List: 100%|██████████| 500/500 [00:27<00:00, 18.13it/s]"
     ]
    },
    {
     "name": "stdout",
     "output_type": "stream",
     "text": [
      "Time taken for retrieval with MobileNet_V2: 27.5862 seconds\n"
     ]
    },
    {
     "name": "stderr",
     "output_type": "stream",
     "text": [
      "\n"
     ]
    }
   ],
   "source": [
    "run_cnn_experiment(database_images, query_images, model_name=\"MobileNet_V2\", sim=sim)"
   ]
  },
  {
   "cell_type": "code",
   "execution_count": 62,
   "metadata": {},
   "outputs": [
    {
     "name": "stdout",
     "output_type": "stream",
     "text": [
      "\n",
      "Using MobileNet_V2 detector...\n"
     ]
    },
    {
     "name": "stderr",
     "output_type": "stream",
     "text": [
      "Calculating Precisions: 100%|██████████| 500/500 [00:03<00:00, 127.14it/s]"
     ]
    },
    {
     "name": "stdout",
     "output_type": "stream",
     "text": [
      "Precision@1: 1.0000\n",
      "Precision@5: 0.4000\n",
      "Precision@10: 0.2083\n",
      "Precision@20: 0.1429\n",
      "\n",
      "MobileNet_V2 Mean Average Precision (mAP) over all queries: 0.0875\n"
     ]
    },
    {
     "name": "stderr",
     "output_type": "stream",
     "text": [
      "\n"
     ]
    }
   ],
   "source": [
    "map_scores_mobilenet = mAP(\"MobileNet_V2\", [1,5,10,20])"
   ]
  },
  {
   "cell_type": "markdown",
   "metadata": {},
   "source": [
    "#### EfficientNet"
   ]
  },
  {
   "cell_type": "code",
   "execution_count": 101,
   "metadata": {},
   "outputs": [
    {
     "name": "stderr",
     "output_type": "stream",
     "text": [
      "Extracting CNN descriptors: 100%|██████████| 1000/1000 [03:26<00:00,  4.84it/s]\n"
     ]
    },
    {
     "name": "stdout",
     "output_type": "stream",
     "text": [
      "Time taken to extract descriptors for EfficientNet_B0: 206.9107 seconds\n"
     ]
    },
    {
     "name": "stderr",
     "output_type": "stream",
     "text": [
      "Retrieving images from Query List: 100%|██████████| 500/500 [01:44<00:00,  4.78it/s]"
     ]
    },
    {
     "name": "stdout",
     "output_type": "stream",
     "text": [
      "Time taken for retrieval with EfficientNet_B0: 104.6878 seconds\n"
     ]
    },
    {
     "name": "stderr",
     "output_type": "stream",
     "text": [
      "\n"
     ]
    }
   ],
   "source": [
    "run_cnn_experiment(database_images, query_images, model_name=\"EfficientNet_B0\", sim=sim)"
   ]
  },
  {
   "cell_type": "code",
   "execution_count": 63,
   "metadata": {},
   "outputs": [
    {
     "name": "stdout",
     "output_type": "stream",
     "text": [
      "\n",
      "Using EfficientNet_B0 detector...\n"
     ]
    },
    {
     "name": "stderr",
     "output_type": "stream",
     "text": [
      "Calculating Precisions: 100%|██████████| 500/500 [00:03<00:00, 140.94it/s]"
     ]
    },
    {
     "name": "stdout",
     "output_type": "stream",
     "text": [
      "Precision@1: 1.0000\n",
      "Precision@5: 0.3130\n",
      "Precision@10: 0.2000\n",
      "Precision@20: 0.1222\n",
      "\n",
      "EfficientNet_B0 Mean Average Precision (mAP) over all queries: 0.0959\n"
     ]
    },
    {
     "name": "stderr",
     "output_type": "stream",
     "text": [
      "\n"
     ]
    }
   ],
   "source": [
    "map_scores_efficientnet = mAP(\"EfficientNet_B0\", [1,5,10,20])"
   ]
  },
  {
   "cell_type": "markdown",
   "metadata": {},
   "source": [
    "#### VGG16"
   ]
  },
  {
   "cell_type": "code",
   "execution_count": 102,
   "metadata": {},
   "outputs": [
    {
     "name": "stderr",
     "output_type": "stream",
     "text": [
      "/opt/homebrew/Caskroom/miniforge/base/envs/fir/lib/python3.12/site-packages/torchvision/models/_utils.py:223: UserWarning:\n",
      "\n",
      "Arguments other than a weight enum or `None` for 'weights' are deprecated since 0.13 and may be removed in the future. The current behavior is equivalent to passing `weights=VGG16_Weights.IMAGENET1K_V1`. You can also use `weights=VGG16_Weights.DEFAULT` to get the most up-to-date weights.\n",
      "\n",
      "Extracting CNN descriptors: 100%|██████████| 1000/1000 [01:51<00:00,  9.00it/s]\n"
     ]
    },
    {
     "name": "stdout",
     "output_type": "stream",
     "text": [
      "Time taken to extract descriptors for VGG16: 112.6931 seconds\n"
     ]
    },
    {
     "name": "stderr",
     "output_type": "stream",
     "text": [
      "Retrieving images from Query List: 100%|██████████| 500/500 [00:54<00:00,  9.26it/s]"
     ]
    },
    {
     "name": "stdout",
     "output_type": "stream",
     "text": [
      "Time taken for retrieval with VGG16: 54.0054 seconds\n"
     ]
    },
    {
     "name": "stderr",
     "output_type": "stream",
     "text": [
      "\n"
     ]
    }
   ],
   "source": [
    "run_cnn_experiment(database_images, query_images, model_name=\"VGG16\", sim=sim)"
   ]
  },
  {
   "cell_type": "code",
   "execution_count": 64,
   "metadata": {},
   "outputs": [
    {
     "name": "stdout",
     "output_type": "stream",
     "text": [
      "\n",
      "Using VGG16 detector...\n"
     ]
    },
    {
     "name": "stderr",
     "output_type": "stream",
     "text": [
      "Calculating Precisions: 100%|██████████| 500/500 [00:03<00:00, 134.83it/s]"
     ]
    },
    {
     "name": "stdout",
     "output_type": "stream",
     "text": [
      "Precision@1: 1.0000\n",
      "Precision@5: 0.5520\n",
      "Precision@10: 0.3714\n",
      "Precision@20: 0.1571\n",
      "\n",
      "VGG16 Mean Average Precision (mAP) over all queries: 0.0938\n"
     ]
    },
    {
     "name": "stderr",
     "output_type": "stream",
     "text": [
      "\n"
     ]
    }
   ],
   "source": [
    "map_scores_vgg = mAP(\"VGG16\", [1,5,10,20])"
   ]
  },
  {
   "cell_type": "markdown",
   "metadata": {},
   "source": [
    "## Visualisation"
   ]
  },
  {
   "cell_type": "code",
   "execution_count": 91,
   "metadata": {},
   "outputs": [
    {
     "data": {
      "application/vnd.plotly.v1+json": {
       "config": {
        "plotlyServerURL": "https://plot.ly"
       },
       "data": [
        {
         "alignmentgroup": "True",
         "hovertemplate": "Metric=Precision@5<br>Type=Classical<br>Descriptor=%{x}<br>Score=%{text}<extra></extra>",
         "legendgroup": "Precision@5",
         "marker": {
          "color": "#636efa",
          "pattern": {
           "shape": ""
          }
         },
         "name": "Precision@5",
         "offsetgroup": "Precision@5",
         "orientation": "v",
         "showlegend": true,
         "text": [
          0.2,
          0.28,
          0.2769,
          0.2,
          0.2571
         ],
         "textposition": "auto",
         "type": "bar",
         "x": [
          "ORB",
          "SIFT",
          "Harris+BRIEF",
          "AKAZE",
          "BRISK"
         ],
         "xaxis": "x",
         "y": [
          0.2,
          0.28,
          0.2769,
          0.2,
          0.2571
         ],
         "yaxis": "y"
        },
        {
         "alignmentgroup": "True",
         "hovertemplate": "Metric=Precision@5<br>Type=Holistic<br>Descriptor=%{x}<br>Score=%{text}<extra></extra>",
         "legendgroup": "Precision@5",
         "marker": {
          "color": "#636efa",
          "pattern": {
           "shape": ""
          }
         },
         "name": "Precision@5",
         "offsetgroup": "Precision@5",
         "orientation": "v",
         "showlegend": false,
         "text": [
          0.4167,
          0.552,
          0.4,
          0.313
         ],
         "textposition": "auto",
         "type": "bar",
         "x": [
          "ResNet50",
          "VGG16",
          "MobileNetV2",
          "EfficientNetB0"
         ],
         "xaxis": "x2",
         "y": [
          0.4167,
          0.552,
          0.4,
          0.313
         ],
         "yaxis": "y2"
        },
        {
         "alignmentgroup": "True",
         "hovertemplate": "Metric=Precision@10<br>Type=Classical<br>Descriptor=%{x}<br>Score=%{text}<extra></extra>",
         "legendgroup": "Precision@10",
         "marker": {
          "color": "#EF553B",
          "pattern": {
           "shape": ""
          }
         },
         "name": "Precision@10",
         "offsetgroup": "Precision@10",
         "orientation": "v",
         "showlegend": true,
         "text": [
          0.12,
          0.175,
          0.1667,
          0.12,
          0.1857
         ],
         "textposition": "auto",
         "type": "bar",
         "x": [
          "ORB",
          "SIFT",
          "Harris+BRIEF",
          "AKAZE",
          "BRISK"
         ],
         "xaxis": "x",
         "y": [
          0.12,
          0.175,
          0.1667,
          0.12,
          0.1857
         ],
         "yaxis": "y"
        },
        {
         "alignmentgroup": "True",
         "hovertemplate": "Metric=Precision@10<br>Type=Holistic<br>Descriptor=%{x}<br>Score=%{text}<extra></extra>",
         "legendgroup": "Precision@10",
         "marker": {
          "color": "#EF553B",
          "pattern": {
           "shape": ""
          }
         },
         "name": "Precision@10",
         "offsetgroup": "Precision@10",
         "orientation": "v",
         "showlegend": false,
         "text": [
          0.15,
          0.3714,
          0.2083,
          0.2
         ],
         "textposition": "auto",
         "type": "bar",
         "x": [
          "ResNet50",
          "VGG16",
          "MobileNetV2",
          "EfficientNetB0"
         ],
         "xaxis": "x2",
         "y": [
          0.15,
          0.3714,
          0.2083,
          0.2
         ],
         "yaxis": "y2"
        },
        {
         "alignmentgroup": "True",
         "hovertemplate": "Metric=Precision@20<br>Type=Classical<br>Descriptor=%{x}<br>Score=%{text}<extra></extra>",
         "legendgroup": "Precision@20",
         "marker": {
          "color": "#00cc96",
          "pattern": {
           "shape": ""
          }
         },
         "name": "Precision@20",
         "offsetgroup": "Precision@20",
         "orientation": "v",
         "showlegend": true,
         "text": [
          0.0583,
          0.0889,
          0.0909,
          0.0938,
          0.1
         ],
         "textposition": "auto",
         "type": "bar",
         "x": [
          "ORB",
          "SIFT",
          "Harris+BRIEF",
          "AKAZE",
          "BRISK"
         ],
         "xaxis": "x",
         "y": [
          0.0583,
          0.0889,
          0.0909,
          0.0938,
          0.1
         ],
         "yaxis": "y"
        },
        {
         "alignmentgroup": "True",
         "hovertemplate": "Metric=Precision@20<br>Type=Holistic<br>Descriptor=%{x}<br>Score=%{text}<extra></extra>",
         "legendgroup": "Precision@20",
         "marker": {
          "color": "#00cc96",
          "pattern": {
           "shape": ""
          }
         },
         "name": "Precision@20",
         "offsetgroup": "Precision@20",
         "orientation": "v",
         "showlegend": false,
         "text": [
          0.0875,
          0.1571,
          0.1429,
          0.1222
         ],
         "textposition": "auto",
         "type": "bar",
         "x": [
          "ResNet50",
          "VGG16",
          "MobileNetV2",
          "EfficientNetB0"
         ],
         "xaxis": "x2",
         "y": [
          0.0875,
          0.1571,
          0.1429,
          0.1222
         ],
         "yaxis": "y2"
        },
        {
         "alignmentgroup": "True",
         "hovertemplate": "Metric=mAP<br>Type=Classical<br>Descriptor=%{x}<br>Score=%{text}<extra></extra>",
         "legendgroup": "mAP",
         "marker": {
          "color": "#ab63fa",
          "pattern": {
           "shape": ""
          }
         },
         "name": "mAP",
         "offsetgroup": "mAP",
         "orientation": "v",
         "showlegend": true,
         "text": [
          0.017,
          0.0485,
          0.0407,
          0.0285,
          0.0308
         ],
         "textposition": "auto",
         "type": "bar",
         "x": [
          "ORB",
          "SIFT",
          "Harris+BRIEF",
          "AKAZE",
          "BRISK"
         ],
         "xaxis": "x",
         "y": [
          0.017,
          0.0485,
          0.0407,
          0.0285,
          0.0308
         ],
         "yaxis": "y"
        },
        {
         "alignmentgroup": "True",
         "hovertemplate": "Metric=mAP<br>Type=Holistic<br>Descriptor=%{x}<br>Score=%{text}<extra></extra>",
         "legendgroup": "mAP",
         "marker": {
          "color": "#ab63fa",
          "pattern": {
           "shape": ""
          }
         },
         "name": "mAP",
         "offsetgroup": "mAP",
         "orientation": "v",
         "showlegend": false,
         "text": [
          0.0402,
          0.0938,
          0.0875,
          0.0959
         ],
         "textposition": "auto",
         "type": "bar",
         "x": [
          "ResNet50",
          "VGG16",
          "MobileNetV2",
          "EfficientNetB0"
         ],
         "xaxis": "x2",
         "y": [
          0.0402,
          0.0938,
          0.0875,
          0.0959
         ],
         "yaxis": "y2"
        }
       ],
       "layout": {
        "annotations": [
         {
          "font": {},
          "showarrow": false,
          "text": "Type=Classical",
          "x": 0.245,
          "xanchor": "center",
          "xref": "paper",
          "y": 1,
          "yanchor": "bottom",
          "yref": "paper"
         },
         {
          "font": {},
          "showarrow": false,
          "text": "Type=Holistic",
          "x": 0.755,
          "xanchor": "center",
          "xref": "paper",
          "y": 1,
          "yanchor": "bottom",
          "yref": "paper"
         }
        ],
        "barmode": "group",
        "legend": {
         "title": {
          "text": "Metric"
         },
         "tracegroupgap": 0
        },
        "template": {
         "data": {
          "bar": [
           {
            "error_x": {
             "color": "#2a3f5f"
            },
            "error_y": {
             "color": "#2a3f5f"
            },
            "marker": {
             "line": {
              "color": "white",
              "width": 0.5
             },
             "pattern": {
              "fillmode": "overlay",
              "size": 10,
              "solidity": 0.2
             }
            },
            "type": "bar"
           }
          ],
          "barpolar": [
           {
            "marker": {
             "line": {
              "color": "white",
              "width": 0.5
             },
             "pattern": {
              "fillmode": "overlay",
              "size": 10,
              "solidity": 0.2
             }
            },
            "type": "barpolar"
           }
          ],
          "carpet": [
           {
            "aaxis": {
             "endlinecolor": "#2a3f5f",
             "gridcolor": "#C8D4E3",
             "linecolor": "#C8D4E3",
             "minorgridcolor": "#C8D4E3",
             "startlinecolor": "#2a3f5f"
            },
            "baxis": {
             "endlinecolor": "#2a3f5f",
             "gridcolor": "#C8D4E3",
             "linecolor": "#C8D4E3",
             "minorgridcolor": "#C8D4E3",
             "startlinecolor": "#2a3f5f"
            },
            "type": "carpet"
           }
          ],
          "choropleth": [
           {
            "colorbar": {
             "outlinewidth": 0,
             "ticks": ""
            },
            "type": "choropleth"
           }
          ],
          "contour": [
           {
            "colorbar": {
             "outlinewidth": 0,
             "ticks": ""
            },
            "colorscale": [
             [
              0,
              "#0d0887"
             ],
             [
              0.1111111111111111,
              "#46039f"
             ],
             [
              0.2222222222222222,
              "#7201a8"
             ],
             [
              0.3333333333333333,
              "#9c179e"
             ],
             [
              0.4444444444444444,
              "#bd3786"
             ],
             [
              0.5555555555555556,
              "#d8576b"
             ],
             [
              0.6666666666666666,
              "#ed7953"
             ],
             [
              0.7777777777777778,
              "#fb9f3a"
             ],
             [
              0.8888888888888888,
              "#fdca26"
             ],
             [
              1,
              "#f0f921"
             ]
            ],
            "type": "contour"
           }
          ],
          "contourcarpet": [
           {
            "colorbar": {
             "outlinewidth": 0,
             "ticks": ""
            },
            "type": "contourcarpet"
           }
          ],
          "heatmap": [
           {
            "colorbar": {
             "outlinewidth": 0,
             "ticks": ""
            },
            "colorscale": [
             [
              0,
              "#0d0887"
             ],
             [
              0.1111111111111111,
              "#46039f"
             ],
             [
              0.2222222222222222,
              "#7201a8"
             ],
             [
              0.3333333333333333,
              "#9c179e"
             ],
             [
              0.4444444444444444,
              "#bd3786"
             ],
             [
              0.5555555555555556,
              "#d8576b"
             ],
             [
              0.6666666666666666,
              "#ed7953"
             ],
             [
              0.7777777777777778,
              "#fb9f3a"
             ],
             [
              0.8888888888888888,
              "#fdca26"
             ],
             [
              1,
              "#f0f921"
             ]
            ],
            "type": "heatmap"
           }
          ],
          "heatmapgl": [
           {
            "colorbar": {
             "outlinewidth": 0,
             "ticks": ""
            },
            "colorscale": [
             [
              0,
              "#0d0887"
             ],
             [
              0.1111111111111111,
              "#46039f"
             ],
             [
              0.2222222222222222,
              "#7201a8"
             ],
             [
              0.3333333333333333,
              "#9c179e"
             ],
             [
              0.4444444444444444,
              "#bd3786"
             ],
             [
              0.5555555555555556,
              "#d8576b"
             ],
             [
              0.6666666666666666,
              "#ed7953"
             ],
             [
              0.7777777777777778,
              "#fb9f3a"
             ],
             [
              0.8888888888888888,
              "#fdca26"
             ],
             [
              1,
              "#f0f921"
             ]
            ],
            "type": "heatmapgl"
           }
          ],
          "histogram": [
           {
            "marker": {
             "pattern": {
              "fillmode": "overlay",
              "size": 10,
              "solidity": 0.2
             }
            },
            "type": "histogram"
           }
          ],
          "histogram2d": [
           {
            "colorbar": {
             "outlinewidth": 0,
             "ticks": ""
            },
            "colorscale": [
             [
              0,
              "#0d0887"
             ],
             [
              0.1111111111111111,
              "#46039f"
             ],
             [
              0.2222222222222222,
              "#7201a8"
             ],
             [
              0.3333333333333333,
              "#9c179e"
             ],
             [
              0.4444444444444444,
              "#bd3786"
             ],
             [
              0.5555555555555556,
              "#d8576b"
             ],
             [
              0.6666666666666666,
              "#ed7953"
             ],
             [
              0.7777777777777778,
              "#fb9f3a"
             ],
             [
              0.8888888888888888,
              "#fdca26"
             ],
             [
              1,
              "#f0f921"
             ]
            ],
            "type": "histogram2d"
           }
          ],
          "histogram2dcontour": [
           {
            "colorbar": {
             "outlinewidth": 0,
             "ticks": ""
            },
            "colorscale": [
             [
              0,
              "#0d0887"
             ],
             [
              0.1111111111111111,
              "#46039f"
             ],
             [
              0.2222222222222222,
              "#7201a8"
             ],
             [
              0.3333333333333333,
              "#9c179e"
             ],
             [
              0.4444444444444444,
              "#bd3786"
             ],
             [
              0.5555555555555556,
              "#d8576b"
             ],
             [
              0.6666666666666666,
              "#ed7953"
             ],
             [
              0.7777777777777778,
              "#fb9f3a"
             ],
             [
              0.8888888888888888,
              "#fdca26"
             ],
             [
              1,
              "#f0f921"
             ]
            ],
            "type": "histogram2dcontour"
           }
          ],
          "mesh3d": [
           {
            "colorbar": {
             "outlinewidth": 0,
             "ticks": ""
            },
            "type": "mesh3d"
           }
          ],
          "parcoords": [
           {
            "line": {
             "colorbar": {
              "outlinewidth": 0,
              "ticks": ""
             }
            },
            "type": "parcoords"
           }
          ],
          "pie": [
           {
            "automargin": true,
            "type": "pie"
           }
          ],
          "scatter": [
           {
            "fillpattern": {
             "fillmode": "overlay",
             "size": 10,
             "solidity": 0.2
            },
            "type": "scatter"
           }
          ],
          "scatter3d": [
           {
            "line": {
             "colorbar": {
              "outlinewidth": 0,
              "ticks": ""
             }
            },
            "marker": {
             "colorbar": {
              "outlinewidth": 0,
              "ticks": ""
             }
            },
            "type": "scatter3d"
           }
          ],
          "scattercarpet": [
           {
            "marker": {
             "colorbar": {
              "outlinewidth": 0,
              "ticks": ""
             }
            },
            "type": "scattercarpet"
           }
          ],
          "scattergeo": [
           {
            "marker": {
             "colorbar": {
              "outlinewidth": 0,
              "ticks": ""
             }
            },
            "type": "scattergeo"
           }
          ],
          "scattergl": [
           {
            "marker": {
             "colorbar": {
              "outlinewidth": 0,
              "ticks": ""
             }
            },
            "type": "scattergl"
           }
          ],
          "scattermapbox": [
           {
            "marker": {
             "colorbar": {
              "outlinewidth": 0,
              "ticks": ""
             }
            },
            "type": "scattermapbox"
           }
          ],
          "scatterpolar": [
           {
            "marker": {
             "colorbar": {
              "outlinewidth": 0,
              "ticks": ""
             }
            },
            "type": "scatterpolar"
           }
          ],
          "scatterpolargl": [
           {
            "marker": {
             "colorbar": {
              "outlinewidth": 0,
              "ticks": ""
             }
            },
            "type": "scatterpolargl"
           }
          ],
          "scatterternary": [
           {
            "marker": {
             "colorbar": {
              "outlinewidth": 0,
              "ticks": ""
             }
            },
            "type": "scatterternary"
           }
          ],
          "surface": [
           {
            "colorbar": {
             "outlinewidth": 0,
             "ticks": ""
            },
            "colorscale": [
             [
              0,
              "#0d0887"
             ],
             [
              0.1111111111111111,
              "#46039f"
             ],
             [
              0.2222222222222222,
              "#7201a8"
             ],
             [
              0.3333333333333333,
              "#9c179e"
             ],
             [
              0.4444444444444444,
              "#bd3786"
             ],
             [
              0.5555555555555556,
              "#d8576b"
             ],
             [
              0.6666666666666666,
              "#ed7953"
             ],
             [
              0.7777777777777778,
              "#fb9f3a"
             ],
             [
              0.8888888888888888,
              "#fdca26"
             ],
             [
              1,
              "#f0f921"
             ]
            ],
            "type": "surface"
           }
          ],
          "table": [
           {
            "cells": {
             "fill": {
              "color": "#EBF0F8"
             },
             "line": {
              "color": "white"
             }
            },
            "header": {
             "fill": {
              "color": "#C8D4E3"
             },
             "line": {
              "color": "white"
             }
            },
            "type": "table"
           }
          ]
         },
         "layout": {
          "annotationdefaults": {
           "arrowcolor": "#2a3f5f",
           "arrowhead": 0,
           "arrowwidth": 1
          },
          "autotypenumbers": "strict",
          "coloraxis": {
           "colorbar": {
            "outlinewidth": 0,
            "ticks": ""
           }
          },
          "colorscale": {
           "diverging": [
            [
             0,
             "#8e0152"
            ],
            [
             0.1,
             "#c51b7d"
            ],
            [
             0.2,
             "#de77ae"
            ],
            [
             0.3,
             "#f1b6da"
            ],
            [
             0.4,
             "#fde0ef"
            ],
            [
             0.5,
             "#f7f7f7"
            ],
            [
             0.6,
             "#e6f5d0"
            ],
            [
             0.7,
             "#b8e186"
            ],
            [
             0.8,
             "#7fbc41"
            ],
            [
             0.9,
             "#4d9221"
            ],
            [
             1,
             "#276419"
            ]
           ],
           "sequential": [
            [
             0,
             "#0d0887"
            ],
            [
             0.1111111111111111,
             "#46039f"
            ],
            [
             0.2222222222222222,
             "#7201a8"
            ],
            [
             0.3333333333333333,
             "#9c179e"
            ],
            [
             0.4444444444444444,
             "#bd3786"
            ],
            [
             0.5555555555555556,
             "#d8576b"
            ],
            [
             0.6666666666666666,
             "#ed7953"
            ],
            [
             0.7777777777777778,
             "#fb9f3a"
            ],
            [
             0.8888888888888888,
             "#fdca26"
            ],
            [
             1,
             "#f0f921"
            ]
           ],
           "sequentialminus": [
            [
             0,
             "#0d0887"
            ],
            [
             0.1111111111111111,
             "#46039f"
            ],
            [
             0.2222222222222222,
             "#7201a8"
            ],
            [
             0.3333333333333333,
             "#9c179e"
            ],
            [
             0.4444444444444444,
             "#bd3786"
            ],
            [
             0.5555555555555556,
             "#d8576b"
            ],
            [
             0.6666666666666666,
             "#ed7953"
            ],
            [
             0.7777777777777778,
             "#fb9f3a"
            ],
            [
             0.8888888888888888,
             "#fdca26"
            ],
            [
             1,
             "#f0f921"
            ]
           ]
          },
          "colorway": [
           "#636efa",
           "#EF553B",
           "#00cc96",
           "#ab63fa",
           "#FFA15A",
           "#19d3f3",
           "#FF6692",
           "#B6E880",
           "#FF97FF",
           "#FECB52"
          ],
          "font": {
           "color": "#2a3f5f"
          },
          "geo": {
           "bgcolor": "white",
           "lakecolor": "white",
           "landcolor": "white",
           "showlakes": true,
           "showland": true,
           "subunitcolor": "#C8D4E3"
          },
          "hoverlabel": {
           "align": "left"
          },
          "hovermode": "closest",
          "mapbox": {
           "style": "light"
          },
          "paper_bgcolor": "white",
          "plot_bgcolor": "white",
          "polar": {
           "angularaxis": {
            "gridcolor": "#EBF0F8",
            "linecolor": "#EBF0F8",
            "ticks": ""
           },
           "bgcolor": "white",
           "radialaxis": {
            "gridcolor": "#EBF0F8",
            "linecolor": "#EBF0F8",
            "ticks": ""
           }
          },
          "scene": {
           "xaxis": {
            "backgroundcolor": "white",
            "gridcolor": "#DFE8F3",
            "gridwidth": 2,
            "linecolor": "#EBF0F8",
            "showbackground": true,
            "ticks": "",
            "zerolinecolor": "#EBF0F8"
           },
           "yaxis": {
            "backgroundcolor": "white",
            "gridcolor": "#DFE8F3",
            "gridwidth": 2,
            "linecolor": "#EBF0F8",
            "showbackground": true,
            "ticks": "",
            "zerolinecolor": "#EBF0F8"
           },
           "zaxis": {
            "backgroundcolor": "white",
            "gridcolor": "#DFE8F3",
            "gridwidth": 2,
            "linecolor": "#EBF0F8",
            "showbackground": true,
            "ticks": "",
            "zerolinecolor": "#EBF0F8"
           }
          },
          "shapedefaults": {
           "line": {
            "color": "#2a3f5f"
           }
          },
          "ternary": {
           "aaxis": {
            "gridcolor": "#DFE8F3",
            "linecolor": "#A2B1C6",
            "ticks": ""
           },
           "baxis": {
            "gridcolor": "#DFE8F3",
            "linecolor": "#A2B1C6",
            "ticks": ""
           },
           "bgcolor": "white",
           "caxis": {
            "gridcolor": "#DFE8F3",
            "linecolor": "#A2B1C6",
            "ticks": ""
           }
          },
          "title": {
           "x": 0.05
          },
          "xaxis": {
           "automargin": true,
           "gridcolor": "#EBF0F8",
           "linecolor": "#EBF0F8",
           "ticks": "",
           "title": {
            "standoff": 15
           },
           "zerolinecolor": "#EBF0F8",
           "zerolinewidth": 2
          },
          "yaxis": {
           "automargin": true,
           "gridcolor": "#EBF0F8",
           "linecolor": "#EBF0F8",
           "ticks": "",
           "title": {
            "standoff": 15
           },
           "zerolinecolor": "#EBF0F8",
           "zerolinewidth": 2
          }
         }
        },
        "title": {
         "text": "Performance Metrics for Descriptors"
        },
        "xaxis": {
         "anchor": "y",
         "categoryorder": "total descending",
         "domain": [
          0,
          0.49
         ],
         "title": {
          "text": "Descriptor"
         }
        },
        "xaxis2": {
         "anchor": "y2",
         "domain": [
          0.51,
          1
         ],
         "matches": "x",
         "title": {
          "text": "Descriptor"
         }
        },
        "yaxis": {
         "anchor": "x",
         "domain": [
          0,
          1
         ],
         "range": [
          0,
          0.6
         ],
         "title": {
          "text": "Score"
         }
        },
        "yaxis2": {
         "anchor": "x2",
         "domain": [
          0,
          1
         ],
         "matches": "y",
         "showticklabels": false
        }
       }
      }
     },
     "metadata": {},
     "output_type": "display_data"
    }
   ],
   "source": [
    "# Data for the descriptors and their performance metrics\n",
    "data = {\n",
    "    'Descriptor': [\n",
    "        'ORB', 'SIFT', 'Harris+BRIEF', 'AKAZE', 'BRISK', \n",
    "        'ResNet50', 'VGG16', 'MobileNetV2', 'EfficientNetB0'\n",
    "    ],\n",
    "    'Precision@5': [0.2000, 0.2800, 0.2769, 0.2000, 0.2571, 0.4167, 0.5520, 0.4000, 0.3130],\n",
    "    'Precision@10': [0.1200, 0.1750, 0.1667, 0.1200, 0.1857, 0.1500, 0.3714, 0.2083, 0.2000],\n",
    "    'Precision@20': [0.0583, 0.0889, 0.0909, 0.0938, 0.1000, 0.0875, 0.1571, 0.1429, 0.1222],\n",
    "    'mAP': [0.0170, 0.0485, 0.0407, 0.0285, 0.0308, 0.0402, 0.0938, 0.0875, 0.0959]\n",
    "}\n",
    "\n",
    "# Convert the data into a DataFrame\n",
    "df = pd.DataFrame(data)\n",
    "\n",
    "# Add a new column to classify descriptors as 'Classical' or 'Holistic'\n",
    "df['Type'] = ['Classical', 'Classical', 'Classical', 'Classical', 'Classical', \n",
    "              'Holistic', 'Holistic', 'Holistic', 'Holistic']\n",
    "\n",
    "# Melt the DataFrame to structure it for Plotly Express\n",
    "df_melted = df.melt(id_vars=['Descriptor', 'Type'], var_name='Metric', value_name='Value')\n",
    "\n",
    "# Create a grouped bar plot using Plotly Express\n",
    "fig = px.bar(\n",
    "    df_melted,\n",
    "    x='Descriptor',\n",
    "    y='Value',\n",
    "    color='Metric',\n",
    "    barmode='group',\n",
    "    title='Performance Metrics for Descriptors',\n",
    "    labels={'Value': 'Score', 'Descriptor': 'Descriptor'},\n",
    "    text='Value',\n",
    "    facet_col='Type',  # Separate Classical and Holistic descriptors\n",
    "    # color_discrete_sequence=px.colors.qualitative.Set1  # Use distinct colors\n",
    ")\n",
    "\n",
    "# Update layout for better readability\n",
    "fig.update_layout(\n",
    "    template='plotly_white',\n",
    "    yaxis=dict(title='Score', range=[0, 0.6]),\n",
    "    legend_title='Metric',\n",
    "    xaxis={'categoryorder': 'total descending'},\n",
    ")\n",
    "\n",
    "# Display the plot\n",
    "fig.show()\n"
   ]
  },
  {
   "cell_type": "code",
   "execution_count": 141,
   "metadata": {},
   "outputs": [
    {
     "data": {
      "application/vnd.plotly.v1+json": {
       "config": {
        "plotlyServerURL": "https://plot.ly"
       },
       "data": [
        {
         "alignmentgroup": "True",
         "hovertemplate": "Metric=Precision@5<br>Descriptor=%{x}<br>Score=%{text}<extra></extra>",
         "legendgroup": "Precision@5",
         "marker": {
          "color": "#636efa",
          "pattern": {
           "shape": ""
          }
         },
         "name": "Precision@5",
         "offsetgroup": "Precision@5",
         "orientation": "v",
         "showlegend": true,
         "text": [
          0.4167,
          0.552,
          0.4,
          0.313
         ],
         "textposition": "auto",
         "type": "bar",
         "x": [
          "ResNet50",
          "VGG16",
          "MobileNetV2",
          "EfficientNetB0"
         ],
         "xaxis": "x",
         "y": [
          0.4167,
          0.552,
          0.4,
          0.313
         ],
         "yaxis": "y"
        },
        {
         "alignmentgroup": "True",
         "hovertemplate": "Metric=Precision@10<br>Descriptor=%{x}<br>Score=%{text}<extra></extra>",
         "legendgroup": "Precision@10",
         "marker": {
          "color": "#EF553B",
          "pattern": {
           "shape": ""
          }
         },
         "name": "Precision@10",
         "offsetgroup": "Precision@10",
         "orientation": "v",
         "showlegend": true,
         "text": [
          0.15,
          0.3714,
          0.2083,
          0.2
         ],
         "textposition": "auto",
         "type": "bar",
         "x": [
          "ResNet50",
          "VGG16",
          "MobileNetV2",
          "EfficientNetB0"
         ],
         "xaxis": "x",
         "y": [
          0.15,
          0.3714,
          0.2083,
          0.2
         ],
         "yaxis": "y"
        },
        {
         "alignmentgroup": "True",
         "hovertemplate": "Metric=Precision@20<br>Descriptor=%{x}<br>Score=%{text}<extra></extra>",
         "legendgroup": "Precision@20",
         "marker": {
          "color": "#00cc96",
          "pattern": {
           "shape": ""
          }
         },
         "name": "Precision@20",
         "offsetgroup": "Precision@20",
         "orientation": "v",
         "showlegend": true,
         "text": [
          0.0875,
          0.1571,
          0.1429,
          0.1222
         ],
         "textposition": "auto",
         "type": "bar",
         "x": [
          "ResNet50",
          "VGG16",
          "MobileNetV2",
          "EfficientNetB0"
         ],
         "xaxis": "x",
         "y": [
          0.0875,
          0.1571,
          0.1429,
          0.1222
         ],
         "yaxis": "y"
        },
        {
         "alignmentgroup": "True",
         "hovertemplate": "Metric=mAP<br>Descriptor=%{x}<br>Score=%{text}<extra></extra>",
         "legendgroup": "mAP",
         "marker": {
          "color": "#ab63fa",
          "pattern": {
           "shape": ""
          }
         },
         "name": "mAP",
         "offsetgroup": "mAP",
         "orientation": "v",
         "showlegend": true,
         "text": [
          0.0402,
          0.0938,
          0.0875,
          0.0959
         ],
         "textposition": "auto",
         "type": "bar",
         "x": [
          "ResNet50",
          "VGG16",
          "MobileNetV2",
          "EfficientNetB0"
         ],
         "xaxis": "x",
         "y": [
          0.0402,
          0.0938,
          0.0875,
          0.0959
         ],
         "yaxis": "y"
        }
       ],
       "layout": {
        "barmode": "group",
        "legend": {
         "title": {
          "text": "Metric"
         },
         "tracegroupgap": 0
        },
        "margin": {
         "t": 60
        },
        "template": {
         "data": {
          "bar": [
           {
            "error_x": {
             "color": "#2a3f5f"
            },
            "error_y": {
             "color": "#2a3f5f"
            },
            "marker": {
             "line": {
              "color": "white",
              "width": 0.5
             },
             "pattern": {
              "fillmode": "overlay",
              "size": 10,
              "solidity": 0.2
             }
            },
            "type": "bar"
           }
          ],
          "barpolar": [
           {
            "marker": {
             "line": {
              "color": "white",
              "width": 0.5
             },
             "pattern": {
              "fillmode": "overlay",
              "size": 10,
              "solidity": 0.2
             }
            },
            "type": "barpolar"
           }
          ],
          "carpet": [
           {
            "aaxis": {
             "endlinecolor": "#2a3f5f",
             "gridcolor": "#C8D4E3",
             "linecolor": "#C8D4E3",
             "minorgridcolor": "#C8D4E3",
             "startlinecolor": "#2a3f5f"
            },
            "baxis": {
             "endlinecolor": "#2a3f5f",
             "gridcolor": "#C8D4E3",
             "linecolor": "#C8D4E3",
             "minorgridcolor": "#C8D4E3",
             "startlinecolor": "#2a3f5f"
            },
            "type": "carpet"
           }
          ],
          "choropleth": [
           {
            "colorbar": {
             "outlinewidth": 0,
             "ticks": ""
            },
            "type": "choropleth"
           }
          ],
          "contour": [
           {
            "colorbar": {
             "outlinewidth": 0,
             "ticks": ""
            },
            "colorscale": [
             [
              0,
              "#0d0887"
             ],
             [
              0.1111111111111111,
              "#46039f"
             ],
             [
              0.2222222222222222,
              "#7201a8"
             ],
             [
              0.3333333333333333,
              "#9c179e"
             ],
             [
              0.4444444444444444,
              "#bd3786"
             ],
             [
              0.5555555555555556,
              "#d8576b"
             ],
             [
              0.6666666666666666,
              "#ed7953"
             ],
             [
              0.7777777777777778,
              "#fb9f3a"
             ],
             [
              0.8888888888888888,
              "#fdca26"
             ],
             [
              1,
              "#f0f921"
             ]
            ],
            "type": "contour"
           }
          ],
          "contourcarpet": [
           {
            "colorbar": {
             "outlinewidth": 0,
             "ticks": ""
            },
            "type": "contourcarpet"
           }
          ],
          "heatmap": [
           {
            "colorbar": {
             "outlinewidth": 0,
             "ticks": ""
            },
            "colorscale": [
             [
              0,
              "#0d0887"
             ],
             [
              0.1111111111111111,
              "#46039f"
             ],
             [
              0.2222222222222222,
              "#7201a8"
             ],
             [
              0.3333333333333333,
              "#9c179e"
             ],
             [
              0.4444444444444444,
              "#bd3786"
             ],
             [
              0.5555555555555556,
              "#d8576b"
             ],
             [
              0.6666666666666666,
              "#ed7953"
             ],
             [
              0.7777777777777778,
              "#fb9f3a"
             ],
             [
              0.8888888888888888,
              "#fdca26"
             ],
             [
              1,
              "#f0f921"
             ]
            ],
            "type": "heatmap"
           }
          ],
          "heatmapgl": [
           {
            "colorbar": {
             "outlinewidth": 0,
             "ticks": ""
            },
            "colorscale": [
             [
              0,
              "#0d0887"
             ],
             [
              0.1111111111111111,
              "#46039f"
             ],
             [
              0.2222222222222222,
              "#7201a8"
             ],
             [
              0.3333333333333333,
              "#9c179e"
             ],
             [
              0.4444444444444444,
              "#bd3786"
             ],
             [
              0.5555555555555556,
              "#d8576b"
             ],
             [
              0.6666666666666666,
              "#ed7953"
             ],
             [
              0.7777777777777778,
              "#fb9f3a"
             ],
             [
              0.8888888888888888,
              "#fdca26"
             ],
             [
              1,
              "#f0f921"
             ]
            ],
            "type": "heatmapgl"
           }
          ],
          "histogram": [
           {
            "marker": {
             "pattern": {
              "fillmode": "overlay",
              "size": 10,
              "solidity": 0.2
             }
            },
            "type": "histogram"
           }
          ],
          "histogram2d": [
           {
            "colorbar": {
             "outlinewidth": 0,
             "ticks": ""
            },
            "colorscale": [
             [
              0,
              "#0d0887"
             ],
             [
              0.1111111111111111,
              "#46039f"
             ],
             [
              0.2222222222222222,
              "#7201a8"
             ],
             [
              0.3333333333333333,
              "#9c179e"
             ],
             [
              0.4444444444444444,
              "#bd3786"
             ],
             [
              0.5555555555555556,
              "#d8576b"
             ],
             [
              0.6666666666666666,
              "#ed7953"
             ],
             [
              0.7777777777777778,
              "#fb9f3a"
             ],
             [
              0.8888888888888888,
              "#fdca26"
             ],
             [
              1,
              "#f0f921"
             ]
            ],
            "type": "histogram2d"
           }
          ],
          "histogram2dcontour": [
           {
            "colorbar": {
             "outlinewidth": 0,
             "ticks": ""
            },
            "colorscale": [
             [
              0,
              "#0d0887"
             ],
             [
              0.1111111111111111,
              "#46039f"
             ],
             [
              0.2222222222222222,
              "#7201a8"
             ],
             [
              0.3333333333333333,
              "#9c179e"
             ],
             [
              0.4444444444444444,
              "#bd3786"
             ],
             [
              0.5555555555555556,
              "#d8576b"
             ],
             [
              0.6666666666666666,
              "#ed7953"
             ],
             [
              0.7777777777777778,
              "#fb9f3a"
             ],
             [
              0.8888888888888888,
              "#fdca26"
             ],
             [
              1,
              "#f0f921"
             ]
            ],
            "type": "histogram2dcontour"
           }
          ],
          "mesh3d": [
           {
            "colorbar": {
             "outlinewidth": 0,
             "ticks": ""
            },
            "type": "mesh3d"
           }
          ],
          "parcoords": [
           {
            "line": {
             "colorbar": {
              "outlinewidth": 0,
              "ticks": ""
             }
            },
            "type": "parcoords"
           }
          ],
          "pie": [
           {
            "automargin": true,
            "type": "pie"
           }
          ],
          "scatter": [
           {
            "fillpattern": {
             "fillmode": "overlay",
             "size": 10,
             "solidity": 0.2
            },
            "type": "scatter"
           }
          ],
          "scatter3d": [
           {
            "line": {
             "colorbar": {
              "outlinewidth": 0,
              "ticks": ""
             }
            },
            "marker": {
             "colorbar": {
              "outlinewidth": 0,
              "ticks": ""
             }
            },
            "type": "scatter3d"
           }
          ],
          "scattercarpet": [
           {
            "marker": {
             "colorbar": {
              "outlinewidth": 0,
              "ticks": ""
             }
            },
            "type": "scattercarpet"
           }
          ],
          "scattergeo": [
           {
            "marker": {
             "colorbar": {
              "outlinewidth": 0,
              "ticks": ""
             }
            },
            "type": "scattergeo"
           }
          ],
          "scattergl": [
           {
            "marker": {
             "colorbar": {
              "outlinewidth": 0,
              "ticks": ""
             }
            },
            "type": "scattergl"
           }
          ],
          "scattermapbox": [
           {
            "marker": {
             "colorbar": {
              "outlinewidth": 0,
              "ticks": ""
             }
            },
            "type": "scattermapbox"
           }
          ],
          "scatterpolar": [
           {
            "marker": {
             "colorbar": {
              "outlinewidth": 0,
              "ticks": ""
             }
            },
            "type": "scatterpolar"
           }
          ],
          "scatterpolargl": [
           {
            "marker": {
             "colorbar": {
              "outlinewidth": 0,
              "ticks": ""
             }
            },
            "type": "scatterpolargl"
           }
          ],
          "scatterternary": [
           {
            "marker": {
             "colorbar": {
              "outlinewidth": 0,
              "ticks": ""
             }
            },
            "type": "scatterternary"
           }
          ],
          "surface": [
           {
            "colorbar": {
             "outlinewidth": 0,
             "ticks": ""
            },
            "colorscale": [
             [
              0,
              "#0d0887"
             ],
             [
              0.1111111111111111,
              "#46039f"
             ],
             [
              0.2222222222222222,
              "#7201a8"
             ],
             [
              0.3333333333333333,
              "#9c179e"
             ],
             [
              0.4444444444444444,
              "#bd3786"
             ],
             [
              0.5555555555555556,
              "#d8576b"
             ],
             [
              0.6666666666666666,
              "#ed7953"
             ],
             [
              0.7777777777777778,
              "#fb9f3a"
             ],
             [
              0.8888888888888888,
              "#fdca26"
             ],
             [
              1,
              "#f0f921"
             ]
            ],
            "type": "surface"
           }
          ],
          "table": [
           {
            "cells": {
             "fill": {
              "color": "#EBF0F8"
             },
             "line": {
              "color": "white"
             }
            },
            "header": {
             "fill": {
              "color": "#C8D4E3"
             },
             "line": {
              "color": "white"
             }
            },
            "type": "table"
           }
          ]
         },
         "layout": {
          "annotationdefaults": {
           "arrowcolor": "#2a3f5f",
           "arrowhead": 0,
           "arrowwidth": 1
          },
          "autotypenumbers": "strict",
          "coloraxis": {
           "colorbar": {
            "outlinewidth": 0,
            "ticks": ""
           }
          },
          "colorscale": {
           "diverging": [
            [
             0,
             "#8e0152"
            ],
            [
             0.1,
             "#c51b7d"
            ],
            [
             0.2,
             "#de77ae"
            ],
            [
             0.3,
             "#f1b6da"
            ],
            [
             0.4,
             "#fde0ef"
            ],
            [
             0.5,
             "#f7f7f7"
            ],
            [
             0.6,
             "#e6f5d0"
            ],
            [
             0.7,
             "#b8e186"
            ],
            [
             0.8,
             "#7fbc41"
            ],
            [
             0.9,
             "#4d9221"
            ],
            [
             1,
             "#276419"
            ]
           ],
           "sequential": [
            [
             0,
             "#0d0887"
            ],
            [
             0.1111111111111111,
             "#46039f"
            ],
            [
             0.2222222222222222,
             "#7201a8"
            ],
            [
             0.3333333333333333,
             "#9c179e"
            ],
            [
             0.4444444444444444,
             "#bd3786"
            ],
            [
             0.5555555555555556,
             "#d8576b"
            ],
            [
             0.6666666666666666,
             "#ed7953"
            ],
            [
             0.7777777777777778,
             "#fb9f3a"
            ],
            [
             0.8888888888888888,
             "#fdca26"
            ],
            [
             1,
             "#f0f921"
            ]
           ],
           "sequentialminus": [
            [
             0,
             "#0d0887"
            ],
            [
             0.1111111111111111,
             "#46039f"
            ],
            [
             0.2222222222222222,
             "#7201a8"
            ],
            [
             0.3333333333333333,
             "#9c179e"
            ],
            [
             0.4444444444444444,
             "#bd3786"
            ],
            [
             0.5555555555555556,
             "#d8576b"
            ],
            [
             0.6666666666666666,
             "#ed7953"
            ],
            [
             0.7777777777777778,
             "#fb9f3a"
            ],
            [
             0.8888888888888888,
             "#fdca26"
            ],
            [
             1,
             "#f0f921"
            ]
           ]
          },
          "colorway": [
           "#636efa",
           "#EF553B",
           "#00cc96",
           "#ab63fa",
           "#FFA15A",
           "#19d3f3",
           "#FF6692",
           "#B6E880",
           "#FF97FF",
           "#FECB52"
          ],
          "font": {
           "color": "#2a3f5f"
          },
          "geo": {
           "bgcolor": "white",
           "lakecolor": "white",
           "landcolor": "white",
           "showlakes": true,
           "showland": true,
           "subunitcolor": "#C8D4E3"
          },
          "hoverlabel": {
           "align": "left"
          },
          "hovermode": "closest",
          "mapbox": {
           "style": "light"
          },
          "paper_bgcolor": "white",
          "plot_bgcolor": "white",
          "polar": {
           "angularaxis": {
            "gridcolor": "#EBF0F8",
            "linecolor": "#EBF0F8",
            "ticks": ""
           },
           "bgcolor": "white",
           "radialaxis": {
            "gridcolor": "#EBF0F8",
            "linecolor": "#EBF0F8",
            "ticks": ""
           }
          },
          "scene": {
           "xaxis": {
            "backgroundcolor": "white",
            "gridcolor": "#DFE8F3",
            "gridwidth": 2,
            "linecolor": "#EBF0F8",
            "showbackground": true,
            "ticks": "",
            "zerolinecolor": "#EBF0F8"
           },
           "yaxis": {
            "backgroundcolor": "white",
            "gridcolor": "#DFE8F3",
            "gridwidth": 2,
            "linecolor": "#EBF0F8",
            "showbackground": true,
            "ticks": "",
            "zerolinecolor": "#EBF0F8"
           },
           "zaxis": {
            "backgroundcolor": "white",
            "gridcolor": "#DFE8F3",
            "gridwidth": 2,
            "linecolor": "#EBF0F8",
            "showbackground": true,
            "ticks": "",
            "zerolinecolor": "#EBF0F8"
           }
          },
          "shapedefaults": {
           "line": {
            "color": "#2a3f5f"
           }
          },
          "ternary": {
           "aaxis": {
            "gridcolor": "#DFE8F3",
            "linecolor": "#A2B1C6",
            "ticks": ""
           },
           "baxis": {
            "gridcolor": "#DFE8F3",
            "linecolor": "#A2B1C6",
            "ticks": ""
           },
           "bgcolor": "white",
           "caxis": {
            "gridcolor": "#DFE8F3",
            "linecolor": "#A2B1C6",
            "ticks": ""
           }
          },
          "title": {
           "x": 0.05
          },
          "xaxis": {
           "automargin": true,
           "gridcolor": "#EBF0F8",
           "linecolor": "#EBF0F8",
           "ticks": "",
           "title": {
            "standoff": 15
           },
           "zerolinecolor": "#EBF0F8",
           "zerolinewidth": 2
          },
          "yaxis": {
           "automargin": true,
           "gridcolor": "#EBF0F8",
           "linecolor": "#EBF0F8",
           "ticks": "",
           "title": {
            "standoff": 15
           },
           "zerolinecolor": "#EBF0F8",
           "zerolinewidth": 2
          }
         }
        },
        "width": 800,
        "xaxis": {
         "anchor": "y",
         "categoryorder": "total descending",
         "domain": [
          0,
          1
         ],
         "title": {
          "text": "Descriptor"
         }
        },
        "yaxis": {
         "anchor": "x",
         "domain": [
          0,
          1
         ],
         "range": [
          0,
          0.6
         ],
         "title": {
          "text": "Score"
         }
        }
       }
      }
     },
     "metadata": {},
     "output_type": "display_data"
    }
   ],
   "source": [
    "# Data for the descriptors and their performance metrics\n",
    "# Data for the descriptors\n",
    "data_classical = {\n",
    "    'Descriptor': ['ORB', 'SIFT', 'Harris+BRIEF', 'AKAZE', 'BRISK'],\n",
    "    'Precision@5': [0.2000, 0.2800, 0.2769, 0.2000, 0.2571],\n",
    "    'Precision@10': [0.1200, 0.1750, 0.1667, 0.1200, 0.1857],\n",
    "    'Precision@20': [0.0583, 0.0889, 0.0909, 0.0938, 0.1000],\n",
    "    'mAP': [0.0170, 0.0485, 0.0407, 0.0285, 0.0308]\n",
    "}\n",
    "\n",
    "data_holistic = {\n",
    "    'Descriptor': ['ResNet50', 'VGG16', 'MobileNetV2', 'EfficientNetB0'],\n",
    "    'Precision@5': [0.4167, 0.5520, 0.4000, 0.3130],\n",
    "    'Precision@10': [0.1500, 0.3714, 0.2083, 0.2000],\n",
    "    'Precision@20': [0.0875, 0.1571, 0.1429, 0.1222],\n",
    "    'mAP': [0.0402, 0.0938, 0.0875, 0.0959]\n",
    "}\n",
    "data=data_holistic\n",
    "\n",
    "# Convert the data into a DataFrame\n",
    "df = pd.DataFrame(data)\n",
    "\n",
    "# Add a new column to classify descriptors as 'Classical' or 'Holistic'\n",
    "# df['Type'] = ['Classical', 'Classical', 'Classical', 'Classical', 'Classical', \n",
    "#               'Holistic', 'Holistic', 'Holistic', 'Holistic']\n",
    "\n",
    "# Melt the DataFrame to structure it for Plotly Express\n",
    "df_melted = df.melt(id_vars=['Descriptor'], var_name='Metric', value_name='Value')\n",
    "\n",
    "# Create a grouped bar plot using Plotly Express\n",
    "fig = px.bar(\n",
    "    df_melted,\n",
    "    x='Descriptor',\n",
    "    y='Value',\n",
    "    color='Metric',\n",
    "    barmode='group',\n",
    "    # title='Performance Metrics for Descriptors',\n",
    "    labels={'Value': 'Score', 'Descriptor': 'Descriptor'},\n",
    "    text='Value',\n",
    "    # facet_col='Type',  # Separate Classical and Holistic descriptors\n",
    "    # color_discrete_sequence=px.colors.qualitative.Set1  # Use distinct colors\n",
    ")\n",
    "\n",
    "# Update layout for better readability\n",
    "fig.update_layout(\n",
    "    template='plotly_white',\n",
    "    yaxis=dict(title='Score', range=[0, 0.6]),\n",
    "    legend_title='Metric',\n",
    "    xaxis={'categoryorder': 'total descending'},\n",
    "    width=800  # Set width of the figure to half\n",
    ")\n",
    "\n",
    "# Display the plot\n",
    "fig.show()\n"
   ]
  },
  {
   "cell_type": "code",
   "execution_count": 132,
   "metadata": {},
   "outputs": [
    {
     "name": "stdout",
     "output_type": "stream",
     "text": [
      "(Scatter({\n",
      "    'customdata': array([['ORB'],\n",
      "                         ['SIFT'],\n",
      "                         ['Harris+BRIEF'],\n",
      "                         ['AKAZE'],\n",
      "                         ['BRISK']], dtype=object),\n",
      "    'hovertemplate': ('Type=Classical<br>Total Time (' ... '{customdata[0]}<extra></extra>'),\n",
      "    'legendgroup': 'Classical',\n",
      "    'marker': {'color': '#636efa', 'symbol': 'circle'},\n",
      "    'mode': 'markers+text',\n",
      "    'name': 'Classical',\n",
      "    'orientation': 'v',\n",
      "    'showlegend': True,\n",
      "    'text': array(['ORB', 'SIFT', 'Harris+BRIEF', 'AKAZE', 'BRISK'], dtype=object),\n",
      "    'textfont': {'size': 10},\n",
      "    'textposition': 'top right',\n",
      "    'x': array([212.6002, 518.0993,  76.867 ,  16.5483,  70.0745]),\n",
      "    'xaxis': 'x',\n",
      "    'y': array([0.017 , 0.0485, 0.0407, 0.0285, 0.0308]),\n",
      "    'yaxis': 'y'\n",
      "}), Scatter({\n",
      "    'customdata': array([['ResNet50'],\n",
      "                         ['VGG16'],\n",
      "                         ['MobileNetV2'],\n",
      "                         ['EfficientNetB0']], dtype=object),\n",
      "    'hovertemplate': ('Type=Holistic<br>Total Time (s' ... '{customdata[0]}<extra></extra>'),\n",
      "    'legendgroup': 'Holistic',\n",
      "    'marker': {'color': '#EF553B', 'symbol': 'circle'},\n",
      "    'mode': 'markers+text',\n",
      "    'name': 'Holistic',\n",
      "    'orientation': 'v',\n",
      "    'showlegend': True,\n",
      "    'text': array(['ResNet50', 'VGG16', 'MobileNetV2', 'EfficientNetB0'], dtype=object),\n",
      "    'textfont': {'size': 10},\n",
      "    'textposition': 'top right',\n",
      "    'x': array([ 74.372 , 166.6985,  78.4438, 311.5985]),\n",
      "    'xaxis': 'x',\n",
      "    'y': array([0.0402, 0.0938, 0.0875, 0.0959]),\n",
      "    'yaxis': 'y'\n",
      "}))\n"
     ]
    },
    {
     "data": {
      "application/vnd.plotly.v1+json": {
       "config": {
        "plotlyServerURL": "https://plot.ly"
       },
       "data": [
        {
         "customdata": [
          [
           "ORB"
          ],
          [
           "SIFT"
          ],
          [
           "Harris+BRIEF"
          ],
          [
           "AKAZE"
          ],
          [
           "BRISK"
          ]
         ],
         "hovertemplate": "Type=Classical<br>Total Time (s)=%{x}<br>Mean Average Precision (mAP)=%{y}<br>Descriptor=%{customdata[0]}<extra></extra>",
         "legendgroup": "Classical",
         "marker": {
          "color": "#636efa",
          "symbol": "circle"
         },
         "mode": "markers+text",
         "name": "Classical",
         "orientation": "v",
         "showlegend": true,
         "text": [
          "ORB",
          "SIFT",
          "Harris+BRIEF",
          "AKAZE",
          "BRISK"
         ],
         "textfont": {
          "size": 10
         },
         "textposition": "top right",
         "type": "scatter",
         "x": [
          212.6002,
          518.0993,
          76.867,
          16.5483,
          70.0745
         ],
         "xaxis": "x",
         "y": [
          0.017,
          0.0485,
          0.0407,
          0.0285,
          0.0308
         ],
         "yaxis": "y"
        },
        {
         "customdata": [
          [
           "ResNet50"
          ],
          [
           "VGG16"
          ],
          [
           "MobileNetV2"
          ],
          [
           "EfficientNetB0"
          ]
         ],
         "hovertemplate": "Type=Holistic<br>Total Time (s)=%{x}<br>Mean Average Precision (mAP)=%{y}<br>Descriptor=%{customdata[0]}<extra></extra>",
         "legendgroup": "Holistic",
         "marker": {
          "color": "#EF553B",
          "symbol": "circle"
         },
         "mode": "markers+text",
         "name": "Holistic",
         "orientation": "v",
         "showlegend": true,
         "text": [
          "ResNet50",
          "VGG16",
          "MobileNetV2",
          "EfficientNetB0"
         ],
         "textfont": {
          "size": 10
         },
         "textposition": "middle left",
         "type": "scatter",
         "x": [
          74.372,
          166.6985,
          78.4438,
          311.5985
         ],
         "xaxis": "x",
         "y": [
          0.0402,
          0.0938,
          0.0875,
          0.0959
         ],
         "yaxis": "y"
        }
       ],
       "layout": {
        "legend": {
         "title": {
          "text": "Descriptor Type"
         },
         "tracegroupgap": 0
        },
        "margin": {
         "t": 60
        },
        "template": {
         "data": {
          "bar": [
           {
            "error_x": {
             "color": "#2a3f5f"
            },
            "error_y": {
             "color": "#2a3f5f"
            },
            "marker": {
             "line": {
              "color": "white",
              "width": 0.5
             },
             "pattern": {
              "fillmode": "overlay",
              "size": 10,
              "solidity": 0.2
             }
            },
            "type": "bar"
           }
          ],
          "barpolar": [
           {
            "marker": {
             "line": {
              "color": "white",
              "width": 0.5
             },
             "pattern": {
              "fillmode": "overlay",
              "size": 10,
              "solidity": 0.2
             }
            },
            "type": "barpolar"
           }
          ],
          "carpet": [
           {
            "aaxis": {
             "endlinecolor": "#2a3f5f",
             "gridcolor": "#C8D4E3",
             "linecolor": "#C8D4E3",
             "minorgridcolor": "#C8D4E3",
             "startlinecolor": "#2a3f5f"
            },
            "baxis": {
             "endlinecolor": "#2a3f5f",
             "gridcolor": "#C8D4E3",
             "linecolor": "#C8D4E3",
             "minorgridcolor": "#C8D4E3",
             "startlinecolor": "#2a3f5f"
            },
            "type": "carpet"
           }
          ],
          "choropleth": [
           {
            "colorbar": {
             "outlinewidth": 0,
             "ticks": ""
            },
            "type": "choropleth"
           }
          ],
          "contour": [
           {
            "colorbar": {
             "outlinewidth": 0,
             "ticks": ""
            },
            "colorscale": [
             [
              0,
              "#0d0887"
             ],
             [
              0.1111111111111111,
              "#46039f"
             ],
             [
              0.2222222222222222,
              "#7201a8"
             ],
             [
              0.3333333333333333,
              "#9c179e"
             ],
             [
              0.4444444444444444,
              "#bd3786"
             ],
             [
              0.5555555555555556,
              "#d8576b"
             ],
             [
              0.6666666666666666,
              "#ed7953"
             ],
             [
              0.7777777777777778,
              "#fb9f3a"
             ],
             [
              0.8888888888888888,
              "#fdca26"
             ],
             [
              1,
              "#f0f921"
             ]
            ],
            "type": "contour"
           }
          ],
          "contourcarpet": [
           {
            "colorbar": {
             "outlinewidth": 0,
             "ticks": ""
            },
            "type": "contourcarpet"
           }
          ],
          "heatmap": [
           {
            "colorbar": {
             "outlinewidth": 0,
             "ticks": ""
            },
            "colorscale": [
             [
              0,
              "#0d0887"
             ],
             [
              0.1111111111111111,
              "#46039f"
             ],
             [
              0.2222222222222222,
              "#7201a8"
             ],
             [
              0.3333333333333333,
              "#9c179e"
             ],
             [
              0.4444444444444444,
              "#bd3786"
             ],
             [
              0.5555555555555556,
              "#d8576b"
             ],
             [
              0.6666666666666666,
              "#ed7953"
             ],
             [
              0.7777777777777778,
              "#fb9f3a"
             ],
             [
              0.8888888888888888,
              "#fdca26"
             ],
             [
              1,
              "#f0f921"
             ]
            ],
            "type": "heatmap"
           }
          ],
          "heatmapgl": [
           {
            "colorbar": {
             "outlinewidth": 0,
             "ticks": ""
            },
            "colorscale": [
             [
              0,
              "#0d0887"
             ],
             [
              0.1111111111111111,
              "#46039f"
             ],
             [
              0.2222222222222222,
              "#7201a8"
             ],
             [
              0.3333333333333333,
              "#9c179e"
             ],
             [
              0.4444444444444444,
              "#bd3786"
             ],
             [
              0.5555555555555556,
              "#d8576b"
             ],
             [
              0.6666666666666666,
              "#ed7953"
             ],
             [
              0.7777777777777778,
              "#fb9f3a"
             ],
             [
              0.8888888888888888,
              "#fdca26"
             ],
             [
              1,
              "#f0f921"
             ]
            ],
            "type": "heatmapgl"
           }
          ],
          "histogram": [
           {
            "marker": {
             "pattern": {
              "fillmode": "overlay",
              "size": 10,
              "solidity": 0.2
             }
            },
            "type": "histogram"
           }
          ],
          "histogram2d": [
           {
            "colorbar": {
             "outlinewidth": 0,
             "ticks": ""
            },
            "colorscale": [
             [
              0,
              "#0d0887"
             ],
             [
              0.1111111111111111,
              "#46039f"
             ],
             [
              0.2222222222222222,
              "#7201a8"
             ],
             [
              0.3333333333333333,
              "#9c179e"
             ],
             [
              0.4444444444444444,
              "#bd3786"
             ],
             [
              0.5555555555555556,
              "#d8576b"
             ],
             [
              0.6666666666666666,
              "#ed7953"
             ],
             [
              0.7777777777777778,
              "#fb9f3a"
             ],
             [
              0.8888888888888888,
              "#fdca26"
             ],
             [
              1,
              "#f0f921"
             ]
            ],
            "type": "histogram2d"
           }
          ],
          "histogram2dcontour": [
           {
            "colorbar": {
             "outlinewidth": 0,
             "ticks": ""
            },
            "colorscale": [
             [
              0,
              "#0d0887"
             ],
             [
              0.1111111111111111,
              "#46039f"
             ],
             [
              0.2222222222222222,
              "#7201a8"
             ],
             [
              0.3333333333333333,
              "#9c179e"
             ],
             [
              0.4444444444444444,
              "#bd3786"
             ],
             [
              0.5555555555555556,
              "#d8576b"
             ],
             [
              0.6666666666666666,
              "#ed7953"
             ],
             [
              0.7777777777777778,
              "#fb9f3a"
             ],
             [
              0.8888888888888888,
              "#fdca26"
             ],
             [
              1,
              "#f0f921"
             ]
            ],
            "type": "histogram2dcontour"
           }
          ],
          "mesh3d": [
           {
            "colorbar": {
             "outlinewidth": 0,
             "ticks": ""
            },
            "type": "mesh3d"
           }
          ],
          "parcoords": [
           {
            "line": {
             "colorbar": {
              "outlinewidth": 0,
              "ticks": ""
             }
            },
            "type": "parcoords"
           }
          ],
          "pie": [
           {
            "automargin": true,
            "type": "pie"
           }
          ],
          "scatter": [
           {
            "fillpattern": {
             "fillmode": "overlay",
             "size": 10,
             "solidity": 0.2
            },
            "type": "scatter"
           }
          ],
          "scatter3d": [
           {
            "line": {
             "colorbar": {
              "outlinewidth": 0,
              "ticks": ""
             }
            },
            "marker": {
             "colorbar": {
              "outlinewidth": 0,
              "ticks": ""
             }
            },
            "type": "scatter3d"
           }
          ],
          "scattercarpet": [
           {
            "marker": {
             "colorbar": {
              "outlinewidth": 0,
              "ticks": ""
             }
            },
            "type": "scattercarpet"
           }
          ],
          "scattergeo": [
           {
            "marker": {
             "colorbar": {
              "outlinewidth": 0,
              "ticks": ""
             }
            },
            "type": "scattergeo"
           }
          ],
          "scattergl": [
           {
            "marker": {
             "colorbar": {
              "outlinewidth": 0,
              "ticks": ""
             }
            },
            "type": "scattergl"
           }
          ],
          "scattermapbox": [
           {
            "marker": {
             "colorbar": {
              "outlinewidth": 0,
              "ticks": ""
             }
            },
            "type": "scattermapbox"
           }
          ],
          "scatterpolar": [
           {
            "marker": {
             "colorbar": {
              "outlinewidth": 0,
              "ticks": ""
             }
            },
            "type": "scatterpolar"
           }
          ],
          "scatterpolargl": [
           {
            "marker": {
             "colorbar": {
              "outlinewidth": 0,
              "ticks": ""
             }
            },
            "type": "scatterpolargl"
           }
          ],
          "scatterternary": [
           {
            "marker": {
             "colorbar": {
              "outlinewidth": 0,
              "ticks": ""
             }
            },
            "type": "scatterternary"
           }
          ],
          "surface": [
           {
            "colorbar": {
             "outlinewidth": 0,
             "ticks": ""
            },
            "colorscale": [
             [
              0,
              "#0d0887"
             ],
             [
              0.1111111111111111,
              "#46039f"
             ],
             [
              0.2222222222222222,
              "#7201a8"
             ],
             [
              0.3333333333333333,
              "#9c179e"
             ],
             [
              0.4444444444444444,
              "#bd3786"
             ],
             [
              0.5555555555555556,
              "#d8576b"
             ],
             [
              0.6666666666666666,
              "#ed7953"
             ],
             [
              0.7777777777777778,
              "#fb9f3a"
             ],
             [
              0.8888888888888888,
              "#fdca26"
             ],
             [
              1,
              "#f0f921"
             ]
            ],
            "type": "surface"
           }
          ],
          "table": [
           {
            "cells": {
             "fill": {
              "color": "#EBF0F8"
             },
             "line": {
              "color": "white"
             }
            },
            "header": {
             "fill": {
              "color": "#C8D4E3"
             },
             "line": {
              "color": "white"
             }
            },
            "type": "table"
           }
          ]
         },
         "layout": {
          "annotationdefaults": {
           "arrowcolor": "#2a3f5f",
           "arrowhead": 0,
           "arrowwidth": 1
          },
          "autotypenumbers": "strict",
          "coloraxis": {
           "colorbar": {
            "outlinewidth": 0,
            "ticks": ""
           }
          },
          "colorscale": {
           "diverging": [
            [
             0,
             "#8e0152"
            ],
            [
             0.1,
             "#c51b7d"
            ],
            [
             0.2,
             "#de77ae"
            ],
            [
             0.3,
             "#f1b6da"
            ],
            [
             0.4,
             "#fde0ef"
            ],
            [
             0.5,
             "#f7f7f7"
            ],
            [
             0.6,
             "#e6f5d0"
            ],
            [
             0.7,
             "#b8e186"
            ],
            [
             0.8,
             "#7fbc41"
            ],
            [
             0.9,
             "#4d9221"
            ],
            [
             1,
             "#276419"
            ]
           ],
           "sequential": [
            [
             0,
             "#0d0887"
            ],
            [
             0.1111111111111111,
             "#46039f"
            ],
            [
             0.2222222222222222,
             "#7201a8"
            ],
            [
             0.3333333333333333,
             "#9c179e"
            ],
            [
             0.4444444444444444,
             "#bd3786"
            ],
            [
             0.5555555555555556,
             "#d8576b"
            ],
            [
             0.6666666666666666,
             "#ed7953"
            ],
            [
             0.7777777777777778,
             "#fb9f3a"
            ],
            [
             0.8888888888888888,
             "#fdca26"
            ],
            [
             1,
             "#f0f921"
            ]
           ],
           "sequentialminus": [
            [
             0,
             "#0d0887"
            ],
            [
             0.1111111111111111,
             "#46039f"
            ],
            [
             0.2222222222222222,
             "#7201a8"
            ],
            [
             0.3333333333333333,
             "#9c179e"
            ],
            [
             0.4444444444444444,
             "#bd3786"
            ],
            [
             0.5555555555555556,
             "#d8576b"
            ],
            [
             0.6666666666666666,
             "#ed7953"
            ],
            [
             0.7777777777777778,
             "#fb9f3a"
            ],
            [
             0.8888888888888888,
             "#fdca26"
            ],
            [
             1,
             "#f0f921"
            ]
           ]
          },
          "colorway": [
           "#636efa",
           "#EF553B",
           "#00cc96",
           "#ab63fa",
           "#FFA15A",
           "#19d3f3",
           "#FF6692",
           "#B6E880",
           "#FF97FF",
           "#FECB52"
          ],
          "font": {
           "color": "#2a3f5f"
          },
          "geo": {
           "bgcolor": "white",
           "lakecolor": "white",
           "landcolor": "white",
           "showlakes": true,
           "showland": true,
           "subunitcolor": "#C8D4E3"
          },
          "hoverlabel": {
           "align": "left"
          },
          "hovermode": "closest",
          "mapbox": {
           "style": "light"
          },
          "paper_bgcolor": "white",
          "plot_bgcolor": "white",
          "polar": {
           "angularaxis": {
            "gridcolor": "#EBF0F8",
            "linecolor": "#EBF0F8",
            "ticks": ""
           },
           "bgcolor": "white",
           "radialaxis": {
            "gridcolor": "#EBF0F8",
            "linecolor": "#EBF0F8",
            "ticks": ""
           }
          },
          "scene": {
           "xaxis": {
            "backgroundcolor": "white",
            "gridcolor": "#DFE8F3",
            "gridwidth": 2,
            "linecolor": "#EBF0F8",
            "showbackground": true,
            "ticks": "",
            "zerolinecolor": "#EBF0F8"
           },
           "yaxis": {
            "backgroundcolor": "white",
            "gridcolor": "#DFE8F3",
            "gridwidth": 2,
            "linecolor": "#EBF0F8",
            "showbackground": true,
            "ticks": "",
            "zerolinecolor": "#EBF0F8"
           },
           "zaxis": {
            "backgroundcolor": "white",
            "gridcolor": "#DFE8F3",
            "gridwidth": 2,
            "linecolor": "#EBF0F8",
            "showbackground": true,
            "ticks": "",
            "zerolinecolor": "#EBF0F8"
           }
          },
          "shapedefaults": {
           "line": {
            "color": "#2a3f5f"
           }
          },
          "ternary": {
           "aaxis": {
            "gridcolor": "#DFE8F3",
            "linecolor": "#A2B1C6",
            "ticks": ""
           },
           "baxis": {
            "gridcolor": "#DFE8F3",
            "linecolor": "#A2B1C6",
            "ticks": ""
           },
           "bgcolor": "white",
           "caxis": {
            "gridcolor": "#DFE8F3",
            "linecolor": "#A2B1C6",
            "ticks": ""
           }
          },
          "title": {
           "x": 0.05
          },
          "xaxis": {
           "automargin": true,
           "gridcolor": "#EBF0F8",
           "linecolor": "#EBF0F8",
           "ticks": "",
           "title": {
            "standoff": 15
           },
           "zerolinecolor": "#EBF0F8",
           "zerolinewidth": 2
          },
          "yaxis": {
           "automargin": true,
           "gridcolor": "#EBF0F8",
           "linecolor": "#EBF0F8",
           "ticks": "",
           "title": {
            "standoff": 15
           },
           "zerolinecolor": "#EBF0F8",
           "zerolinewidth": 2
          }
         }
        },
        "width": 800,
        "xaxis": {
         "anchor": "y",
         "domain": [
          0,
          1
         ],
         "title": {
          "text": "Total Time (s)"
         }
        },
        "yaxis": {
         "anchor": "x",
         "domain": [
          0,
          1
         ],
         "range": [
          0,
          0.1
         ],
         "title": {
          "text": "Mean Average Precision (mAP)"
         }
        }
       }
      }
     },
     "metadata": {},
     "output_type": "display_data"
    }
   ],
   "source": [
    "# Data for the descriptors, their total time, and mAP\n",
    "data = {\n",
    "    'Descriptor': [\n",
    "        'ORB', 'SIFT', 'Harris+BRIEF', 'AKAZE', 'BRISK',\n",
    "        'ResNet50', 'VGG16', 'MobileNetV2', 'EfficientNetB0'\n",
    "    ],\n",
    "    'Total Time (s)': [\n",
    "        212.6002, 518.0993, 76.867, 16.5483, 70.0745, \n",
    "        74.372, 166.6985, 78.4438, 311.5985\n",
    "    ],\n",
    "    'mAP': [\n",
    "        0.0170, 0.0485, 0.0407, 0.0285, 0.0308, \n",
    "        0.0402, 0.0938, 0.0875, 0.0959\n",
    "    ],\n",
    "    'Type': [\n",
    "        'Classical', 'Classical', 'Classical', 'Classical', 'Classical', \n",
    "        'Holistic', 'Holistic', 'Holistic', 'Holistic'\n",
    "    ]\n",
    "}\n",
    "\n",
    "# Convert the data into a DataFrame\n",
    "df = pd.DataFrame(data)\n",
    "\n",
    "# Create a scatter plot using Plotly Express\n",
    "fig = px.scatter(\n",
    "    df,\n",
    "    x='Total Time (s)',\n",
    "    y='mAP',\n",
    "    color='Type',  # Different colors for classical vs holistic\n",
    "    # title='Total Time vs mAP for Descriptors',\n",
    "    labels={'Total Time (s)': 'Total Time (s)', 'mAP': 'Mean Average Precision (mAP)', 'Descriptor': 'Descriptor'},\n",
    "    hover_data=['Descriptor'],  # Show the descriptor name on hover\n",
    "    text='Descriptor',  # Display the descriptor name at each point\n",
    "    width=800  # Set width of the figure to half\n",
    ")\n",
    "\n",
    "# Adjust the text position for ResNet50\n",
    "fig.update_traces(\n",
    "    textposition='top right',  # Default position for other points\n",
    "    textfont=dict(size=10)\n",
    ")\n",
    "\n",
    "# For ResNet50, set the text position to 'bottom left'\n",
    "print(fig.data)\n",
    "# fig.data[5].update(textposition='bottom left')  # ResNet50 is at index 5\n",
    "fig.data[1].update(textposition='middle left')#, selector=dict(text=\"ResNet50\"))\n",
    "\n",
    "# Update layout for better readability\n",
    "fig.update_layout(\n",
    "    template='plotly_white',\n",
    "    xaxis=dict(title='Total Time (s)'),\n",
    "    yaxis=dict(title='Mean Average Precision (mAP)', range=[0, 0.1]),\n",
    "    legend_title='Descriptor Type'\n",
    ")\n",
    "\n",
    "# Display the plot\n",
    "fig.show()\n",
    "# fig.write_image(f\"documentation/time_vs_map.png\", scale=2)\n"
   ]
  }
 ],
 "metadata": {
  "kernelspec": {
   "display_name": "fir",
   "language": "python",
   "name": "python3"
  },
  "language_info": {
   "codemirror_mode": {
    "name": "ipython",
    "version": 3
   },
   "file_extension": ".py",
   "mimetype": "text/x-python",
   "name": "python",
   "nbconvert_exporter": "python",
   "pygments_lexer": "ipython3",
   "version": "3.12.6"
  }
 },
 "nbformat": 4,
 "nbformat_minor": 2
}
